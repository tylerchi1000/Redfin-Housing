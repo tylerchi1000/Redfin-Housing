{
 "cells": [
  {
   "cell_type": "code",
   "execution_count": 96,
   "metadata": {},
   "outputs": [],
   "source": [
    "import numpy as np\n",
    "import pandas as pd\n",
    "from datetime import datetime as dt\n",
    "import plotly.express as px\n",
    "import plotly.graph_objects as go\n",
    "import plotly.figure_factory as ff"
   ]
  },
  {
   "cell_type": "code",
   "execution_count": 97,
   "metadata": {},
   "outputs": [],
   "source": [
    "pd.set_option('display.max_columns', None)"
   ]
  },
  {
   "cell_type": "code",
   "execution_count": 98,
   "metadata": {},
   "outputs": [],
   "source": [
    "# url = 'https://redfin-public-data.s3.us-west-2.amazonaws.com/redfin_market_tracker/zip_code_market_tracker.tsv000.gz'\n",
    "# df = pd.read_csv(url, compression = 'gzip', sep='\\t', on_bad_lines='skip')"
   ]
  },
  {
   "cell_type": "code",
   "execution_count": 99,
   "metadata": {},
   "outputs": [],
   "source": [
    "df = pd.read_csv('C:/Users/tyler/Downloads/city_market_tracker.tsv000', sep = '\\t', header = 0)"
   ]
  },
  {
   "cell_type": "code",
   "execution_count": 100,
   "metadata": {},
   "outputs": [
    {
     "name": "stdout",
     "output_type": "stream",
     "text": [
      "<class 'pandas.core.frame.DataFrame'>\n",
      "RangeIndex: 5354687 entries, 0 to 5354686\n",
      "Data columns (total 58 columns):\n",
      " #   Column                          Dtype  \n",
      "---  ------                          -----  \n",
      " 0   period_begin                    object \n",
      " 1   period_end                      object \n",
      " 2   period_duration                 int64  \n",
      " 3   region_type                     object \n",
      " 4   region_type_id                  int64  \n",
      " 5   table_id                        int64  \n",
      " 6   is_seasonally_adjusted          object \n",
      " 7   region                          object \n",
      " 8   city                            object \n",
      " 9   state                           object \n",
      " 10  state_code                      object \n",
      " 11  property_type                   object \n",
      " 12  property_type_id                int64  \n",
      " 13  median_sale_price               float64\n",
      " 14  median_sale_price_mom           float64\n",
      " 15  median_sale_price_yoy           float64\n",
      " 16  median_list_price               float64\n",
      " 17  median_list_price_mom           float64\n",
      " 18  median_list_price_yoy           float64\n",
      " 19  median_ppsf                     float64\n",
      " 20  median_ppsf_mom                 float64\n",
      " 21  median_ppsf_yoy                 float64\n",
      " 22  median_list_ppsf                float64\n",
      " 23  median_list_ppsf_mom            float64\n",
      " 24  median_list_ppsf_yoy            float64\n",
      " 25  homes_sold                      float64\n",
      " 26  homes_sold_mom                  float64\n",
      " 27  homes_sold_yoy                  float64\n",
      " 28  pending_sales                   float64\n",
      " 29  pending_sales_mom               float64\n",
      " 30  pending_sales_yoy               float64\n",
      " 31  new_listings                    float64\n",
      " 32  new_listings_mom                float64\n",
      " 33  new_listings_yoy                float64\n",
      " 34  inventory                       float64\n",
      " 35  inventory_mom                   float64\n",
      " 36  inventory_yoy                   float64\n",
      " 37  months_of_supply                float64\n",
      " 38  months_of_supply_mom            float64\n",
      " 39  months_of_supply_yoy            float64\n",
      " 40  median_dom                      float64\n",
      " 41  median_dom_mom                  float64\n",
      " 42  median_dom_yoy                  float64\n",
      " 43  avg_sale_to_list                float64\n",
      " 44  avg_sale_to_list_mom            float64\n",
      " 45  avg_sale_to_list_yoy            float64\n",
      " 46  sold_above_list                 float64\n",
      " 47  sold_above_list_mom             float64\n",
      " 48  sold_above_list_yoy             float64\n",
      " 49  price_drops                     float64\n",
      " 50  price_drops_mom                 float64\n",
      " 51  price_drops_yoy                 float64\n",
      " 52  off_market_in_two_weeks         float64\n",
      " 53  off_market_in_two_weeks_mom     float64\n",
      " 54  off_market_in_two_weeks_yoy     float64\n",
      " 55  parent_metro_region             object \n",
      " 56  parent_metro_region_metro_code  int64  \n",
      " 57  last_updated                    object \n",
      "dtypes: float64(42), int64(5), object(11)\n",
      "memory usage: 2.3+ GB\n"
     ]
    }
   ],
   "source": [
    "df.info()"
   ]
  },
  {
   "cell_type": "code",
   "execution_count": 101,
   "metadata": {},
   "outputs": [
    {
     "data": {
      "text/plain": [
       "Index(['period_begin', 'period_end', 'period_duration', 'region_type',\n",
       "       'region_type_id', 'table_id', 'is_seasonally_adjusted', 'region',\n",
       "       'city', 'state', 'state_code', 'property_type', 'property_type_id',\n",
       "       'median_sale_price', 'median_sale_price_mom', 'median_sale_price_yoy',\n",
       "       'median_list_price', 'median_list_price_mom', 'median_list_price_yoy',\n",
       "       'median_ppsf', 'median_ppsf_mom', 'median_ppsf_yoy', 'median_list_ppsf',\n",
       "       'median_list_ppsf_mom', 'median_list_ppsf_yoy', 'homes_sold',\n",
       "       'homes_sold_mom', 'homes_sold_yoy', 'pending_sales',\n",
       "       'pending_sales_mom', 'pending_sales_yoy', 'new_listings',\n",
       "       'new_listings_mom', 'new_listings_yoy', 'inventory', 'inventory_mom',\n",
       "       'inventory_yoy', 'months_of_supply', 'months_of_supply_mom',\n",
       "       'months_of_supply_yoy', 'median_dom', 'median_dom_mom',\n",
       "       'median_dom_yoy', 'avg_sale_to_list', 'avg_sale_to_list_mom',\n",
       "       'avg_sale_to_list_yoy', 'sold_above_list', 'sold_above_list_mom',\n",
       "       'sold_above_list_yoy', 'price_drops', 'price_drops_mom',\n",
       "       'price_drops_yoy', 'off_market_in_two_weeks',\n",
       "       'off_market_in_two_weeks_mom', 'off_market_in_two_weeks_yoy',\n",
       "       'parent_metro_region', 'parent_metro_region_metro_code',\n",
       "       'last_updated'],\n",
       "      dtype='object')"
      ]
     },
     "execution_count": 101,
     "metadata": {},
     "output_type": "execute_result"
    }
   ],
   "source": [
    "df.columns"
   ]
  },
  {
   "cell_type": "code",
   "execution_count": 102,
   "metadata": {},
   "outputs": [],
   "source": [
    "core_stats = ['period_begin','region','city', 'state', 'state_code', 'property_type', \n",
    "'median_sale_price',  'median_list_price', 'median_ppsf', 'homes_sold',\n",
    "'pending_sales', 'new_listings', 'inventory', 'months_of_supply', 'median_dom',\n",
    "'avg_sale_to_list', 'sold_above_list', 'price_drops', 'off_market_in_two_weeks']\n",
    "\n",
    "wa_df = df[df['state_code'] == 'WA']"
   ]
  },
  {
   "cell_type": "code",
   "execution_count": 103,
   "metadata": {},
   "outputs": [
    {
     "data": {
      "text/html": [
       "<div>\n",
       "<style scoped>\n",
       "    .dataframe tbody tr th:only-of-type {\n",
       "        vertical-align: middle;\n",
       "    }\n",
       "\n",
       "    .dataframe tbody tr th {\n",
       "        vertical-align: top;\n",
       "    }\n",
       "\n",
       "    .dataframe thead th {\n",
       "        text-align: right;\n",
       "    }\n",
       "</style>\n",
       "<table border=\"1\" class=\"dataframe\">\n",
       "  <thead>\n",
       "    <tr style=\"text-align: right;\">\n",
       "      <th></th>\n",
       "      <th>period_begin</th>\n",
       "      <th>period_end</th>\n",
       "      <th>period_duration</th>\n",
       "      <th>region_type</th>\n",
       "      <th>region_type_id</th>\n",
       "      <th>table_id</th>\n",
       "      <th>is_seasonally_adjusted</th>\n",
       "      <th>region</th>\n",
       "      <th>city</th>\n",
       "      <th>state</th>\n",
       "      <th>state_code</th>\n",
       "      <th>property_type</th>\n",
       "      <th>property_type_id</th>\n",
       "      <th>median_sale_price</th>\n",
       "      <th>median_sale_price_mom</th>\n",
       "      <th>median_sale_price_yoy</th>\n",
       "      <th>median_list_price</th>\n",
       "      <th>median_list_price_mom</th>\n",
       "      <th>median_list_price_yoy</th>\n",
       "      <th>median_ppsf</th>\n",
       "      <th>median_ppsf_mom</th>\n",
       "      <th>median_ppsf_yoy</th>\n",
       "      <th>median_list_ppsf</th>\n",
       "      <th>median_list_ppsf_mom</th>\n",
       "      <th>median_list_ppsf_yoy</th>\n",
       "      <th>homes_sold</th>\n",
       "      <th>homes_sold_mom</th>\n",
       "      <th>homes_sold_yoy</th>\n",
       "      <th>pending_sales</th>\n",
       "      <th>pending_sales_mom</th>\n",
       "      <th>pending_sales_yoy</th>\n",
       "      <th>new_listings</th>\n",
       "      <th>new_listings_mom</th>\n",
       "      <th>new_listings_yoy</th>\n",
       "      <th>inventory</th>\n",
       "      <th>inventory_mom</th>\n",
       "      <th>inventory_yoy</th>\n",
       "      <th>months_of_supply</th>\n",
       "      <th>months_of_supply_mom</th>\n",
       "      <th>months_of_supply_yoy</th>\n",
       "      <th>median_dom</th>\n",
       "      <th>median_dom_mom</th>\n",
       "      <th>median_dom_yoy</th>\n",
       "      <th>avg_sale_to_list</th>\n",
       "      <th>avg_sale_to_list_mom</th>\n",
       "      <th>avg_sale_to_list_yoy</th>\n",
       "      <th>sold_above_list</th>\n",
       "      <th>sold_above_list_mom</th>\n",
       "      <th>sold_above_list_yoy</th>\n",
       "      <th>price_drops</th>\n",
       "      <th>price_drops_mom</th>\n",
       "      <th>price_drops_yoy</th>\n",
       "      <th>off_market_in_two_weeks</th>\n",
       "      <th>off_market_in_two_weeks_mom</th>\n",
       "      <th>off_market_in_two_weeks_yoy</th>\n",
       "      <th>parent_metro_region</th>\n",
       "      <th>parent_metro_region_metro_code</th>\n",
       "      <th>last_updated</th>\n",
       "    </tr>\n",
       "  </thead>\n",
       "  <tbody>\n",
       "    <tr>\n",
       "      <th>5</th>\n",
       "      <td>2021-01-01</td>\n",
       "      <td>2021-01-31</td>\n",
       "      <td>30</td>\n",
       "      <td>place</td>\n",
       "      <td>6</td>\n",
       "      <td>35924</td>\n",
       "      <td>f</td>\n",
       "      <td>Meadowdale, WA</td>\n",
       "      <td>Meadowdale</td>\n",
       "      <td>Washington</td>\n",
       "      <td>WA</td>\n",
       "      <td>Single Family Residential</td>\n",
       "      <td>6</td>\n",
       "      <td>850000.0</td>\n",
       "      <td>0.107131</td>\n",
       "      <td>0.465517</td>\n",
       "      <td>NaN</td>\n",
       "      <td>NaN</td>\n",
       "      <td>NaN</td>\n",
       "      <td>333.988212</td>\n",
       "      <td>0.058500</td>\n",
       "      <td>0.099883</td>\n",
       "      <td>NaN</td>\n",
       "      <td>NaN</td>\n",
       "      <td>NaN</td>\n",
       "      <td>5.0</td>\n",
       "      <td>-0.166667</td>\n",
       "      <td>1.500000</td>\n",
       "      <td>NaN</td>\n",
       "      <td>NaN</td>\n",
       "      <td>NaN</td>\n",
       "      <td>NaN</td>\n",
       "      <td>NaN</td>\n",
       "      <td>NaN</td>\n",
       "      <td>NaN</td>\n",
       "      <td>NaN</td>\n",
       "      <td>NaN</td>\n",
       "      <td>NaN</td>\n",
       "      <td>NaN</td>\n",
       "      <td>NaN</td>\n",
       "      <td>5.0</td>\n",
       "      <td>-25.0</td>\n",
       "      <td>-31.0</td>\n",
       "      <td>1.049441</td>\n",
       "      <td>0.036874</td>\n",
       "      <td>0.019167</td>\n",
       "      <td>0.8000</td>\n",
       "      <td>0.466667</td>\n",
       "      <td>0.300000</td>\n",
       "      <td>NaN</td>\n",
       "      <td>NaN</td>\n",
       "      <td>NaN</td>\n",
       "      <td>NaN</td>\n",
       "      <td>NaN</td>\n",
       "      <td>NaN</td>\n",
       "      <td>Seattle, WA</td>\n",
       "      <td>42644</td>\n",
       "      <td>2024-05-19 14:23:50</td>\n",
       "    </tr>\n",
       "    <tr>\n",
       "      <th>60</th>\n",
       "      <td>2020-04-01</td>\n",
       "      <td>2020-04-30</td>\n",
       "      <td>30</td>\n",
       "      <td>place</td>\n",
       "      <td>6</td>\n",
       "      <td>27887</td>\n",
       "      <td>f</td>\n",
       "      <td>Fobes Hill, WA</td>\n",
       "      <td>Fobes Hill</td>\n",
       "      <td>Washington</td>\n",
       "      <td>WA</td>\n",
       "      <td>Single Family Residential</td>\n",
       "      <td>6</td>\n",
       "      <td>875000.0</td>\n",
       "      <td>0.106195</td>\n",
       "      <td>0.845992</td>\n",
       "      <td>874900.0</td>\n",
       "      <td>0.184739</td>\n",
       "      <td>0.346104</td>\n",
       "      <td>362.873815</td>\n",
       "      <td>0.386119</td>\n",
       "      <td>0.662789</td>\n",
       "      <td>277.172220</td>\n",
       "      <td>0.004498</td>\n",
       "      <td>-0.040484</td>\n",
       "      <td>5.0</td>\n",
       "      <td>0.666667</td>\n",
       "      <td>4.000000</td>\n",
       "      <td>4.0</td>\n",
       "      <td>-0.428571</td>\n",
       "      <td>NaN</td>\n",
       "      <td>5.0</td>\n",
       "      <td>-0.166667</td>\n",
       "      <td>4.000000</td>\n",
       "      <td>3.0</td>\n",
       "      <td>0.500000</td>\n",
       "      <td>0.000000</td>\n",
       "      <td>0.6</td>\n",
       "      <td>-0.1</td>\n",
       "      <td>-2.4</td>\n",
       "      <td>64.0</td>\n",
       "      <td>-4.0</td>\n",
       "      <td>60.0</td>\n",
       "      <td>1.005714</td>\n",
       "      <td>0.023279</td>\n",
       "      <td>-0.002796</td>\n",
       "      <td>0.2000</td>\n",
       "      <td>0.200000</td>\n",
       "      <td>-0.800000</td>\n",
       "      <td>NaN</td>\n",
       "      <td>NaN</td>\n",
       "      <td>NaN</td>\n",
       "      <td>0.750000</td>\n",
       "      <td>0.035714</td>\n",
       "      <td>NaN</td>\n",
       "      <td>Seattle, WA</td>\n",
       "      <td>42644</td>\n",
       "      <td>2024-05-19 14:23:50</td>\n",
       "    </tr>\n",
       "    <tr>\n",
       "      <th>75</th>\n",
       "      <td>2022-05-01</td>\n",
       "      <td>2022-05-31</td>\n",
       "      <td>30</td>\n",
       "      <td>place</td>\n",
       "      <td>6</td>\n",
       "      <td>24272</td>\n",
       "      <td>f</td>\n",
       "      <td>Moses Lake North, WA</td>\n",
       "      <td>Moses Lake North</td>\n",
       "      <td>Washington</td>\n",
       "      <td>WA</td>\n",
       "      <td>Single Family Residential</td>\n",
       "      <td>6</td>\n",
       "      <td>280750.0</td>\n",
       "      <td>0.117858</td>\n",
       "      <td>0.447911</td>\n",
       "      <td>251250.0</td>\n",
       "      <td>-0.014319</td>\n",
       "      <td>0.049280</td>\n",
       "      <td>139.406845</td>\n",
       "      <td>-0.364108</td>\n",
       "      <td>-0.090187</td>\n",
       "      <td>164.204563</td>\n",
       "      <td>0.118984</td>\n",
       "      <td>-0.020486</td>\n",
       "      <td>2.0</td>\n",
       "      <td>0.000000</td>\n",
       "      <td>-0.333333</td>\n",
       "      <td>4.0</td>\n",
       "      <td>1.000000</td>\n",
       "      <td>0.333333</td>\n",
       "      <td>2.0</td>\n",
       "      <td>-0.333333</td>\n",
       "      <td>0.000000</td>\n",
       "      <td>NaN</td>\n",
       "      <td>NaN</td>\n",
       "      <td>NaN</td>\n",
       "      <td>NaN</td>\n",
       "      <td>NaN</td>\n",
       "      <td>NaN</td>\n",
       "      <td>5.0</td>\n",
       "      <td>-7.0</td>\n",
       "      <td>2.0</td>\n",
       "      <td>1.026649</td>\n",
       "      <td>-0.007630</td>\n",
       "      <td>0.001501</td>\n",
       "      <td>1.0000</td>\n",
       "      <td>0.500000</td>\n",
       "      <td>0.333333</td>\n",
       "      <td>NaN</td>\n",
       "      <td>NaN</td>\n",
       "      <td>NaN</td>\n",
       "      <td>0.250000</td>\n",
       "      <td>-0.750000</td>\n",
       "      <td>-0.416667</td>\n",
       "      <td>Moses Lake, WA</td>\n",
       "      <td>34180</td>\n",
       "      <td>2024-05-19 14:23:50</td>\n",
       "    </tr>\n",
       "    <tr>\n",
       "      <th>97</th>\n",
       "      <td>2017-01-01</td>\n",
       "      <td>2017-01-31</td>\n",
       "      <td>30</td>\n",
       "      <td>place</td>\n",
       "      <td>6</td>\n",
       "      <td>25255</td>\n",
       "      <td>f</td>\n",
       "      <td>Salmon Creek, WA</td>\n",
       "      <td>Salmon Creek</td>\n",
       "      <td>Washington</td>\n",
       "      <td>WA</td>\n",
       "      <td>All Residential</td>\n",
       "      <td>-1</td>\n",
       "      <td>291862.5</td>\n",
       "      <td>-0.140317</td>\n",
       "      <td>0.076983</td>\n",
       "      <td>340500.0</td>\n",
       "      <td>-0.025612</td>\n",
       "      <td>-0.026587</td>\n",
       "      <td>165.101720</td>\n",
       "      <td>0.025443</td>\n",
       "      <td>0.141014</td>\n",
       "      <td>158.933930</td>\n",
       "      <td>-0.022514</td>\n",
       "      <td>0.040022</td>\n",
       "      <td>20.0</td>\n",
       "      <td>-0.545455</td>\n",
       "      <td>0.428571</td>\n",
       "      <td>26.0</td>\n",
       "      <td>0.857143</td>\n",
       "      <td>0.181818</td>\n",
       "      <td>32.0</td>\n",
       "      <td>2.200000</td>\n",
       "      <td>1.133333</td>\n",
       "      <td>47.0</td>\n",
       "      <td>-0.020833</td>\n",
       "      <td>1.238095</td>\n",
       "      <td>2.4</td>\n",
       "      <td>1.3</td>\n",
       "      <td>0.9</td>\n",
       "      <td>59.0</td>\n",
       "      <td>29.0</td>\n",
       "      <td>29.0</td>\n",
       "      <td>0.994960</td>\n",
       "      <td>-0.004698</td>\n",
       "      <td>-0.003469</td>\n",
       "      <td>0.5000</td>\n",
       "      <td>0.136364</td>\n",
       "      <td>0.214286</td>\n",
       "      <td>0.234043</td>\n",
       "      <td>0.129876</td>\n",
       "      <td>-0.051672</td>\n",
       "      <td>0.615385</td>\n",
       "      <td>0.258242</td>\n",
       "      <td>0.160839</td>\n",
       "      <td>Portland, OR</td>\n",
       "      <td>38900</td>\n",
       "      <td>2024-05-19 14:23:50</td>\n",
       "    </tr>\n",
       "    <tr>\n",
       "      <th>153</th>\n",
       "      <td>2015-06-01</td>\n",
       "      <td>2015-06-30</td>\n",
       "      <td>30</td>\n",
       "      <td>place</td>\n",
       "      <td>6</td>\n",
       "      <td>22651</td>\n",
       "      <td>f</td>\n",
       "      <td>Five Corners, WA</td>\n",
       "      <td>Five Corners</td>\n",
       "      <td>Washington</td>\n",
       "      <td>WA</td>\n",
       "      <td>All Residential</td>\n",
       "      <td>-1</td>\n",
       "      <td>244500.0</td>\n",
       "      <td>0.053879</td>\n",
       "      <td>0.063043</td>\n",
       "      <td>259900.0</td>\n",
       "      <td>0.019616</td>\n",
       "      <td>0.208837</td>\n",
       "      <td>139.009313</td>\n",
       "      <td>0.058580</td>\n",
       "      <td>0.111099</td>\n",
       "      <td>141.903260</td>\n",
       "      <td>0.050830</td>\n",
       "      <td>0.062455</td>\n",
       "      <td>32.0</td>\n",
       "      <td>0.280000</td>\n",
       "      <td>0.230769</td>\n",
       "      <td>41.0</td>\n",
       "      <td>0.322581</td>\n",
       "      <td>0.322581</td>\n",
       "      <td>63.0</td>\n",
       "      <td>0.312500</td>\n",
       "      <td>0.340426</td>\n",
       "      <td>72.0</td>\n",
       "      <td>0.333333</td>\n",
       "      <td>-0.076923</td>\n",
       "      <td>2.3</td>\n",
       "      <td>0.1</td>\n",
       "      <td>-0.7</td>\n",
       "      <td>8.0</td>\n",
       "      <td>-6.0</td>\n",
       "      <td>-23.0</td>\n",
       "      <td>0.984569</td>\n",
       "      <td>-0.005706</td>\n",
       "      <td>-0.001548</td>\n",
       "      <td>0.4375</td>\n",
       "      <td>0.277500</td>\n",
       "      <td>0.206731</td>\n",
       "      <td>0.291667</td>\n",
       "      <td>0.106481</td>\n",
       "      <td>-0.041667</td>\n",
       "      <td>0.682927</td>\n",
       "      <td>-0.059009</td>\n",
       "      <td>0.134540</td>\n",
       "      <td>Portland, OR</td>\n",
       "      <td>38900</td>\n",
       "      <td>2024-05-19 14:23:50</td>\n",
       "    </tr>\n",
       "  </tbody>\n",
       "</table>\n",
       "</div>"
      ],
      "text/plain": [
       "    period_begin  period_end  period_duration region_type  region_type_id  \\\n",
       "5     2021-01-01  2021-01-31               30       place               6   \n",
       "60    2020-04-01  2020-04-30               30       place               6   \n",
       "75    2022-05-01  2022-05-31               30       place               6   \n",
       "97    2017-01-01  2017-01-31               30       place               6   \n",
       "153   2015-06-01  2015-06-30               30       place               6   \n",
       "\n",
       "     table_id is_seasonally_adjusted                region              city  \\\n",
       "5       35924                      f        Meadowdale, WA        Meadowdale   \n",
       "60      27887                      f        Fobes Hill, WA        Fobes Hill   \n",
       "75      24272                      f  Moses Lake North, WA  Moses Lake North   \n",
       "97      25255                      f      Salmon Creek, WA      Salmon Creek   \n",
       "153     22651                      f      Five Corners, WA      Five Corners   \n",
       "\n",
       "          state state_code              property_type  property_type_id  \\\n",
       "5    Washington         WA  Single Family Residential                 6   \n",
       "60   Washington         WA  Single Family Residential                 6   \n",
       "75   Washington         WA  Single Family Residential                 6   \n",
       "97   Washington         WA            All Residential                -1   \n",
       "153  Washington         WA            All Residential                -1   \n",
       "\n",
       "     median_sale_price  median_sale_price_mom  median_sale_price_yoy  \\\n",
       "5             850000.0               0.107131               0.465517   \n",
       "60            875000.0               0.106195               0.845992   \n",
       "75            280750.0               0.117858               0.447911   \n",
       "97            291862.5              -0.140317               0.076983   \n",
       "153           244500.0               0.053879               0.063043   \n",
       "\n",
       "     median_list_price  median_list_price_mom  median_list_price_yoy  \\\n",
       "5                  NaN                    NaN                    NaN   \n",
       "60            874900.0               0.184739               0.346104   \n",
       "75            251250.0              -0.014319               0.049280   \n",
       "97            340500.0              -0.025612              -0.026587   \n",
       "153           259900.0               0.019616               0.208837   \n",
       "\n",
       "     median_ppsf  median_ppsf_mom  median_ppsf_yoy  median_list_ppsf  \\\n",
       "5     333.988212         0.058500         0.099883               NaN   \n",
       "60    362.873815         0.386119         0.662789        277.172220   \n",
       "75    139.406845        -0.364108        -0.090187        164.204563   \n",
       "97    165.101720         0.025443         0.141014        158.933930   \n",
       "153   139.009313         0.058580         0.111099        141.903260   \n",
       "\n",
       "     median_list_ppsf_mom  median_list_ppsf_yoy  homes_sold  homes_sold_mom  \\\n",
       "5                     NaN                   NaN         5.0       -0.166667   \n",
       "60               0.004498             -0.040484         5.0        0.666667   \n",
       "75               0.118984             -0.020486         2.0        0.000000   \n",
       "97              -0.022514              0.040022        20.0       -0.545455   \n",
       "153              0.050830              0.062455        32.0        0.280000   \n",
       "\n",
       "     homes_sold_yoy  pending_sales  pending_sales_mom  pending_sales_yoy  \\\n",
       "5          1.500000            NaN                NaN                NaN   \n",
       "60         4.000000            4.0          -0.428571                NaN   \n",
       "75        -0.333333            4.0           1.000000           0.333333   \n",
       "97         0.428571           26.0           0.857143           0.181818   \n",
       "153        0.230769           41.0           0.322581           0.322581   \n",
       "\n",
       "     new_listings  new_listings_mom  new_listings_yoy  inventory  \\\n",
       "5             NaN               NaN               NaN        NaN   \n",
       "60            5.0         -0.166667          4.000000        3.0   \n",
       "75            2.0         -0.333333          0.000000        NaN   \n",
       "97           32.0          2.200000          1.133333       47.0   \n",
       "153          63.0          0.312500          0.340426       72.0   \n",
       "\n",
       "     inventory_mom  inventory_yoy  months_of_supply  months_of_supply_mom  \\\n",
       "5              NaN            NaN               NaN                   NaN   \n",
       "60        0.500000       0.000000               0.6                  -0.1   \n",
       "75             NaN            NaN               NaN                   NaN   \n",
       "97       -0.020833       1.238095               2.4                   1.3   \n",
       "153       0.333333      -0.076923               2.3                   0.1   \n",
       "\n",
       "     months_of_supply_yoy  median_dom  median_dom_mom  median_dom_yoy  \\\n",
       "5                     NaN         5.0           -25.0           -31.0   \n",
       "60                   -2.4        64.0            -4.0            60.0   \n",
       "75                    NaN         5.0            -7.0             2.0   \n",
       "97                    0.9        59.0            29.0            29.0   \n",
       "153                  -0.7         8.0            -6.0           -23.0   \n",
       "\n",
       "     avg_sale_to_list  avg_sale_to_list_mom  avg_sale_to_list_yoy  \\\n",
       "5            1.049441              0.036874              0.019167   \n",
       "60           1.005714              0.023279             -0.002796   \n",
       "75           1.026649             -0.007630              0.001501   \n",
       "97           0.994960             -0.004698             -0.003469   \n",
       "153          0.984569             -0.005706             -0.001548   \n",
       "\n",
       "     sold_above_list  sold_above_list_mom  sold_above_list_yoy  price_drops  \\\n",
       "5             0.8000             0.466667             0.300000          NaN   \n",
       "60            0.2000             0.200000            -0.800000          NaN   \n",
       "75            1.0000             0.500000             0.333333          NaN   \n",
       "97            0.5000             0.136364             0.214286     0.234043   \n",
       "153           0.4375             0.277500             0.206731     0.291667   \n",
       "\n",
       "     price_drops_mom  price_drops_yoy  off_market_in_two_weeks  \\\n",
       "5                NaN              NaN                      NaN   \n",
       "60               NaN              NaN                 0.750000   \n",
       "75               NaN              NaN                 0.250000   \n",
       "97          0.129876        -0.051672                 0.615385   \n",
       "153         0.106481        -0.041667                 0.682927   \n",
       "\n",
       "     off_market_in_two_weeks_mom  off_market_in_two_weeks_yoy  \\\n",
       "5                            NaN                          NaN   \n",
       "60                      0.035714                          NaN   \n",
       "75                     -0.750000                    -0.416667   \n",
       "97                      0.258242                     0.160839   \n",
       "153                    -0.059009                     0.134540   \n",
       "\n",
       "    parent_metro_region  parent_metro_region_metro_code         last_updated  \n",
       "5           Seattle, WA                           42644  2024-05-19 14:23:50  \n",
       "60          Seattle, WA                           42644  2024-05-19 14:23:50  \n",
       "75       Moses Lake, WA                           34180  2024-05-19 14:23:50  \n",
       "97         Portland, OR                           38900  2024-05-19 14:23:50  \n",
       "153        Portland, OR                           38900  2024-05-19 14:23:50  "
      ]
     },
     "execution_count": 103,
     "metadata": {},
     "output_type": "execute_result"
    }
   ],
   "source": [
    "wa_df.head()"
   ]
  },
  {
   "cell_type": "code",
   "execution_count": 104,
   "metadata": {},
   "outputs": [
    {
     "data": {
      "text/html": [
       "<div>\n",
       "<style scoped>\n",
       "    .dataframe tbody tr th:only-of-type {\n",
       "        vertical-align: middle;\n",
       "    }\n",
       "\n",
       "    .dataframe tbody tr th {\n",
       "        vertical-align: top;\n",
       "    }\n",
       "\n",
       "    .dataframe thead th {\n",
       "        text-align: right;\n",
       "    }\n",
       "</style>\n",
       "<table border=\"1\" class=\"dataframe\">\n",
       "  <thead>\n",
       "    <tr style=\"text-align: right;\">\n",
       "      <th></th>\n",
       "      <th>period_begin</th>\n",
       "      <th>period_end</th>\n",
       "      <th>period_duration</th>\n",
       "      <th>region_type</th>\n",
       "      <th>region_type_id</th>\n",
       "      <th>table_id</th>\n",
       "      <th>is_seasonally_adjusted</th>\n",
       "      <th>region</th>\n",
       "      <th>city</th>\n",
       "      <th>state</th>\n",
       "      <th>state_code</th>\n",
       "      <th>property_type</th>\n",
       "      <th>property_type_id</th>\n",
       "      <th>median_sale_price</th>\n",
       "      <th>median_sale_price_mom</th>\n",
       "      <th>median_sale_price_yoy</th>\n",
       "      <th>median_list_price</th>\n",
       "      <th>median_list_price_mom</th>\n",
       "      <th>median_list_price_yoy</th>\n",
       "      <th>median_ppsf</th>\n",
       "      <th>median_ppsf_mom</th>\n",
       "      <th>median_ppsf_yoy</th>\n",
       "      <th>median_list_ppsf</th>\n",
       "      <th>median_list_ppsf_mom</th>\n",
       "      <th>median_list_ppsf_yoy</th>\n",
       "      <th>homes_sold</th>\n",
       "      <th>homes_sold_mom</th>\n",
       "      <th>homes_sold_yoy</th>\n",
       "      <th>pending_sales</th>\n",
       "      <th>pending_sales_mom</th>\n",
       "      <th>pending_sales_yoy</th>\n",
       "      <th>new_listings</th>\n",
       "      <th>new_listings_mom</th>\n",
       "      <th>new_listings_yoy</th>\n",
       "      <th>inventory</th>\n",
       "      <th>inventory_mom</th>\n",
       "      <th>inventory_yoy</th>\n",
       "      <th>months_of_supply</th>\n",
       "      <th>months_of_supply_mom</th>\n",
       "      <th>months_of_supply_yoy</th>\n",
       "      <th>median_dom</th>\n",
       "      <th>median_dom_mom</th>\n",
       "      <th>median_dom_yoy</th>\n",
       "      <th>avg_sale_to_list</th>\n",
       "      <th>avg_sale_to_list_mom</th>\n",
       "      <th>avg_sale_to_list_yoy</th>\n",
       "      <th>sold_above_list</th>\n",
       "      <th>sold_above_list_mom</th>\n",
       "      <th>sold_above_list_yoy</th>\n",
       "      <th>price_drops</th>\n",
       "      <th>price_drops_mom</th>\n",
       "      <th>price_drops_yoy</th>\n",
       "      <th>off_market_in_two_weeks</th>\n",
       "      <th>off_market_in_two_weeks_mom</th>\n",
       "      <th>off_market_in_two_weeks_yoy</th>\n",
       "      <th>parent_metro_region</th>\n",
       "      <th>parent_metro_region_metro_code</th>\n",
       "      <th>last_updated</th>\n",
       "    </tr>\n",
       "  </thead>\n",
       "  <tbody>\n",
       "    <tr>\n",
       "      <th>4629518</th>\n",
       "      <td>2024-04-01</td>\n",
       "      <td>2024-04-30</td>\n",
       "      <td>30</td>\n",
       "      <td>place</td>\n",
       "      <td>6</td>\n",
       "      <td>16163</td>\n",
       "      <td>f</td>\n",
       "      <td>Seattle, WA</td>\n",
       "      <td>Seattle</td>\n",
       "      <td>Washington</td>\n",
       "      <td>WA</td>\n",
       "      <td>Condo/Co-op</td>\n",
       "      <td>3</td>\n",
       "      <td>530950.0</td>\n",
       "      <td>-0.013104</td>\n",
       "      <td>0.041078</td>\n",
       "      <td>845000.0</td>\n",
       "      <td>-0.005882</td>\n",
       "      <td>0.056316</td>\n",
       "      <td>639.413436</td>\n",
       "      <td>-0.020724</td>\n",
       "      <td>0.049219</td>\n",
       "      <td>591.133005</td>\n",
       "      <td>0.009601</td>\n",
       "      <td>0.043779</td>\n",
       "      <td>188.0</td>\n",
       "      <td>-0.015707</td>\n",
       "      <td>0.153374</td>\n",
       "      <td>214.0</td>\n",
       "      <td>0.114583</td>\n",
       "      <td>0.150538</td>\n",
       "      <td>347.0</td>\n",
       "      <td>0.196552</td>\n",
       "      <td>0.433884</td>\n",
       "      <td>539.0</td>\n",
       "      <td>0.227790</td>\n",
       "      <td>0.497222</td>\n",
       "      <td>2.9</td>\n",
       "      <td>0.6</td>\n",
       "      <td>0.7</td>\n",
       "      <td>13.0</td>\n",
       "      <td>-11.0</td>\n",
       "      <td>0.0</td>\n",
       "      <td>0.993314</td>\n",
       "      <td>-0.000456</td>\n",
       "      <td>-0.002264</td>\n",
       "      <td>0.175532</td>\n",
       "      <td>-0.012950</td>\n",
       "      <td>-0.008517</td>\n",
       "      <td>0.282004</td>\n",
       "      <td>0.045102</td>\n",
       "      <td>0.087559</td>\n",
       "      <td>0.532710</td>\n",
       "      <td>-0.076665</td>\n",
       "      <td>-0.037182</td>\n",
       "      <td>Seattle, WA</td>\n",
       "      <td>42644</td>\n",
       "      <td>2024-05-19 14:23:50</td>\n",
       "    </tr>\n",
       "    <tr>\n",
       "      <th>3949612</th>\n",
       "      <td>2024-04-01</td>\n",
       "      <td>2024-04-30</td>\n",
       "      <td>30</td>\n",
       "      <td>place</td>\n",
       "      <td>6</td>\n",
       "      <td>16163</td>\n",
       "      <td>f</td>\n",
       "      <td>Seattle, WA</td>\n",
       "      <td>Seattle</td>\n",
       "      <td>Washington</td>\n",
       "      <td>WA</td>\n",
       "      <td>Multi-Family (2-4 Unit)</td>\n",
       "      <td>4</td>\n",
       "      <td>1050000.0</td>\n",
       "      <td>0.032956</td>\n",
       "      <td>0.193182</td>\n",
       "      <td>845000.0</td>\n",
       "      <td>-0.005882</td>\n",
       "      <td>0.056316</td>\n",
       "      <td>467.128028</td>\n",
       "      <td>-0.029993</td>\n",
       "      <td>0.190179</td>\n",
       "      <td>591.133005</td>\n",
       "      <td>0.009601</td>\n",
       "      <td>0.043779</td>\n",
       "      <td>21.0</td>\n",
       "      <td>0.750000</td>\n",
       "      <td>0.105263</td>\n",
       "      <td>21.0</td>\n",
       "      <td>0.615385</td>\n",
       "      <td>1.100000</td>\n",
       "      <td>27.0</td>\n",
       "      <td>0.125000</td>\n",
       "      <td>1.454545</td>\n",
       "      <td>41.0</td>\n",
       "      <td>0.108108</td>\n",
       "      <td>0.518519</td>\n",
       "      <td>2.0</td>\n",
       "      <td>-1.1</td>\n",
       "      <td>0.6</td>\n",
       "      <td>9.0</td>\n",
       "      <td>-106.0</td>\n",
       "      <td>-5.0</td>\n",
       "      <td>1.007725</td>\n",
       "      <td>0.029240</td>\n",
       "      <td>0.012525</td>\n",
       "      <td>0.380952</td>\n",
       "      <td>0.380952</td>\n",
       "      <td>0.117794</td>\n",
       "      <td>0.292683</td>\n",
       "      <td>0.157548</td>\n",
       "      <td>0.033424</td>\n",
       "      <td>0.714286</td>\n",
       "      <td>-0.054945</td>\n",
       "      <td>0.114286</td>\n",
       "      <td>Seattle, WA</td>\n",
       "      <td>42644</td>\n",
       "      <td>2024-05-19 14:23:50</td>\n",
       "    </tr>\n",
       "    <tr>\n",
       "      <th>4496443</th>\n",
       "      <td>2024-04-01</td>\n",
       "      <td>2024-04-30</td>\n",
       "      <td>30</td>\n",
       "      <td>place</td>\n",
       "      <td>6</td>\n",
       "      <td>16163</td>\n",
       "      <td>f</td>\n",
       "      <td>Seattle, WA</td>\n",
       "      <td>Seattle</td>\n",
       "      <td>Washington</td>\n",
       "      <td>WA</td>\n",
       "      <td>Single Family Residential</td>\n",
       "      <td>6</td>\n",
       "      <td>1070000.0</td>\n",
       "      <td>0.019048</td>\n",
       "      <td>0.094629</td>\n",
       "      <td>845000.0</td>\n",
       "      <td>-0.005882</td>\n",
       "      <td>0.056316</td>\n",
       "      <td>583.333333</td>\n",
       "      <td>-0.008906</td>\n",
       "      <td>0.098992</td>\n",
       "      <td>591.133005</td>\n",
       "      <td>0.009601</td>\n",
       "      <td>0.043779</td>\n",
       "      <td>436.0</td>\n",
       "      <td>0.184783</td>\n",
       "      <td>0.101010</td>\n",
       "      <td>568.0</td>\n",
       "      <td>0.320930</td>\n",
       "      <td>0.342790</td>\n",
       "      <td>593.0</td>\n",
       "      <td>0.120983</td>\n",
       "      <td>0.253700</td>\n",
       "      <td>384.0</td>\n",
       "      <td>0.010526</td>\n",
       "      <td>-0.076923</td>\n",
       "      <td>0.9</td>\n",
       "      <td>-0.1</td>\n",
       "      <td>-0.2</td>\n",
       "      <td>6.0</td>\n",
       "      <td>0.0</td>\n",
       "      <td>0.0</td>\n",
       "      <td>1.041469</td>\n",
       "      <td>0.010385</td>\n",
       "      <td>0.014941</td>\n",
       "      <td>0.541284</td>\n",
       "      <td>0.079328</td>\n",
       "      <td>0.084214</td>\n",
       "      <td>0.343750</td>\n",
       "      <td>0.104276</td>\n",
       "      <td>0.088942</td>\n",
       "      <td>0.783451</td>\n",
       "      <td>-0.025852</td>\n",
       "      <td>0.026950</td>\n",
       "      <td>Seattle, WA</td>\n",
       "      <td>42644</td>\n",
       "      <td>2024-05-19 14:23:50</td>\n",
       "    </tr>\n",
       "    <tr>\n",
       "      <th>5237851</th>\n",
       "      <td>2024-04-01</td>\n",
       "      <td>2024-04-30</td>\n",
       "      <td>30</td>\n",
       "      <td>place</td>\n",
       "      <td>6</td>\n",
       "      <td>16163</td>\n",
       "      <td>f</td>\n",
       "      <td>Seattle, WA</td>\n",
       "      <td>Seattle</td>\n",
       "      <td>Washington</td>\n",
       "      <td>WA</td>\n",
       "      <td>Townhouse</td>\n",
       "      <td>13</td>\n",
       "      <td>779250.0</td>\n",
       "      <td>-0.013608</td>\n",
       "      <td>0.045987</td>\n",
       "      <td>845000.0</td>\n",
       "      <td>-0.005882</td>\n",
       "      <td>0.056316</td>\n",
       "      <td>567.969820</td>\n",
       "      <td>0.002907</td>\n",
       "      <td>0.007946</td>\n",
       "      <td>591.133005</td>\n",
       "      <td>0.009601</td>\n",
       "      <td>0.043779</td>\n",
       "      <td>148.0</td>\n",
       "      <td>-0.163842</td>\n",
       "      <td>-0.057325</td>\n",
       "      <td>165.0</td>\n",
       "      <td>0.050955</td>\n",
       "      <td>0.064516</td>\n",
       "      <td>205.0</td>\n",
       "      <td>0.220238</td>\n",
       "      <td>0.120219</td>\n",
       "      <td>219.0</td>\n",
       "      <td>0.111675</td>\n",
       "      <td>-0.075949</td>\n",
       "      <td>1.5</td>\n",
       "      <td>0.4</td>\n",
       "      <td>0.0</td>\n",
       "      <td>17.0</td>\n",
       "      <td>1.0</td>\n",
       "      <td>4.0</td>\n",
       "      <td>1.005534</td>\n",
       "      <td>0.007753</td>\n",
       "      <td>0.005410</td>\n",
       "      <td>0.229730</td>\n",
       "      <td>0.009391</td>\n",
       "      <td>-0.012308</td>\n",
       "      <td>0.283105</td>\n",
       "      <td>-0.072225</td>\n",
       "      <td>0.067915</td>\n",
       "      <td>0.606061</td>\n",
       "      <td>0.039182</td>\n",
       "      <td>0.038319</td>\n",
       "      <td>Seattle, WA</td>\n",
       "      <td>42644</td>\n",
       "      <td>2024-05-19 14:23:50</td>\n",
       "    </tr>\n",
       "    <tr>\n",
       "      <th>4060500</th>\n",
       "      <td>2024-04-01</td>\n",
       "      <td>2024-04-30</td>\n",
       "      <td>30</td>\n",
       "      <td>place</td>\n",
       "      <td>6</td>\n",
       "      <td>16163</td>\n",
       "      <td>f</td>\n",
       "      <td>Seattle, WA</td>\n",
       "      <td>Seattle</td>\n",
       "      <td>Washington</td>\n",
       "      <td>WA</td>\n",
       "      <td>All Residential</td>\n",
       "      <td>-1</td>\n",
       "      <td>877000.0</td>\n",
       "      <td>0.034808</td>\n",
       "      <td>0.096250</td>\n",
       "      <td>845000.0</td>\n",
       "      <td>-0.005882</td>\n",
       "      <td>0.056316</td>\n",
       "      <td>587.205954</td>\n",
       "      <td>-0.015566</td>\n",
       "      <td>0.043922</td>\n",
       "      <td>591.133005</td>\n",
       "      <td>0.009601</td>\n",
       "      <td>0.043779</td>\n",
       "      <td>793.0</td>\n",
       "      <td>0.061580</td>\n",
       "      <td>0.078912</td>\n",
       "      <td>968.0</td>\n",
       "      <td>0.222222</td>\n",
       "      <td>0.250646</td>\n",
       "      <td>1172.0</td>\n",
       "      <td>0.159248</td>\n",
       "      <td>0.289329</td>\n",
       "      <td>1183.0</td>\n",
       "      <td>0.123457</td>\n",
       "      <td>0.137500</td>\n",
       "      <td>1.5</td>\n",
       "      <td>0.1</td>\n",
       "      <td>0.1</td>\n",
       "      <td>7.0</td>\n",
       "      <td>-3.0</td>\n",
       "      <td>0.0</td>\n",
       "      <td>1.022476</td>\n",
       "      <td>0.009645</td>\n",
       "      <td>0.009262</td>\n",
       "      <td>0.392182</td>\n",
       "      <td>0.064203</td>\n",
       "      <td>0.046603</td>\n",
       "      <td>0.275571</td>\n",
       "      <td>0.035305</td>\n",
       "      <td>0.065955</td>\n",
       "      <td>0.696281</td>\n",
       "      <td>-0.015840</td>\n",
       "      <td>0.024446</td>\n",
       "      <td>Seattle, WA</td>\n",
       "      <td>42644</td>\n",
       "      <td>2024-05-19 14:23:50</td>\n",
       "    </tr>\n",
       "    <tr>\n",
       "      <th>1778628</th>\n",
       "      <td>2024-03-01</td>\n",
       "      <td>2024-03-31</td>\n",
       "      <td>30</td>\n",
       "      <td>place</td>\n",
       "      <td>6</td>\n",
       "      <td>16163</td>\n",
       "      <td>f</td>\n",
       "      <td>Seattle, WA</td>\n",
       "      <td>Seattle</td>\n",
       "      <td>Washington</td>\n",
       "      <td>WA</td>\n",
       "      <td>Single Family Residential</td>\n",
       "      <td>6</td>\n",
       "      <td>1050000.0</td>\n",
       "      <td>-0.050204</td>\n",
       "      <td>0.076923</td>\n",
       "      <td>850000.0</td>\n",
       "      <td>0.030303</td>\n",
       "      <td>0.062501</td>\n",
       "      <td>588.574922</td>\n",
       "      <td>0.038957</td>\n",
       "      <td>0.067339</td>\n",
       "      <td>585.511700</td>\n",
       "      <td>-0.015203</td>\n",
       "      <td>0.047557</td>\n",
       "      <td>368.0</td>\n",
       "      <td>0.218543</td>\n",
       "      <td>0.010989</td>\n",
       "      <td>430.0</td>\n",
       "      <td>0.438127</td>\n",
       "      <td>0.116883</td>\n",
       "      <td>529.0</td>\n",
       "      <td>0.329146</td>\n",
       "      <td>0.009542</td>\n",
       "      <td>380.0</td>\n",
       "      <td>0.214058</td>\n",
       "      <td>-0.047619</td>\n",
       "      <td>1.0</td>\n",
       "      <td>0.0</td>\n",
       "      <td>-0.1</td>\n",
       "      <td>6.0</td>\n",
       "      <td>0.0</td>\n",
       "      <td>-1.0</td>\n",
       "      <td>1.031084</td>\n",
       "      <td>0.004188</td>\n",
       "      <td>0.015238</td>\n",
       "      <td>0.461957</td>\n",
       "      <td>-0.014865</td>\n",
       "      <td>0.049869</td>\n",
       "      <td>0.239474</td>\n",
       "      <td>-0.035287</td>\n",
       "      <td>-0.073810</td>\n",
       "      <td>0.809302</td>\n",
       "      <td>-0.020129</td>\n",
       "      <td>0.050861</td>\n",
       "      <td>Seattle, WA</td>\n",
       "      <td>42644</td>\n",
       "      <td>2024-05-19 14:23:50</td>\n",
       "    </tr>\n",
       "    <tr>\n",
       "      <th>713557</th>\n",
       "      <td>2024-03-01</td>\n",
       "      <td>2024-03-31</td>\n",
       "      <td>30</td>\n",
       "      <td>place</td>\n",
       "      <td>6</td>\n",
       "      <td>16163</td>\n",
       "      <td>f</td>\n",
       "      <td>Seattle, WA</td>\n",
       "      <td>Seattle</td>\n",
       "      <td>Washington</td>\n",
       "      <td>WA</td>\n",
       "      <td>Condo/Co-op</td>\n",
       "      <td>3</td>\n",
       "      <td>538000.0</td>\n",
       "      <td>0.003731</td>\n",
       "      <td>0.050268</td>\n",
       "      <td>850000.0</td>\n",
       "      <td>0.030303</td>\n",
       "      <td>0.062501</td>\n",
       "      <td>652.944942</td>\n",
       "      <td>0.057989</td>\n",
       "      <td>0.039868</td>\n",
       "      <td>585.511700</td>\n",
       "      <td>-0.015203</td>\n",
       "      <td>0.047557</td>\n",
       "      <td>191.0</td>\n",
       "      <td>0.308219</td>\n",
       "      <td>0.073034</td>\n",
       "      <td>192.0</td>\n",
       "      <td>0.352113</td>\n",
       "      <td>0.163636</td>\n",
       "      <td>290.0</td>\n",
       "      <td>0.155378</td>\n",
       "      <td>0.137255</td>\n",
       "      <td>439.0</td>\n",
       "      <td>0.170667</td>\n",
       "      <td>0.302671</td>\n",
       "      <td>2.3</td>\n",
       "      <td>-0.3</td>\n",
       "      <td>0.4</td>\n",
       "      <td>24.0</td>\n",
       "      <td>-2.0</td>\n",
       "      <td>9.0</td>\n",
       "      <td>0.993770</td>\n",
       "      <td>0.005514</td>\n",
       "      <td>0.000983</td>\n",
       "      <td>0.188482</td>\n",
       "      <td>-0.003299</td>\n",
       "      <td>0.003088</td>\n",
       "      <td>0.236902</td>\n",
       "      <td>0.015569</td>\n",
       "      <td>-0.039062</td>\n",
       "      <td>0.609375</td>\n",
       "      <td>-0.017386</td>\n",
       "      <td>-0.008807</td>\n",
       "      <td>Seattle, WA</td>\n",
       "      <td>42644</td>\n",
       "      <td>2024-05-19 14:23:50</td>\n",
       "    </tr>\n",
       "    <tr>\n",
       "      <th>5045462</th>\n",
       "      <td>2024-03-01</td>\n",
       "      <td>2024-03-31</td>\n",
       "      <td>30</td>\n",
       "      <td>place</td>\n",
       "      <td>6</td>\n",
       "      <td>16163</td>\n",
       "      <td>f</td>\n",
       "      <td>Seattle, WA</td>\n",
       "      <td>Seattle</td>\n",
       "      <td>Washington</td>\n",
       "      <td>WA</td>\n",
       "      <td>All Residential</td>\n",
       "      <td>-1</td>\n",
       "      <td>847500.0</td>\n",
       "      <td>0.002959</td>\n",
       "      <td>0.115132</td>\n",
       "      <td>850000.0</td>\n",
       "      <td>0.030303</td>\n",
       "      <td>0.062501</td>\n",
       "      <td>596.491228</td>\n",
       "      <td>0.030599</td>\n",
       "      <td>0.043860</td>\n",
       "      <td>585.511700</td>\n",
       "      <td>-0.015203</td>\n",
       "      <td>0.047557</td>\n",
       "      <td>747.0</td>\n",
       "      <td>0.200965</td>\n",
       "      <td>0.027510</td>\n",
       "      <td>792.0</td>\n",
       "      <td>0.296236</td>\n",
       "      <td>0.106145</td>\n",
       "      <td>1011.0</td>\n",
       "      <td>0.171495</td>\n",
       "      <td>0.003972</td>\n",
       "      <td>1053.0</td>\n",
       "      <td>0.142082</td>\n",
       "      <td>0.054054</td>\n",
       "      <td>1.4</td>\n",
       "      <td>-0.1</td>\n",
       "      <td>0.0</td>\n",
       "      <td>10.0</td>\n",
       "      <td>-1.0</td>\n",
       "      <td>-2.0</td>\n",
       "      <td>1.012832</td>\n",
       "      <td>0.002573</td>\n",
       "      <td>0.008486</td>\n",
       "      <td>0.327979</td>\n",
       "      <td>-0.024111</td>\n",
       "      <td>0.025365</td>\n",
       "      <td>0.240266</td>\n",
       "      <td>0.017923</td>\n",
       "      <td>-0.036010</td>\n",
       "      <td>0.712121</td>\n",
       "      <td>-0.006373</td>\n",
       "      <td>0.015194</td>\n",
       "      <td>Seattle, WA</td>\n",
       "      <td>42644</td>\n",
       "      <td>2024-05-19 14:23:50</td>\n",
       "    </tr>\n",
       "    <tr>\n",
       "      <th>4756259</th>\n",
       "      <td>2024-03-01</td>\n",
       "      <td>2024-03-31</td>\n",
       "      <td>30</td>\n",
       "      <td>place</td>\n",
       "      <td>6</td>\n",
       "      <td>16163</td>\n",
       "      <td>f</td>\n",
       "      <td>Seattle, WA</td>\n",
       "      <td>Seattle</td>\n",
       "      <td>Washington</td>\n",
       "      <td>WA</td>\n",
       "      <td>Townhouse</td>\n",
       "      <td>13</td>\n",
       "      <td>790000.0</td>\n",
       "      <td>-0.006289</td>\n",
       "      <td>0.089655</td>\n",
       "      <td>850000.0</td>\n",
       "      <td>0.030303</td>\n",
       "      <td>0.062501</td>\n",
       "      <td>566.323440</td>\n",
       "      <td>0.009809</td>\n",
       "      <td>0.030012</td>\n",
       "      <td>585.511700</td>\n",
       "      <td>-0.015203</td>\n",
       "      <td>0.047557</td>\n",
       "      <td>177.0</td>\n",
       "      <td>0.066265</td>\n",
       "      <td>0.023121</td>\n",
       "      <td>157.0</td>\n",
       "      <td>0.000000</td>\n",
       "      <td>0.026144</td>\n",
       "      <td>168.0</td>\n",
       "      <td>-0.138462</td>\n",
       "      <td>-0.207547</td>\n",
       "      <td>197.0</td>\n",
       "      <td>-0.029557</td>\n",
       "      <td>-0.161702</td>\n",
       "      <td>1.1</td>\n",
       "      <td>-0.1</td>\n",
       "      <td>-0.3</td>\n",
       "      <td>16.0</td>\n",
       "      <td>-8.0</td>\n",
       "      <td>-8.0</td>\n",
       "      <td>0.997781</td>\n",
       "      <td>-0.000403</td>\n",
       "      <td>0.003175</td>\n",
       "      <td>0.220339</td>\n",
       "      <td>-0.044721</td>\n",
       "      <td>0.023807</td>\n",
       "      <td>0.355330</td>\n",
       "      <td>0.123803</td>\n",
       "      <td>0.053202</td>\n",
       "      <td>0.566879</td>\n",
       "      <td>-0.044586</td>\n",
       "      <td>-0.060572</td>\n",
       "      <td>Seattle, WA</td>\n",
       "      <td>42644</td>\n",
       "      <td>2024-05-19 14:23:50</td>\n",
       "    </tr>\n",
       "    <tr>\n",
       "      <th>2055833</th>\n",
       "      <td>2024-03-01</td>\n",
       "      <td>2024-03-31</td>\n",
       "      <td>30</td>\n",
       "      <td>place</td>\n",
       "      <td>6</td>\n",
       "      <td>16163</td>\n",
       "      <td>f</td>\n",
       "      <td>Seattle, WA</td>\n",
       "      <td>Seattle</td>\n",
       "      <td>Washington</td>\n",
       "      <td>WA</td>\n",
       "      <td>Multi-Family (2-4 Unit)</td>\n",
       "      <td>4</td>\n",
       "      <td>1016500.0</td>\n",
       "      <td>-0.098448</td>\n",
       "      <td>-0.027273</td>\n",
       "      <td>850000.0</td>\n",
       "      <td>0.030303</td>\n",
       "      <td>0.062501</td>\n",
       "      <td>481.571816</td>\n",
       "      <td>0.063094</td>\n",
       "      <td>0.088803</td>\n",
       "      <td>585.511700</td>\n",
       "      <td>-0.015203</td>\n",
       "      <td>0.047557</td>\n",
       "      <td>12.0</td>\n",
       "      <td>0.500000</td>\n",
       "      <td>0.000000</td>\n",
       "      <td>13.0</td>\n",
       "      <td>0.000000</td>\n",
       "      <td>0.000000</td>\n",
       "      <td>24.0</td>\n",
       "      <td>0.263158</td>\n",
       "      <td>0.500000</td>\n",
       "      <td>37.0</td>\n",
       "      <td>0.193548</td>\n",
       "      <td>0.321429</td>\n",
       "      <td>3.1</td>\n",
       "      <td>-0.8</td>\n",
       "      <td>0.8</td>\n",
       "      <td>115.0</td>\n",
       "      <td>63.0</td>\n",
       "      <td>67.0</td>\n",
       "      <td>0.978485</td>\n",
       "      <td>-0.053007</td>\n",
       "      <td>0.010174</td>\n",
       "      <td>0.000000</td>\n",
       "      <td>-0.375000</td>\n",
       "      <td>-0.250000</td>\n",
       "      <td>0.135135</td>\n",
       "      <td>-0.187446</td>\n",
       "      <td>-0.186293</td>\n",
       "      <td>0.769231</td>\n",
       "      <td>0.307692</td>\n",
       "      <td>0.076923</td>\n",
       "      <td>Seattle, WA</td>\n",
       "      <td>42644</td>\n",
       "      <td>2024-05-19 14:23:50</td>\n",
       "    </tr>\n",
       "  </tbody>\n",
       "</table>\n",
       "</div>"
      ],
      "text/plain": [
       "        period_begin  period_end  period_duration region_type  region_type_id  \\\n",
       "4629518   2024-04-01  2024-04-30               30       place               6   \n",
       "3949612   2024-04-01  2024-04-30               30       place               6   \n",
       "4496443   2024-04-01  2024-04-30               30       place               6   \n",
       "5237851   2024-04-01  2024-04-30               30       place               6   \n",
       "4060500   2024-04-01  2024-04-30               30       place               6   \n",
       "1778628   2024-03-01  2024-03-31               30       place               6   \n",
       "713557    2024-03-01  2024-03-31               30       place               6   \n",
       "5045462   2024-03-01  2024-03-31               30       place               6   \n",
       "4756259   2024-03-01  2024-03-31               30       place               6   \n",
       "2055833   2024-03-01  2024-03-31               30       place               6   \n",
       "\n",
       "         table_id is_seasonally_adjusted       region     city       state  \\\n",
       "4629518     16163                      f  Seattle, WA  Seattle  Washington   \n",
       "3949612     16163                      f  Seattle, WA  Seattle  Washington   \n",
       "4496443     16163                      f  Seattle, WA  Seattle  Washington   \n",
       "5237851     16163                      f  Seattle, WA  Seattle  Washington   \n",
       "4060500     16163                      f  Seattle, WA  Seattle  Washington   \n",
       "1778628     16163                      f  Seattle, WA  Seattle  Washington   \n",
       "713557      16163                      f  Seattle, WA  Seattle  Washington   \n",
       "5045462     16163                      f  Seattle, WA  Seattle  Washington   \n",
       "4756259     16163                      f  Seattle, WA  Seattle  Washington   \n",
       "2055833     16163                      f  Seattle, WA  Seattle  Washington   \n",
       "\n",
       "        state_code              property_type  property_type_id  \\\n",
       "4629518         WA                Condo/Co-op                 3   \n",
       "3949612         WA    Multi-Family (2-4 Unit)                 4   \n",
       "4496443         WA  Single Family Residential                 6   \n",
       "5237851         WA                  Townhouse                13   \n",
       "4060500         WA            All Residential                -1   \n",
       "1778628         WA  Single Family Residential                 6   \n",
       "713557          WA                Condo/Co-op                 3   \n",
       "5045462         WA            All Residential                -1   \n",
       "4756259         WA                  Townhouse                13   \n",
       "2055833         WA    Multi-Family (2-4 Unit)                 4   \n",
       "\n",
       "         median_sale_price  median_sale_price_mom  median_sale_price_yoy  \\\n",
       "4629518           530950.0              -0.013104               0.041078   \n",
       "3949612          1050000.0               0.032956               0.193182   \n",
       "4496443          1070000.0               0.019048               0.094629   \n",
       "5237851           779250.0              -0.013608               0.045987   \n",
       "4060500           877000.0               0.034808               0.096250   \n",
       "1778628          1050000.0              -0.050204               0.076923   \n",
       "713557            538000.0               0.003731               0.050268   \n",
       "5045462           847500.0               0.002959               0.115132   \n",
       "4756259           790000.0              -0.006289               0.089655   \n",
       "2055833          1016500.0              -0.098448              -0.027273   \n",
       "\n",
       "         median_list_price  median_list_price_mom  median_list_price_yoy  \\\n",
       "4629518           845000.0              -0.005882               0.056316   \n",
       "3949612           845000.0              -0.005882               0.056316   \n",
       "4496443           845000.0              -0.005882               0.056316   \n",
       "5237851           845000.0              -0.005882               0.056316   \n",
       "4060500           845000.0              -0.005882               0.056316   \n",
       "1778628           850000.0               0.030303               0.062501   \n",
       "713557            850000.0               0.030303               0.062501   \n",
       "5045462           850000.0               0.030303               0.062501   \n",
       "4756259           850000.0               0.030303               0.062501   \n",
       "2055833           850000.0               0.030303               0.062501   \n",
       "\n",
       "         median_ppsf  median_ppsf_mom  median_ppsf_yoy  median_list_ppsf  \\\n",
       "4629518   639.413436        -0.020724         0.049219        591.133005   \n",
       "3949612   467.128028        -0.029993         0.190179        591.133005   \n",
       "4496443   583.333333        -0.008906         0.098992        591.133005   \n",
       "5237851   567.969820         0.002907         0.007946        591.133005   \n",
       "4060500   587.205954        -0.015566         0.043922        591.133005   \n",
       "1778628   588.574922         0.038957         0.067339        585.511700   \n",
       "713557    652.944942         0.057989         0.039868        585.511700   \n",
       "5045462   596.491228         0.030599         0.043860        585.511700   \n",
       "4756259   566.323440         0.009809         0.030012        585.511700   \n",
       "2055833   481.571816         0.063094         0.088803        585.511700   \n",
       "\n",
       "         median_list_ppsf_mom  median_list_ppsf_yoy  homes_sold  \\\n",
       "4629518              0.009601              0.043779       188.0   \n",
       "3949612              0.009601              0.043779        21.0   \n",
       "4496443              0.009601              0.043779       436.0   \n",
       "5237851              0.009601              0.043779       148.0   \n",
       "4060500              0.009601              0.043779       793.0   \n",
       "1778628             -0.015203              0.047557       368.0   \n",
       "713557              -0.015203              0.047557       191.0   \n",
       "5045462             -0.015203              0.047557       747.0   \n",
       "4756259             -0.015203              0.047557       177.0   \n",
       "2055833             -0.015203              0.047557        12.0   \n",
       "\n",
       "         homes_sold_mom  homes_sold_yoy  pending_sales  pending_sales_mom  \\\n",
       "4629518       -0.015707        0.153374          214.0           0.114583   \n",
       "3949612        0.750000        0.105263           21.0           0.615385   \n",
       "4496443        0.184783        0.101010          568.0           0.320930   \n",
       "5237851       -0.163842       -0.057325          165.0           0.050955   \n",
       "4060500        0.061580        0.078912          968.0           0.222222   \n",
       "1778628        0.218543        0.010989          430.0           0.438127   \n",
       "713557         0.308219        0.073034          192.0           0.352113   \n",
       "5045462        0.200965        0.027510          792.0           0.296236   \n",
       "4756259        0.066265        0.023121          157.0           0.000000   \n",
       "2055833        0.500000        0.000000           13.0           0.000000   \n",
       "\n",
       "         pending_sales_yoy  new_listings  new_listings_mom  new_listings_yoy  \\\n",
       "4629518           0.150538         347.0          0.196552          0.433884   \n",
       "3949612           1.100000          27.0          0.125000          1.454545   \n",
       "4496443           0.342790         593.0          0.120983          0.253700   \n",
       "5237851           0.064516         205.0          0.220238          0.120219   \n",
       "4060500           0.250646        1172.0          0.159248          0.289329   \n",
       "1778628           0.116883         529.0          0.329146          0.009542   \n",
       "713557            0.163636         290.0          0.155378          0.137255   \n",
       "5045462           0.106145        1011.0          0.171495          0.003972   \n",
       "4756259           0.026144         168.0         -0.138462         -0.207547   \n",
       "2055833           0.000000          24.0          0.263158          0.500000   \n",
       "\n",
       "         inventory  inventory_mom  inventory_yoy  months_of_supply  \\\n",
       "4629518      539.0       0.227790       0.497222               2.9   \n",
       "3949612       41.0       0.108108       0.518519               2.0   \n",
       "4496443      384.0       0.010526      -0.076923               0.9   \n",
       "5237851      219.0       0.111675      -0.075949               1.5   \n",
       "4060500     1183.0       0.123457       0.137500               1.5   \n",
       "1778628      380.0       0.214058      -0.047619               1.0   \n",
       "713557       439.0       0.170667       0.302671               2.3   \n",
       "5045462     1053.0       0.142082       0.054054               1.4   \n",
       "4756259      197.0      -0.029557      -0.161702               1.1   \n",
       "2055833       37.0       0.193548       0.321429               3.1   \n",
       "\n",
       "         months_of_supply_mom  months_of_supply_yoy  median_dom  \\\n",
       "4629518                   0.6                   0.7        13.0   \n",
       "3949612                  -1.1                   0.6         9.0   \n",
       "4496443                  -0.1                  -0.2         6.0   \n",
       "5237851                   0.4                   0.0        17.0   \n",
       "4060500                   0.1                   0.1         7.0   \n",
       "1778628                   0.0                  -0.1         6.0   \n",
       "713557                   -0.3                   0.4        24.0   \n",
       "5045462                  -0.1                   0.0        10.0   \n",
       "4756259                  -0.1                  -0.3        16.0   \n",
       "2055833                  -0.8                   0.8       115.0   \n",
       "\n",
       "         median_dom_mom  median_dom_yoy  avg_sale_to_list  \\\n",
       "4629518           -11.0             0.0          0.993314   \n",
       "3949612          -106.0            -5.0          1.007725   \n",
       "4496443             0.0             0.0          1.041469   \n",
       "5237851             1.0             4.0          1.005534   \n",
       "4060500            -3.0             0.0          1.022476   \n",
       "1778628             0.0            -1.0          1.031084   \n",
       "713557             -2.0             9.0          0.993770   \n",
       "5045462            -1.0            -2.0          1.012832   \n",
       "4756259            -8.0            -8.0          0.997781   \n",
       "2055833            63.0            67.0          0.978485   \n",
       "\n",
       "         avg_sale_to_list_mom  avg_sale_to_list_yoy  sold_above_list  \\\n",
       "4629518             -0.000456             -0.002264         0.175532   \n",
       "3949612              0.029240              0.012525         0.380952   \n",
       "4496443              0.010385              0.014941         0.541284   \n",
       "5237851              0.007753              0.005410         0.229730   \n",
       "4060500              0.009645              0.009262         0.392182   \n",
       "1778628              0.004188              0.015238         0.461957   \n",
       "713557               0.005514              0.000983         0.188482   \n",
       "5045462              0.002573              0.008486         0.327979   \n",
       "4756259             -0.000403              0.003175         0.220339   \n",
       "2055833             -0.053007              0.010174         0.000000   \n",
       "\n",
       "         sold_above_list_mom  sold_above_list_yoy  price_drops  \\\n",
       "4629518            -0.012950            -0.008517     0.282004   \n",
       "3949612             0.380952             0.117794     0.292683   \n",
       "4496443             0.079328             0.084214     0.343750   \n",
       "5237851             0.009391            -0.012308     0.283105   \n",
       "4060500             0.064203             0.046603     0.275571   \n",
       "1778628            -0.014865             0.049869     0.239474   \n",
       "713557             -0.003299             0.003088     0.236902   \n",
       "5045462            -0.024111             0.025365     0.240266   \n",
       "4756259            -0.044721             0.023807     0.355330   \n",
       "2055833            -0.375000            -0.250000     0.135135   \n",
       "\n",
       "         price_drops_mom  price_drops_yoy  off_market_in_two_weeks  \\\n",
       "4629518         0.045102         0.087559                 0.532710   \n",
       "3949612         0.157548         0.033424                 0.714286   \n",
       "4496443         0.104276         0.088942                 0.783451   \n",
       "5237851        -0.072225         0.067915                 0.606061   \n",
       "4060500         0.035305         0.065955                 0.696281   \n",
       "1778628        -0.035287        -0.073810                 0.809302   \n",
       "713557          0.015569        -0.039062                 0.609375   \n",
       "5045462         0.017923        -0.036010                 0.712121   \n",
       "4756259         0.123803         0.053202                 0.566879   \n",
       "2055833        -0.187446        -0.186293                 0.769231   \n",
       "\n",
       "         off_market_in_two_weeks_mom  off_market_in_two_weeks_yoy  \\\n",
       "4629518                    -0.076665                    -0.037182   \n",
       "3949612                    -0.054945                     0.114286   \n",
       "4496443                    -0.025852                     0.026950   \n",
       "5237851                     0.039182                     0.038319   \n",
       "4060500                    -0.015840                     0.024446   \n",
       "1778628                    -0.020129                     0.050861   \n",
       "713557                     -0.017386                    -0.008807   \n",
       "5045462                    -0.006373                     0.015194   \n",
       "4756259                    -0.044586                    -0.060572   \n",
       "2055833                     0.307692                     0.076923   \n",
       "\n",
       "        parent_metro_region  parent_metro_region_metro_code  \\\n",
       "4629518         Seattle, WA                           42644   \n",
       "3949612         Seattle, WA                           42644   \n",
       "4496443         Seattle, WA                           42644   \n",
       "5237851         Seattle, WA                           42644   \n",
       "4060500         Seattle, WA                           42644   \n",
       "1778628         Seattle, WA                           42644   \n",
       "713557          Seattle, WA                           42644   \n",
       "5045462         Seattle, WA                           42644   \n",
       "4756259         Seattle, WA                           42644   \n",
       "2055833         Seattle, WA                           42644   \n",
       "\n",
       "                last_updated  \n",
       "4629518  2024-05-19 14:23:50  \n",
       "3949612  2024-05-19 14:23:50  \n",
       "4496443  2024-05-19 14:23:50  \n",
       "5237851  2024-05-19 14:23:50  \n",
       "4060500  2024-05-19 14:23:50  \n",
       "1778628  2024-05-19 14:23:50  \n",
       "713557   2024-05-19 14:23:50  \n",
       "5045462  2024-05-19 14:23:50  \n",
       "4756259  2024-05-19 14:23:50  \n",
       "2055833  2024-05-19 14:23:50  "
      ]
     },
     "execution_count": 104,
     "metadata": {},
     "output_type": "execute_result"
    }
   ],
   "source": [
    "wa_df[wa_df['city'] == 'Seattle'].sort_values(by='period_begin', ascending=False).head(10)"
   ]
  },
  {
   "cell_type": "code",
   "execution_count": 105,
   "metadata": {},
   "outputs": [
    {
     "data": {
      "text/html": [
       "<div>\n",
       "<style scoped>\n",
       "    .dataframe tbody tr th:only-of-type {\n",
       "        vertical-align: middle;\n",
       "    }\n",
       "\n",
       "    .dataframe tbody tr th {\n",
       "        vertical-align: top;\n",
       "    }\n",
       "\n",
       "    .dataframe thead th {\n",
       "        text-align: right;\n",
       "    }\n",
       "</style>\n",
       "<table border=\"1\" class=\"dataframe\">\n",
       "  <thead>\n",
       "    <tr style=\"text-align: right;\">\n",
       "      <th></th>\n",
       "      <th>period_begin</th>\n",
       "      <th>period_end</th>\n",
       "      <th>period_duration</th>\n",
       "      <th>region_type</th>\n",
       "      <th>region_type_id</th>\n",
       "      <th>table_id</th>\n",
       "      <th>is_seasonally_adjusted</th>\n",
       "      <th>region</th>\n",
       "      <th>city</th>\n",
       "      <th>state</th>\n",
       "      <th>state_code</th>\n",
       "      <th>property_type</th>\n",
       "      <th>property_type_id</th>\n",
       "      <th>median_sale_price</th>\n",
       "      <th>median_sale_price_mom</th>\n",
       "      <th>median_sale_price_yoy</th>\n",
       "      <th>median_list_price</th>\n",
       "      <th>median_list_price_mom</th>\n",
       "      <th>median_list_price_yoy</th>\n",
       "      <th>median_ppsf</th>\n",
       "      <th>median_ppsf_mom</th>\n",
       "      <th>median_ppsf_yoy</th>\n",
       "      <th>median_list_ppsf</th>\n",
       "      <th>median_list_ppsf_mom</th>\n",
       "      <th>median_list_ppsf_yoy</th>\n",
       "      <th>homes_sold</th>\n",
       "      <th>homes_sold_mom</th>\n",
       "      <th>homes_sold_yoy</th>\n",
       "      <th>pending_sales</th>\n",
       "      <th>pending_sales_mom</th>\n",
       "      <th>pending_sales_yoy</th>\n",
       "      <th>new_listings</th>\n",
       "      <th>new_listings_mom</th>\n",
       "      <th>new_listings_yoy</th>\n",
       "      <th>inventory</th>\n",
       "      <th>inventory_mom</th>\n",
       "      <th>inventory_yoy</th>\n",
       "      <th>months_of_supply</th>\n",
       "      <th>months_of_supply_mom</th>\n",
       "      <th>months_of_supply_yoy</th>\n",
       "      <th>median_dom</th>\n",
       "      <th>median_dom_mom</th>\n",
       "      <th>median_dom_yoy</th>\n",
       "      <th>avg_sale_to_list</th>\n",
       "      <th>avg_sale_to_list_mom</th>\n",
       "      <th>avg_sale_to_list_yoy</th>\n",
       "      <th>sold_above_list</th>\n",
       "      <th>sold_above_list_mom</th>\n",
       "      <th>sold_above_list_yoy</th>\n",
       "      <th>price_drops</th>\n",
       "      <th>price_drops_mom</th>\n",
       "      <th>price_drops_yoy</th>\n",
       "      <th>off_market_in_two_weeks</th>\n",
       "      <th>off_market_in_two_weeks_mom</th>\n",
       "      <th>off_market_in_two_weeks_yoy</th>\n",
       "      <th>parent_metro_region</th>\n",
       "      <th>parent_metro_region_metro_code</th>\n",
       "      <th>last_updated</th>\n",
       "    </tr>\n",
       "  </thead>\n",
       "  <tbody>\n",
       "    <tr>\n",
       "      <th>0</th>\n",
       "      <td>2020-04-01</td>\n",
       "      <td>2020-04-30</td>\n",
       "      <td>30</td>\n",
       "      <td>place</td>\n",
       "      <td>6</td>\n",
       "      <td>21264</td>\n",
       "      <td>f</td>\n",
       "      <td>Aspen Hill, MD</td>\n",
       "      <td>Aspen Hill</td>\n",
       "      <td>Maryland</td>\n",
       "      <td>MD</td>\n",
       "      <td>Single Family Residential</td>\n",
       "      <td>6</td>\n",
       "      <td>543474.0</td>\n",
       "      <td>-0.062976</td>\n",
       "      <td>0.221290</td>\n",
       "      <td>440999.0</td>\n",
       "      <td>0.002270</td>\n",
       "      <td>-0.037120</td>\n",
       "      <td>249.369218</td>\n",
       "      <td>0.095230</td>\n",
       "      <td>0.149669</td>\n",
       "      <td>218.883415</td>\n",
       "      <td>0.023777</td>\n",
       "      <td>-0.010786</td>\n",
       "      <td>27.0</td>\n",
       "      <td>0.080000</td>\n",
       "      <td>-0.372093</td>\n",
       "      <td>27.0</td>\n",
       "      <td>-0.035714</td>\n",
       "      <td>-0.307692</td>\n",
       "      <td>31.0</td>\n",
       "      <td>-0.060606</td>\n",
       "      <td>-0.225</td>\n",
       "      <td>40.0</td>\n",
       "      <td>0.025641</td>\n",
       "      <td>0.250000</td>\n",
       "      <td>1.5</td>\n",
       "      <td>-0.1</td>\n",
       "      <td>0.8</td>\n",
       "      <td>8.0</td>\n",
       "      <td>-7.0</td>\n",
       "      <td>-11.0</td>\n",
       "      <td>1.006563</td>\n",
       "      <td>0.001105</td>\n",
       "      <td>0.005695</td>\n",
       "      <td>0.481481</td>\n",
       "      <td>0.081481</td>\n",
       "      <td>0.062877</td>\n",
       "      <td>0.125000</td>\n",
       "      <td>-0.105769</td>\n",
       "      <td>-0.15625</td>\n",
       "      <td>0.444444</td>\n",
       "      <td>-0.162698</td>\n",
       "      <td>-0.17094</td>\n",
       "      <td>Frederick, MD</td>\n",
       "      <td>23224</td>\n",
       "      <td>2024-05-19 14:23:50</td>\n",
       "    </tr>\n",
       "    <tr>\n",
       "      <th>1</th>\n",
       "      <td>2018-09-01</td>\n",
       "      <td>2018-09-30</td>\n",
       "      <td>30</td>\n",
       "      <td>place</td>\n",
       "      <td>6</td>\n",
       "      <td>17263</td>\n",
       "      <td>f</td>\n",
       "      <td>Riverside, IA</td>\n",
       "      <td>Riverside</td>\n",
       "      <td>Iowa</td>\n",
       "      <td>IA</td>\n",
       "      <td>All Residential</td>\n",
       "      <td>-1</td>\n",
       "      <td>212550.0</td>\n",
       "      <td>1.632198</td>\n",
       "      <td>NaN</td>\n",
       "      <td>141000.0</td>\n",
       "      <td>0.177453</td>\n",
       "      <td>NaN</td>\n",
       "      <td>109.684179</td>\n",
       "      <td>0.576360</td>\n",
       "      <td>NaN</td>\n",
       "      <td>132.365564</td>\n",
       "      <td>0.381859</td>\n",
       "      <td>NaN</td>\n",
       "      <td>2.0</td>\n",
       "      <td>0.000000</td>\n",
       "      <td>NaN</td>\n",
       "      <td>1.0</td>\n",
       "      <td>-0.500000</td>\n",
       "      <td>NaN</td>\n",
       "      <td>2.0</td>\n",
       "      <td>-0.666667</td>\n",
       "      <td>NaN</td>\n",
       "      <td>11.0</td>\n",
       "      <td>0.000000</td>\n",
       "      <td>NaN</td>\n",
       "      <td>5.5</td>\n",
       "      <td>0.0</td>\n",
       "      <td>NaN</td>\n",
       "      <td>595.0</td>\n",
       "      <td>567.0</td>\n",
       "      <td>NaN</td>\n",
       "      <td>0.936765</td>\n",
       "      <td>0.043346</td>\n",
       "      <td>NaN</td>\n",
       "      <td>0.500000</td>\n",
       "      <td>0.500000</td>\n",
       "      <td>NaN</td>\n",
       "      <td>NaN</td>\n",
       "      <td>NaN</td>\n",
       "      <td>NaN</td>\n",
       "      <td>0.000000</td>\n",
       "      <td>0.000000</td>\n",
       "      <td>NaN</td>\n",
       "      <td>Iowa City, IA</td>\n",
       "      <td>26980</td>\n",
       "      <td>2024-05-19 14:23:50</td>\n",
       "    </tr>\n",
       "    <tr>\n",
       "      <th>2</th>\n",
       "      <td>2018-04-01</td>\n",
       "      <td>2018-04-30</td>\n",
       "      <td>30</td>\n",
       "      <td>place</td>\n",
       "      <td>6</td>\n",
       "      <td>18480</td>\n",
       "      <td>f</td>\n",
       "      <td>Staunton, IL</td>\n",
       "      <td>Staunton</td>\n",
       "      <td>Illinois</td>\n",
       "      <td>IL</td>\n",
       "      <td>Single Family Residential</td>\n",
       "      <td>6</td>\n",
       "      <td>97500.0</td>\n",
       "      <td>0.354167</td>\n",
       "      <td>-0.285714</td>\n",
       "      <td>NaN</td>\n",
       "      <td>NaN</td>\n",
       "      <td>NaN</td>\n",
       "      <td>61.416052</td>\n",
       "      <td>0.170381</td>\n",
       "      <td>0.053746</td>\n",
       "      <td>NaN</td>\n",
       "      <td>NaN</td>\n",
       "      <td>NaN</td>\n",
       "      <td>6.0</td>\n",
       "      <td>0.200000</td>\n",
       "      <td>1.000000</td>\n",
       "      <td>NaN</td>\n",
       "      <td>NaN</td>\n",
       "      <td>NaN</td>\n",
       "      <td>NaN</td>\n",
       "      <td>NaN</td>\n",
       "      <td>NaN</td>\n",
       "      <td>1.0</td>\n",
       "      <td>0.000000</td>\n",
       "      <td>-0.909091</td>\n",
       "      <td>0.2</td>\n",
       "      <td>0.0</td>\n",
       "      <td>-3.5</td>\n",
       "      <td>65.0</td>\n",
       "      <td>NaN</td>\n",
       "      <td>-199.0</td>\n",
       "      <td>0.883412</td>\n",
       "      <td>-0.046591</td>\n",
       "      <td>-0.071837</td>\n",
       "      <td>0.000000</td>\n",
       "      <td>0.000000</td>\n",
       "      <td>0.000000</td>\n",
       "      <td>NaN</td>\n",
       "      <td>NaN</td>\n",
       "      <td>NaN</td>\n",
       "      <td>NaN</td>\n",
       "      <td>NaN</td>\n",
       "      <td>NaN</td>\n",
       "      <td>St. Louis, MO</td>\n",
       "      <td>41180</td>\n",
       "      <td>2024-05-19 14:23:50</td>\n",
       "    </tr>\n",
       "    <tr>\n",
       "      <th>3</th>\n",
       "      <td>2018-09-01</td>\n",
       "      <td>2018-09-30</td>\n",
       "      <td>30</td>\n",
       "      <td>place</td>\n",
       "      <td>6</td>\n",
       "      <td>4222</td>\n",
       "      <td>f</td>\n",
       "      <td>Cornwall, PA</td>\n",
       "      <td>Cornwall</td>\n",
       "      <td>Pennsylvania</td>\n",
       "      <td>PA</td>\n",
       "      <td>Single Family Residential</td>\n",
       "      <td>6</td>\n",
       "      <td>281007.0</td>\n",
       "      <td>-0.137989</td>\n",
       "      <td>0.003596</td>\n",
       "      <td>255000.0</td>\n",
       "      <td>-0.203792</td>\n",
       "      <td>0.146325</td>\n",
       "      <td>121.704450</td>\n",
       "      <td>0.006402</td>\n",
       "      <td>-0.123728</td>\n",
       "      <td>128.022541</td>\n",
       "      <td>-0.014216</td>\n",
       "      <td>0.138751</td>\n",
       "      <td>7.0</td>\n",
       "      <td>-0.222222</td>\n",
       "      <td>-0.222222</td>\n",
       "      <td>8.0</td>\n",
       "      <td>0.600000</td>\n",
       "      <td>7.000000</td>\n",
       "      <td>7.0</td>\n",
       "      <td>0.166667</td>\n",
       "      <td>6.000</td>\n",
       "      <td>14.0</td>\n",
       "      <td>-0.066667</td>\n",
       "      <td>0.076923</td>\n",
       "      <td>2.0</td>\n",
       "      <td>0.3</td>\n",
       "      <td>0.6</td>\n",
       "      <td>132.0</td>\n",
       "      <td>101.0</td>\n",
       "      <td>104.0</td>\n",
       "      <td>0.963201</td>\n",
       "      <td>-0.032614</td>\n",
       "      <td>-0.027382</td>\n",
       "      <td>0.142857</td>\n",
       "      <td>-0.301587</td>\n",
       "      <td>-0.190476</td>\n",
       "      <td>0.428571</td>\n",
       "      <td>0.361905</td>\n",
       "      <td>NaN</td>\n",
       "      <td>0.750000</td>\n",
       "      <td>0.150000</td>\n",
       "      <td>0.75000</td>\n",
       "      <td>Lebanon, PA</td>\n",
       "      <td>30140</td>\n",
       "      <td>2024-05-19 14:23:50</td>\n",
       "    </tr>\n",
       "    <tr>\n",
       "      <th>4</th>\n",
       "      <td>2023-04-01</td>\n",
       "      <td>2023-04-30</td>\n",
       "      <td>30</td>\n",
       "      <td>place</td>\n",
       "      <td>6</td>\n",
       "      <td>37021</td>\n",
       "      <td>f</td>\n",
       "      <td>Fairfax, CA</td>\n",
       "      <td>Fairfax</td>\n",
       "      <td>California</td>\n",
       "      <td>CA</td>\n",
       "      <td>Single Family Residential</td>\n",
       "      <td>6</td>\n",
       "      <td>335000.0</td>\n",
       "      <td>NaN</td>\n",
       "      <td>0.077170</td>\n",
       "      <td>NaN</td>\n",
       "      <td>NaN</td>\n",
       "      <td>NaN</td>\n",
       "      <td>239.456755</td>\n",
       "      <td>NaN</td>\n",
       "      <td>0.017744</td>\n",
       "      <td>NaN</td>\n",
       "      <td>NaN</td>\n",
       "      <td>NaN</td>\n",
       "      <td>1.0</td>\n",
       "      <td>NaN</td>\n",
       "      <td>-0.500000</td>\n",
       "      <td>2.0</td>\n",
       "      <td>NaN</td>\n",
       "      <td>1.000000</td>\n",
       "      <td>NaN</td>\n",
       "      <td>NaN</td>\n",
       "      <td>NaN</td>\n",
       "      <td>NaN</td>\n",
       "      <td>NaN</td>\n",
       "      <td>NaN</td>\n",
       "      <td>NaN</td>\n",
       "      <td>NaN</td>\n",
       "      <td>NaN</td>\n",
       "      <td>8.0</td>\n",
       "      <td>NaN</td>\n",
       "      <td>-18.0</td>\n",
       "      <td>1.000000</td>\n",
       "      <td>NaN</td>\n",
       "      <td>-0.046365</td>\n",
       "      <td>0.000000</td>\n",
       "      <td>NaN</td>\n",
       "      <td>-1.000000</td>\n",
       "      <td>NaN</td>\n",
       "      <td>NaN</td>\n",
       "      <td>NaN</td>\n",
       "      <td>0.500000</td>\n",
       "      <td>NaN</td>\n",
       "      <td>-0.50000</td>\n",
       "      <td>Bakersfield, CA</td>\n",
       "      <td>12540</td>\n",
       "      <td>2024-05-19 14:23:50</td>\n",
       "    </tr>\n",
       "  </tbody>\n",
       "</table>\n",
       "</div>"
      ],
      "text/plain": [
       "  period_begin  period_end  period_duration region_type  region_type_id  \\\n",
       "0   2020-04-01  2020-04-30               30       place               6   \n",
       "1   2018-09-01  2018-09-30               30       place               6   \n",
       "2   2018-04-01  2018-04-30               30       place               6   \n",
       "3   2018-09-01  2018-09-30               30       place               6   \n",
       "4   2023-04-01  2023-04-30               30       place               6   \n",
       "\n",
       "   table_id is_seasonally_adjusted          region        city         state  \\\n",
       "0     21264                      f  Aspen Hill, MD  Aspen Hill      Maryland   \n",
       "1     17263                      f   Riverside, IA   Riverside          Iowa   \n",
       "2     18480                      f    Staunton, IL    Staunton      Illinois   \n",
       "3      4222                      f    Cornwall, PA    Cornwall  Pennsylvania   \n",
       "4     37021                      f     Fairfax, CA     Fairfax    California   \n",
       "\n",
       "  state_code              property_type  property_type_id  median_sale_price  \\\n",
       "0         MD  Single Family Residential                 6           543474.0   \n",
       "1         IA            All Residential                -1           212550.0   \n",
       "2         IL  Single Family Residential                 6            97500.0   \n",
       "3         PA  Single Family Residential                 6           281007.0   \n",
       "4         CA  Single Family Residential                 6           335000.0   \n",
       "\n",
       "   median_sale_price_mom  median_sale_price_yoy  median_list_price  \\\n",
       "0              -0.062976               0.221290           440999.0   \n",
       "1               1.632198                    NaN           141000.0   \n",
       "2               0.354167              -0.285714                NaN   \n",
       "3              -0.137989               0.003596           255000.0   \n",
       "4                    NaN               0.077170                NaN   \n",
       "\n",
       "   median_list_price_mom  median_list_price_yoy  median_ppsf  median_ppsf_mom  \\\n",
       "0               0.002270              -0.037120   249.369218         0.095230   \n",
       "1               0.177453                    NaN   109.684179         0.576360   \n",
       "2                    NaN                    NaN    61.416052         0.170381   \n",
       "3              -0.203792               0.146325   121.704450         0.006402   \n",
       "4                    NaN                    NaN   239.456755              NaN   \n",
       "\n",
       "   median_ppsf_yoy  median_list_ppsf  median_list_ppsf_mom  \\\n",
       "0         0.149669        218.883415              0.023777   \n",
       "1              NaN        132.365564              0.381859   \n",
       "2         0.053746               NaN                   NaN   \n",
       "3        -0.123728        128.022541             -0.014216   \n",
       "4         0.017744               NaN                   NaN   \n",
       "\n",
       "   median_list_ppsf_yoy  homes_sold  homes_sold_mom  homes_sold_yoy  \\\n",
       "0             -0.010786        27.0        0.080000       -0.372093   \n",
       "1                   NaN         2.0        0.000000             NaN   \n",
       "2                   NaN         6.0        0.200000        1.000000   \n",
       "3              0.138751         7.0       -0.222222       -0.222222   \n",
       "4                   NaN         1.0             NaN       -0.500000   \n",
       "\n",
       "   pending_sales  pending_sales_mom  pending_sales_yoy  new_listings  \\\n",
       "0           27.0          -0.035714          -0.307692          31.0   \n",
       "1            1.0          -0.500000                NaN           2.0   \n",
       "2            NaN                NaN                NaN           NaN   \n",
       "3            8.0           0.600000           7.000000           7.0   \n",
       "4            2.0                NaN           1.000000           NaN   \n",
       "\n",
       "   new_listings_mom  new_listings_yoy  inventory  inventory_mom  \\\n",
       "0         -0.060606            -0.225       40.0       0.025641   \n",
       "1         -0.666667               NaN       11.0       0.000000   \n",
       "2               NaN               NaN        1.0       0.000000   \n",
       "3          0.166667             6.000       14.0      -0.066667   \n",
       "4               NaN               NaN        NaN            NaN   \n",
       "\n",
       "   inventory_yoy  months_of_supply  months_of_supply_mom  \\\n",
       "0       0.250000               1.5                  -0.1   \n",
       "1            NaN               5.5                   0.0   \n",
       "2      -0.909091               0.2                   0.0   \n",
       "3       0.076923               2.0                   0.3   \n",
       "4            NaN               NaN                   NaN   \n",
       "\n",
       "   months_of_supply_yoy  median_dom  median_dom_mom  median_dom_yoy  \\\n",
       "0                   0.8         8.0            -7.0           -11.0   \n",
       "1                   NaN       595.0           567.0             NaN   \n",
       "2                  -3.5        65.0             NaN          -199.0   \n",
       "3                   0.6       132.0           101.0           104.0   \n",
       "4                   NaN         8.0             NaN           -18.0   \n",
       "\n",
       "   avg_sale_to_list  avg_sale_to_list_mom  avg_sale_to_list_yoy  \\\n",
       "0          1.006563              0.001105              0.005695   \n",
       "1          0.936765              0.043346                   NaN   \n",
       "2          0.883412             -0.046591             -0.071837   \n",
       "3          0.963201             -0.032614             -0.027382   \n",
       "4          1.000000                   NaN             -0.046365   \n",
       "\n",
       "   sold_above_list  sold_above_list_mom  sold_above_list_yoy  price_drops  \\\n",
       "0         0.481481             0.081481             0.062877     0.125000   \n",
       "1         0.500000             0.500000                  NaN          NaN   \n",
       "2         0.000000             0.000000             0.000000          NaN   \n",
       "3         0.142857            -0.301587            -0.190476     0.428571   \n",
       "4         0.000000                  NaN            -1.000000          NaN   \n",
       "\n",
       "   price_drops_mom  price_drops_yoy  off_market_in_two_weeks  \\\n",
       "0        -0.105769         -0.15625                 0.444444   \n",
       "1              NaN              NaN                 0.000000   \n",
       "2              NaN              NaN                      NaN   \n",
       "3         0.361905              NaN                 0.750000   \n",
       "4              NaN              NaN                 0.500000   \n",
       "\n",
       "   off_market_in_two_weeks_mom  off_market_in_two_weeks_yoy  \\\n",
       "0                    -0.162698                     -0.17094   \n",
       "1                     0.000000                          NaN   \n",
       "2                          NaN                          NaN   \n",
       "3                     0.150000                      0.75000   \n",
       "4                          NaN                     -0.50000   \n",
       "\n",
       "  parent_metro_region  parent_metro_region_metro_code         last_updated  \n",
       "0       Frederick, MD                           23224  2024-05-19 14:23:50  \n",
       "1       Iowa City, IA                           26980  2024-05-19 14:23:50  \n",
       "2       St. Louis, MO                           41180  2024-05-19 14:23:50  \n",
       "3         Lebanon, PA                           30140  2024-05-19 14:23:50  \n",
       "4     Bakersfield, CA                           12540  2024-05-19 14:23:50  "
      ]
     },
     "execution_count": 105,
     "metadata": {},
     "output_type": "execute_result"
    }
   ],
   "source": [
    "df.head(5)"
   ]
  },
  {
   "cell_type": "code",
   "execution_count": 106,
   "metadata": {},
   "outputs": [],
   "source": [
    "df['period_begin'] = pd.to_datetime(df['period_begin'])\n",
    "df['period_end'] = pd.to_datetime(df['period_end'])\n",
    "\n",
    "df['year_begin'] = df['period_begin'].dt.year\n",
    "df['year_end'] = df['period_end'].dt.year\n",
    "\n",
    "df['month_begin_num'] = df['period_begin'].dt.month\n",
    "df['month_end_num'] = df['period_end'].dt.month\n",
    "df['month_begin'] = df['period_begin'].dt.month\n",
    "df['month_end'] = df['period_end'].dt.month\n",
    "\n",
    "month_dict = {\n",
    "    \"month_begin\": {\n",
    "        1 : \"Jan\",\n",
    "        2 : \"Feb\",\n",
    "        3: \"Mar\",\n",
    "        4: \"Apr\",\n",
    "        5: \"May\",\n",
    "        6: \"Jun\",\n",
    "        7: \"Jul\",\n",
    "        8: \"Aug\",\n",
    "        9: \"Sep\",\n",
    "        10: \"Oct\",\n",
    "        11: \"Nov\",\n",
    "        12: \"Dec\",\n",
    "    },\n",
    "\"month_end\": {\n",
    "    1 : \"Jan\",\n",
    "        2 :  \"Feb\",\n",
    "        3: \"Mar\",\n",
    "        4: \"Apr\",\n",
    "        5: \"May\",\n",
    "        6: \"Jun\",\n",
    "        7: \"Jul\",\n",
    "        8: \"Aug\",\n",
    "        9: \"Sep\",\n",
    "        10: \"Oct\",\n",
    "        11: \"Nov\",\n",
    "        12: \"Dec\"\n",
    "    }\n",
    "}\n",
    "\n",
    "df = df.replace(month_dict)"
   ]
  },
  {
   "cell_type": "code",
   "execution_count": 107,
   "metadata": {},
   "outputs": [
    {
     "data": {
      "text/html": [
       "<div>\n",
       "<style scoped>\n",
       "    .dataframe tbody tr th:only-of-type {\n",
       "        vertical-align: middle;\n",
       "    }\n",
       "\n",
       "    .dataframe tbody tr th {\n",
       "        vertical-align: top;\n",
       "    }\n",
       "\n",
       "    .dataframe thead th {\n",
       "        text-align: right;\n",
       "    }\n",
       "</style>\n",
       "<table border=\"1\" class=\"dataframe\">\n",
       "  <thead>\n",
       "    <tr style=\"text-align: right;\">\n",
       "      <th></th>\n",
       "      <th>period_begin</th>\n",
       "      <th>period_end</th>\n",
       "      <th>period_duration</th>\n",
       "      <th>region_type</th>\n",
       "      <th>region_type_id</th>\n",
       "      <th>table_id</th>\n",
       "      <th>is_seasonally_adjusted</th>\n",
       "      <th>region</th>\n",
       "      <th>city</th>\n",
       "      <th>state</th>\n",
       "      <th>state_code</th>\n",
       "      <th>property_type</th>\n",
       "      <th>property_type_id</th>\n",
       "      <th>median_sale_price</th>\n",
       "      <th>median_sale_price_mom</th>\n",
       "      <th>median_sale_price_yoy</th>\n",
       "      <th>median_list_price</th>\n",
       "      <th>median_list_price_mom</th>\n",
       "      <th>median_list_price_yoy</th>\n",
       "      <th>median_ppsf</th>\n",
       "      <th>median_ppsf_mom</th>\n",
       "      <th>median_ppsf_yoy</th>\n",
       "      <th>median_list_ppsf</th>\n",
       "      <th>median_list_ppsf_mom</th>\n",
       "      <th>median_list_ppsf_yoy</th>\n",
       "      <th>homes_sold</th>\n",
       "      <th>homes_sold_mom</th>\n",
       "      <th>homes_sold_yoy</th>\n",
       "      <th>pending_sales</th>\n",
       "      <th>pending_sales_mom</th>\n",
       "      <th>pending_sales_yoy</th>\n",
       "      <th>new_listings</th>\n",
       "      <th>new_listings_mom</th>\n",
       "      <th>new_listings_yoy</th>\n",
       "      <th>inventory</th>\n",
       "      <th>inventory_mom</th>\n",
       "      <th>inventory_yoy</th>\n",
       "      <th>months_of_supply</th>\n",
       "      <th>months_of_supply_mom</th>\n",
       "      <th>months_of_supply_yoy</th>\n",
       "      <th>median_dom</th>\n",
       "      <th>median_dom_mom</th>\n",
       "      <th>median_dom_yoy</th>\n",
       "      <th>avg_sale_to_list</th>\n",
       "      <th>avg_sale_to_list_mom</th>\n",
       "      <th>avg_sale_to_list_yoy</th>\n",
       "      <th>sold_above_list</th>\n",
       "      <th>sold_above_list_mom</th>\n",
       "      <th>sold_above_list_yoy</th>\n",
       "      <th>price_drops</th>\n",
       "      <th>price_drops_mom</th>\n",
       "      <th>price_drops_yoy</th>\n",
       "      <th>off_market_in_two_weeks</th>\n",
       "      <th>off_market_in_two_weeks_mom</th>\n",
       "      <th>off_market_in_two_weeks_yoy</th>\n",
       "      <th>parent_metro_region</th>\n",
       "      <th>parent_metro_region_metro_code</th>\n",
       "      <th>last_updated</th>\n",
       "      <th>year_begin</th>\n",
       "      <th>year_end</th>\n",
       "      <th>month_begin_num</th>\n",
       "      <th>month_end_num</th>\n",
       "      <th>month_begin</th>\n",
       "      <th>month_end</th>\n",
       "    </tr>\n",
       "  </thead>\n",
       "  <tbody>\n",
       "    <tr>\n",
       "      <th>0</th>\n",
       "      <td>2020-04-01</td>\n",
       "      <td>2020-04-30</td>\n",
       "      <td>30</td>\n",
       "      <td>place</td>\n",
       "      <td>6</td>\n",
       "      <td>21264</td>\n",
       "      <td>f</td>\n",
       "      <td>Aspen Hill, MD</td>\n",
       "      <td>Aspen Hill</td>\n",
       "      <td>Maryland</td>\n",
       "      <td>MD</td>\n",
       "      <td>Single Family Residential</td>\n",
       "      <td>6</td>\n",
       "      <td>543474.0</td>\n",
       "      <td>-0.062976</td>\n",
       "      <td>0.22129</td>\n",
       "      <td>440999.0</td>\n",
       "      <td>0.00227</td>\n",
       "      <td>-0.03712</td>\n",
       "      <td>249.369218</td>\n",
       "      <td>0.09523</td>\n",
       "      <td>0.149669</td>\n",
       "      <td>218.883415</td>\n",
       "      <td>0.023777</td>\n",
       "      <td>-0.010786</td>\n",
       "      <td>27.0</td>\n",
       "      <td>0.08</td>\n",
       "      <td>-0.372093</td>\n",
       "      <td>27.0</td>\n",
       "      <td>-0.035714</td>\n",
       "      <td>-0.307692</td>\n",
       "      <td>31.0</td>\n",
       "      <td>-0.060606</td>\n",
       "      <td>-0.225</td>\n",
       "      <td>40.0</td>\n",
       "      <td>0.025641</td>\n",
       "      <td>0.25</td>\n",
       "      <td>1.5</td>\n",
       "      <td>-0.1</td>\n",
       "      <td>0.8</td>\n",
       "      <td>8.0</td>\n",
       "      <td>-7.0</td>\n",
       "      <td>-11.0</td>\n",
       "      <td>1.006563</td>\n",
       "      <td>0.001105</td>\n",
       "      <td>0.005695</td>\n",
       "      <td>0.481481</td>\n",
       "      <td>0.081481</td>\n",
       "      <td>0.062877</td>\n",
       "      <td>0.125</td>\n",
       "      <td>-0.105769</td>\n",
       "      <td>-0.15625</td>\n",
       "      <td>0.444444</td>\n",
       "      <td>-0.162698</td>\n",
       "      <td>-0.17094</td>\n",
       "      <td>Frederick, MD</td>\n",
       "      <td>23224</td>\n",
       "      <td>2024-05-19 14:23:50</td>\n",
       "      <td>2020</td>\n",
       "      <td>2020</td>\n",
       "      <td>4</td>\n",
       "      <td>4</td>\n",
       "      <td>Apr</td>\n",
       "      <td>Apr</td>\n",
       "    </tr>\n",
       "  </tbody>\n",
       "</table>\n",
       "</div>"
      ],
      "text/plain": [
       "  period_begin period_end  period_duration region_type  region_type_id  \\\n",
       "0   2020-04-01 2020-04-30               30       place               6   \n",
       "\n",
       "   table_id is_seasonally_adjusted          region        city     state  \\\n",
       "0     21264                      f  Aspen Hill, MD  Aspen Hill  Maryland   \n",
       "\n",
       "  state_code              property_type  property_type_id  median_sale_price  \\\n",
       "0         MD  Single Family Residential                 6           543474.0   \n",
       "\n",
       "   median_sale_price_mom  median_sale_price_yoy  median_list_price  \\\n",
       "0              -0.062976                0.22129           440999.0   \n",
       "\n",
       "   median_list_price_mom  median_list_price_yoy  median_ppsf  median_ppsf_mom  \\\n",
       "0                0.00227               -0.03712   249.369218          0.09523   \n",
       "\n",
       "   median_ppsf_yoy  median_list_ppsf  median_list_ppsf_mom  \\\n",
       "0         0.149669        218.883415              0.023777   \n",
       "\n",
       "   median_list_ppsf_yoy  homes_sold  homes_sold_mom  homes_sold_yoy  \\\n",
       "0             -0.010786        27.0            0.08       -0.372093   \n",
       "\n",
       "   pending_sales  pending_sales_mom  pending_sales_yoy  new_listings  \\\n",
       "0           27.0          -0.035714          -0.307692          31.0   \n",
       "\n",
       "   new_listings_mom  new_listings_yoy  inventory  inventory_mom  \\\n",
       "0         -0.060606            -0.225       40.0       0.025641   \n",
       "\n",
       "   inventory_yoy  months_of_supply  months_of_supply_mom  \\\n",
       "0           0.25               1.5                  -0.1   \n",
       "\n",
       "   months_of_supply_yoy  median_dom  median_dom_mom  median_dom_yoy  \\\n",
       "0                   0.8         8.0            -7.0           -11.0   \n",
       "\n",
       "   avg_sale_to_list  avg_sale_to_list_mom  avg_sale_to_list_yoy  \\\n",
       "0          1.006563              0.001105              0.005695   \n",
       "\n",
       "   sold_above_list  sold_above_list_mom  sold_above_list_yoy  price_drops  \\\n",
       "0         0.481481             0.081481             0.062877        0.125   \n",
       "\n",
       "   price_drops_mom  price_drops_yoy  off_market_in_two_weeks  \\\n",
       "0        -0.105769         -0.15625                 0.444444   \n",
       "\n",
       "   off_market_in_two_weeks_mom  off_market_in_two_weeks_yoy  \\\n",
       "0                    -0.162698                     -0.17094   \n",
       "\n",
       "  parent_metro_region  parent_metro_region_metro_code         last_updated  \\\n",
       "0       Frederick, MD                           23224  2024-05-19 14:23:50   \n",
       "\n",
       "   year_begin  year_end  month_begin_num  month_end_num month_begin month_end  \n",
       "0        2020      2020                4              4         Apr       Apr  "
      ]
     },
     "execution_count": 107,
     "metadata": {},
     "output_type": "execute_result"
    }
   ],
   "source": [
    "df.head(1)"
   ]
  },
  {
   "cell_type": "code",
   "execution_count": 108,
   "metadata": {},
   "outputs": [],
   "source": [
    "state_column_stats = pd.DataFrame()\n",
    "\n",
    "for col in df.columns:\n",
    "    state_column_stats = state_column_stats.append({\n",
    "        \"column\": col,\n",
    "        \"null_count\": df[col].isna().sum(),\n",
    "        \"total\": len(df),\n",
    "        \"null_percent\": df[col].isna().sum() / len(df)\n",
    "    }, ignore_index = True)\n",
    "\n"
   ]
  },
  {
   "cell_type": "code",
   "execution_count": 109,
   "metadata": {},
   "outputs": [
    {
     "data": {
      "text/html": [
       "<div>\n",
       "<style scoped>\n",
       "    .dataframe tbody tr th:only-of-type {\n",
       "        vertical-align: middle;\n",
       "    }\n",
       "\n",
       "    .dataframe tbody tr th {\n",
       "        vertical-align: top;\n",
       "    }\n",
       "\n",
       "    .dataframe thead th {\n",
       "        text-align: right;\n",
       "    }\n",
       "</style>\n",
       "<table border=\"1\" class=\"dataframe\">\n",
       "  <thead>\n",
       "    <tr style=\"text-align: right;\">\n",
       "      <th></th>\n",
       "      <th>column</th>\n",
       "      <th>null_count</th>\n",
       "      <th>null_percent</th>\n",
       "      <th>total</th>\n",
       "    </tr>\n",
       "  </thead>\n",
       "  <tbody>\n",
       "    <tr>\n",
       "      <th>51</th>\n",
       "      <td>price_drops_yoy</td>\n",
       "      <td>3196037.0</td>\n",
       "      <td>0.596867</td>\n",
       "      <td>5354687.0</td>\n",
       "    </tr>\n",
       "    <tr>\n",
       "      <th>50</th>\n",
       "      <td>price_drops_mom</td>\n",
       "      <td>2982179.0</td>\n",
       "      <td>0.556929</td>\n",
       "      <td>5354687.0</td>\n",
       "    </tr>\n",
       "    <tr>\n",
       "      <th>49</th>\n",
       "      <td>price_drops</td>\n",
       "      <td>2497680.0</td>\n",
       "      <td>0.466447</td>\n",
       "      <td>5354687.0</td>\n",
       "    </tr>\n",
       "    <tr>\n",
       "      <th>30</th>\n",
       "      <td>pending_sales_yoy</td>\n",
       "      <td>2054359.0</td>\n",
       "      <td>0.383656</td>\n",
       "      <td>5354687.0</td>\n",
       "    </tr>\n",
       "    <tr>\n",
       "      <th>54</th>\n",
       "      <td>off_market_in_two_weeks_yoy</td>\n",
       "      <td>1973627.0</td>\n",
       "      <td>0.368579</td>\n",
       "      <td>5354687.0</td>\n",
       "    </tr>\n",
       "    <tr>\n",
       "      <th>29</th>\n",
       "      <td>pending_sales_mom</td>\n",
       "      <td>1933960.0</td>\n",
       "      <td>0.361171</td>\n",
       "      <td>5354687.0</td>\n",
       "    </tr>\n",
       "    <tr>\n",
       "      <th>53</th>\n",
       "      <td>off_market_in_two_weeks_mom</td>\n",
       "      <td>1846986.0</td>\n",
       "      <td>0.344929</td>\n",
       "      <td>5354687.0</td>\n",
       "    </tr>\n",
       "    <tr>\n",
       "      <th>33</th>\n",
       "      <td>new_listings_yoy</td>\n",
       "      <td>1679199.0</td>\n",
       "      <td>0.313594</td>\n",
       "      <td>5354687.0</td>\n",
       "    </tr>\n",
       "    <tr>\n",
       "      <th>24</th>\n",
       "      <td>median_list_ppsf_yoy</td>\n",
       "      <td>1675805.0</td>\n",
       "      <td>0.312960</td>\n",
       "      <td>5354687.0</td>\n",
       "    </tr>\n",
       "    <tr>\n",
       "      <th>18</th>\n",
       "      <td>median_list_price_yoy</td>\n",
       "      <td>1656811.0</td>\n",
       "      <td>0.309413</td>\n",
       "      <td>5354687.0</td>\n",
       "    </tr>\n",
       "    <tr>\n",
       "      <th>23</th>\n",
       "      <td>median_list_ppsf_mom</td>\n",
       "      <td>1570954.0</td>\n",
       "      <td>0.293379</td>\n",
       "      <td>5354687.0</td>\n",
       "    </tr>\n",
       "    <tr>\n",
       "      <th>32</th>\n",
       "      <td>new_listings_mom</td>\n",
       "      <td>1570673.0</td>\n",
       "      <td>0.293327</td>\n",
       "      <td>5354687.0</td>\n",
       "    </tr>\n",
       "    <tr>\n",
       "      <th>17</th>\n",
       "      <td>median_list_price_mom</td>\n",
       "      <td>1552301.0</td>\n",
       "      <td>0.289896</td>\n",
       "      <td>5354687.0</td>\n",
       "    </tr>\n",
       "    <tr>\n",
       "      <th>36</th>\n",
       "      <td>inventory_yoy</td>\n",
       "      <td>1327965.0</td>\n",
       "      <td>0.248000</td>\n",
       "      <td>5354687.0</td>\n",
       "    </tr>\n",
       "    <tr>\n",
       "      <th>39</th>\n",
       "      <td>months_of_supply_yoy</td>\n",
       "      <td>1253084.0</td>\n",
       "      <td>0.234016</td>\n",
       "      <td>5354687.0</td>\n",
       "    </tr>\n",
       "    <tr>\n",
       "      <th>45</th>\n",
       "      <td>avg_sale_to_list_yoy</td>\n",
       "      <td>1206445.0</td>\n",
       "      <td>0.225306</td>\n",
       "      <td>5354687.0</td>\n",
       "    </tr>\n",
       "    <tr>\n",
       "      <th>35</th>\n",
       "      <td>inventory_mom</td>\n",
       "      <td>1189028.0</td>\n",
       "      <td>0.222054</td>\n",
       "      <td>5354687.0</td>\n",
       "    </tr>\n",
       "    <tr>\n",
       "      <th>28</th>\n",
       "      <td>pending_sales</td>\n",
       "      <td>1151984.0</td>\n",
       "      <td>0.215136</td>\n",
       "      <td>5354687.0</td>\n",
       "    </tr>\n",
       "    <tr>\n",
       "      <th>42</th>\n",
       "      <td>median_dom_yoy</td>\n",
       "      <td>1150396.0</td>\n",
       "      <td>0.214839</td>\n",
       "      <td>5354687.0</td>\n",
       "    </tr>\n",
       "    <tr>\n",
       "      <th>21</th>\n",
       "      <td>median_ppsf_yoy</td>\n",
       "      <td>1138198.0</td>\n",
       "      <td>0.212561</td>\n",
       "      <td>5354687.0</td>\n",
       "    </tr>\n",
       "    <tr>\n",
       "      <th>38</th>\n",
       "      <td>months_of_supply_mom</td>\n",
       "      <td>1123239.0</td>\n",
       "      <td>0.209767</td>\n",
       "      <td>5354687.0</td>\n",
       "    </tr>\n",
       "    <tr>\n",
       "      <th>44</th>\n",
       "      <td>avg_sale_to_list_mom</td>\n",
       "      <td>1110695.0</td>\n",
       "      <td>0.207425</td>\n",
       "      <td>5354687.0</td>\n",
       "    </tr>\n",
       "    <tr>\n",
       "      <th>48</th>\n",
       "      <td>sold_above_list_yoy</td>\n",
       "      <td>1108729.0</td>\n",
       "      <td>0.207058</td>\n",
       "      <td>5354687.0</td>\n",
       "    </tr>\n",
       "    <tr>\n",
       "      <th>15</th>\n",
       "      <td>median_sale_price_yoy</td>\n",
       "      <td>1084079.0</td>\n",
       "      <td>0.202454</td>\n",
       "      <td>5354687.0</td>\n",
       "    </tr>\n",
       "    <tr>\n",
       "      <th>27</th>\n",
       "      <td>homes_sold_yoy</td>\n",
       "      <td>1083663.0</td>\n",
       "      <td>0.202377</td>\n",
       "      <td>5354687.0</td>\n",
       "    </tr>\n",
       "    <tr>\n",
       "      <th>52</th>\n",
       "      <td>off_market_in_two_weeks</td>\n",
       "      <td>1047032.0</td>\n",
       "      <td>0.195536</td>\n",
       "      <td>5354687.0</td>\n",
       "    </tr>\n",
       "    <tr>\n",
       "      <th>41</th>\n",
       "      <td>median_dom_mom</td>\n",
       "      <td>1043222.0</td>\n",
       "      <td>0.194824</td>\n",
       "      <td>5354687.0</td>\n",
       "    </tr>\n",
       "    <tr>\n",
       "      <th>20</th>\n",
       "      <td>median_ppsf_mom</td>\n",
       "      <td>1034825.0</td>\n",
       "      <td>0.193256</td>\n",
       "      <td>5354687.0</td>\n",
       "    </tr>\n",
       "    <tr>\n",
       "      <th>47</th>\n",
       "      <td>sold_above_list_mom</td>\n",
       "      <td>1005386.0</td>\n",
       "      <td>0.187758</td>\n",
       "      <td>5354687.0</td>\n",
       "    </tr>\n",
       "    <tr>\n",
       "      <th>14</th>\n",
       "      <td>median_sale_price_mom</td>\n",
       "      <td>981087.0</td>\n",
       "      <td>0.183220</td>\n",
       "      <td>5354687.0</td>\n",
       "    </tr>\n",
       "    <tr>\n",
       "      <th>26</th>\n",
       "      <td>homes_sold_mom</td>\n",
       "      <td>980705.0</td>\n",
       "      <td>0.183149</td>\n",
       "      <td>5354687.0</td>\n",
       "    </tr>\n",
       "    <tr>\n",
       "      <th>31</th>\n",
       "      <td>new_listings</td>\n",
       "      <td>873863.0</td>\n",
       "      <td>0.163196</td>\n",
       "      <td>5354687.0</td>\n",
       "    </tr>\n",
       "    <tr>\n",
       "      <th>22</th>\n",
       "      <td>median_list_ppsf</td>\n",
       "      <td>872581.0</td>\n",
       "      <td>0.162956</td>\n",
       "      <td>5354687.0</td>\n",
       "    </tr>\n",
       "    <tr>\n",
       "      <th>16</th>\n",
       "      <td>median_list_price</td>\n",
       "      <td>853272.0</td>\n",
       "      <td>0.159350</td>\n",
       "      <td>5354687.0</td>\n",
       "    </tr>\n",
       "    <tr>\n",
       "      <th>34</th>\n",
       "      <td>inventory</td>\n",
       "      <td>423284.0</td>\n",
       "      <td>0.079049</td>\n",
       "      <td>5354687.0</td>\n",
       "    </tr>\n",
       "    <tr>\n",
       "      <th>37</th>\n",
       "      <td>months_of_supply</td>\n",
       "      <td>344188.0</td>\n",
       "      <td>0.064278</td>\n",
       "      <td>5354687.0</td>\n",
       "    </tr>\n",
       "    <tr>\n",
       "      <th>43</th>\n",
       "      <td>avg_sale_to_list</td>\n",
       "      <td>172568.0</td>\n",
       "      <td>0.032227</td>\n",
       "      <td>5354687.0</td>\n",
       "    </tr>\n",
       "    <tr>\n",
       "      <th>40</th>\n",
       "      <td>median_dom</td>\n",
       "      <td>70742.0</td>\n",
       "      <td>0.013211</td>\n",
       "      <td>5354687.0</td>\n",
       "    </tr>\n",
       "    <tr>\n",
       "      <th>19</th>\n",
       "      <td>median_ppsf</td>\n",
       "      <td>69691.0</td>\n",
       "      <td>0.013015</td>\n",
       "      <td>5354687.0</td>\n",
       "    </tr>\n",
       "    <tr>\n",
       "      <th>46</th>\n",
       "      <td>sold_above_list</td>\n",
       "      <td>36724.0</td>\n",
       "      <td>0.006858</td>\n",
       "      <td>5354687.0</td>\n",
       "    </tr>\n",
       "    <tr>\n",
       "      <th>13</th>\n",
       "      <td>median_sale_price</td>\n",
       "      <td>6138.0</td>\n",
       "      <td>0.001146</td>\n",
       "      <td>5354687.0</td>\n",
       "    </tr>\n",
       "    <tr>\n",
       "      <th>25</th>\n",
       "      <td>homes_sold</td>\n",
       "      <td>5719.0</td>\n",
       "      <td>0.001068</td>\n",
       "      <td>5354687.0</td>\n",
       "    </tr>\n",
       "  </tbody>\n",
       "</table>\n",
       "</div>"
      ],
      "text/plain": [
       "                         column  null_count  null_percent      total\n",
       "51              price_drops_yoy   3196037.0      0.596867  5354687.0\n",
       "50              price_drops_mom   2982179.0      0.556929  5354687.0\n",
       "49                  price_drops   2497680.0      0.466447  5354687.0\n",
       "30            pending_sales_yoy   2054359.0      0.383656  5354687.0\n",
       "54  off_market_in_two_weeks_yoy   1973627.0      0.368579  5354687.0\n",
       "29            pending_sales_mom   1933960.0      0.361171  5354687.0\n",
       "53  off_market_in_two_weeks_mom   1846986.0      0.344929  5354687.0\n",
       "33             new_listings_yoy   1679199.0      0.313594  5354687.0\n",
       "24         median_list_ppsf_yoy   1675805.0      0.312960  5354687.0\n",
       "18        median_list_price_yoy   1656811.0      0.309413  5354687.0\n",
       "23         median_list_ppsf_mom   1570954.0      0.293379  5354687.0\n",
       "32             new_listings_mom   1570673.0      0.293327  5354687.0\n",
       "17        median_list_price_mom   1552301.0      0.289896  5354687.0\n",
       "36                inventory_yoy   1327965.0      0.248000  5354687.0\n",
       "39         months_of_supply_yoy   1253084.0      0.234016  5354687.0\n",
       "45         avg_sale_to_list_yoy   1206445.0      0.225306  5354687.0\n",
       "35                inventory_mom   1189028.0      0.222054  5354687.0\n",
       "28                pending_sales   1151984.0      0.215136  5354687.0\n",
       "42               median_dom_yoy   1150396.0      0.214839  5354687.0\n",
       "21              median_ppsf_yoy   1138198.0      0.212561  5354687.0\n",
       "38         months_of_supply_mom   1123239.0      0.209767  5354687.0\n",
       "44         avg_sale_to_list_mom   1110695.0      0.207425  5354687.0\n",
       "48          sold_above_list_yoy   1108729.0      0.207058  5354687.0\n",
       "15        median_sale_price_yoy   1084079.0      0.202454  5354687.0\n",
       "27               homes_sold_yoy   1083663.0      0.202377  5354687.0\n",
       "52      off_market_in_two_weeks   1047032.0      0.195536  5354687.0\n",
       "41               median_dom_mom   1043222.0      0.194824  5354687.0\n",
       "20              median_ppsf_mom   1034825.0      0.193256  5354687.0\n",
       "47          sold_above_list_mom   1005386.0      0.187758  5354687.0\n",
       "14        median_sale_price_mom    981087.0      0.183220  5354687.0\n",
       "26               homes_sold_mom    980705.0      0.183149  5354687.0\n",
       "31                 new_listings    873863.0      0.163196  5354687.0\n",
       "22             median_list_ppsf    872581.0      0.162956  5354687.0\n",
       "16            median_list_price    853272.0      0.159350  5354687.0\n",
       "34                    inventory    423284.0      0.079049  5354687.0\n",
       "37             months_of_supply    344188.0      0.064278  5354687.0\n",
       "43             avg_sale_to_list    172568.0      0.032227  5354687.0\n",
       "40                   median_dom     70742.0      0.013211  5354687.0\n",
       "19                  median_ppsf     69691.0      0.013015  5354687.0\n",
       "46              sold_above_list     36724.0      0.006858  5354687.0\n",
       "13            median_sale_price      6138.0      0.001146  5354687.0\n",
       "25                   homes_sold      5719.0      0.001068  5354687.0"
      ]
     },
     "execution_count": 109,
     "metadata": {},
     "output_type": "execute_result"
    }
   ],
   "source": [
    "state_column_stats[state_column_stats['null_percent'] > 0] \\\n",
    "    .sort_values(by='null_percent', ascending=False)"
   ]
  },
  {
   "cell_type": "code",
   "execution_count": 110,
   "metadata": {},
   "outputs": [
    {
     "data": {
      "text/html": [
       "<div>\n",
       "<style scoped>\n",
       "    .dataframe tbody tr th:only-of-type {\n",
       "        vertical-align: middle;\n",
       "    }\n",
       "\n",
       "    .dataframe tbody tr th {\n",
       "        vertical-align: top;\n",
       "    }\n",
       "\n",
       "    .dataframe thead th {\n",
       "        text-align: right;\n",
       "    }\n",
       "</style>\n",
       "<table border=\"1\" class=\"dataframe\">\n",
       "  <thead>\n",
       "    <tr style=\"text-align: right;\">\n",
       "      <th></th>\n",
       "      <th>period_begin</th>\n",
       "      <th>period_end</th>\n",
       "      <th>period_duration</th>\n",
       "      <th>region_type</th>\n",
       "      <th>region_type_id</th>\n",
       "      <th>table_id</th>\n",
       "      <th>is_seasonally_adjusted</th>\n",
       "      <th>region</th>\n",
       "      <th>city</th>\n",
       "      <th>state</th>\n",
       "      <th>state_code</th>\n",
       "      <th>property_type</th>\n",
       "      <th>property_type_id</th>\n",
       "      <th>median_sale_price</th>\n",
       "      <th>median_sale_price_mom</th>\n",
       "      <th>median_sale_price_yoy</th>\n",
       "      <th>median_list_price</th>\n",
       "      <th>median_list_price_mom</th>\n",
       "      <th>median_list_price_yoy</th>\n",
       "      <th>median_ppsf</th>\n",
       "      <th>median_ppsf_mom</th>\n",
       "      <th>median_ppsf_yoy</th>\n",
       "      <th>median_list_ppsf</th>\n",
       "      <th>median_list_ppsf_mom</th>\n",
       "      <th>median_list_ppsf_yoy</th>\n",
       "      <th>homes_sold</th>\n",
       "      <th>homes_sold_mom</th>\n",
       "      <th>homes_sold_yoy</th>\n",
       "      <th>pending_sales</th>\n",
       "      <th>pending_sales_mom</th>\n",
       "      <th>pending_sales_yoy</th>\n",
       "      <th>new_listings</th>\n",
       "      <th>new_listings_mom</th>\n",
       "      <th>new_listings_yoy</th>\n",
       "      <th>inventory</th>\n",
       "      <th>inventory_mom</th>\n",
       "      <th>inventory_yoy</th>\n",
       "      <th>months_of_supply</th>\n",
       "      <th>months_of_supply_mom</th>\n",
       "      <th>months_of_supply_yoy</th>\n",
       "      <th>median_dom</th>\n",
       "      <th>median_dom_mom</th>\n",
       "      <th>median_dom_yoy</th>\n",
       "      <th>avg_sale_to_list</th>\n",
       "      <th>avg_sale_to_list_mom</th>\n",
       "      <th>avg_sale_to_list_yoy</th>\n",
       "      <th>sold_above_list</th>\n",
       "      <th>sold_above_list_mom</th>\n",
       "      <th>sold_above_list_yoy</th>\n",
       "      <th>price_drops</th>\n",
       "      <th>price_drops_mom</th>\n",
       "      <th>price_drops_yoy</th>\n",
       "      <th>off_market_in_two_weeks</th>\n",
       "      <th>off_market_in_two_weeks_mom</th>\n",
       "      <th>off_market_in_two_weeks_yoy</th>\n",
       "      <th>parent_metro_region</th>\n",
       "      <th>parent_metro_region_metro_code</th>\n",
       "      <th>last_updated</th>\n",
       "      <th>year_begin</th>\n",
       "      <th>year_end</th>\n",
       "      <th>month_begin_num</th>\n",
       "      <th>month_end_num</th>\n",
       "      <th>month_begin</th>\n",
       "      <th>month_end</th>\n",
       "    </tr>\n",
       "  </thead>\n",
       "  <tbody>\n",
       "    <tr>\n",
       "      <th>0</th>\n",
       "      <td>2020-04-01</td>\n",
       "      <td>2020-04-30</td>\n",
       "      <td>30</td>\n",
       "      <td>place</td>\n",
       "      <td>6</td>\n",
       "      <td>21264</td>\n",
       "      <td>f</td>\n",
       "      <td>Aspen Hill, MD</td>\n",
       "      <td>Aspen Hill</td>\n",
       "      <td>Maryland</td>\n",
       "      <td>MD</td>\n",
       "      <td>Single Family Residential</td>\n",
       "      <td>6</td>\n",
       "      <td>543474.0</td>\n",
       "      <td>-0.062976</td>\n",
       "      <td>0.22129</td>\n",
       "      <td>440999.0</td>\n",
       "      <td>0.00227</td>\n",
       "      <td>-0.03712</td>\n",
       "      <td>249.369218</td>\n",
       "      <td>0.09523</td>\n",
       "      <td>0.149669</td>\n",
       "      <td>218.883415</td>\n",
       "      <td>0.023777</td>\n",
       "      <td>-0.010786</td>\n",
       "      <td>27.0</td>\n",
       "      <td>0.08</td>\n",
       "      <td>-0.372093</td>\n",
       "      <td>27.0</td>\n",
       "      <td>-0.035714</td>\n",
       "      <td>-0.307692</td>\n",
       "      <td>31.0</td>\n",
       "      <td>-0.060606</td>\n",
       "      <td>-0.225</td>\n",
       "      <td>40.0</td>\n",
       "      <td>0.025641</td>\n",
       "      <td>0.25</td>\n",
       "      <td>1.5</td>\n",
       "      <td>-0.1</td>\n",
       "      <td>0.8</td>\n",
       "      <td>8.0</td>\n",
       "      <td>-7.0</td>\n",
       "      <td>-11.0</td>\n",
       "      <td>1.006563</td>\n",
       "      <td>0.001105</td>\n",
       "      <td>0.005695</td>\n",
       "      <td>0.481481</td>\n",
       "      <td>0.081481</td>\n",
       "      <td>0.062877</td>\n",
       "      <td>0.125</td>\n",
       "      <td>-0.105769</td>\n",
       "      <td>-0.15625</td>\n",
       "      <td>0.444444</td>\n",
       "      <td>-0.162698</td>\n",
       "      <td>-0.17094</td>\n",
       "      <td>Frederick, MD</td>\n",
       "      <td>23224</td>\n",
       "      <td>2024-05-19 14:23:50</td>\n",
       "      <td>2020</td>\n",
       "      <td>2020</td>\n",
       "      <td>4</td>\n",
       "      <td>4</td>\n",
       "      <td>Apr</td>\n",
       "      <td>Apr</td>\n",
       "    </tr>\n",
       "  </tbody>\n",
       "</table>\n",
       "</div>"
      ],
      "text/plain": [
       "  period_begin period_end  period_duration region_type  region_type_id  \\\n",
       "0   2020-04-01 2020-04-30               30       place               6   \n",
       "\n",
       "   table_id is_seasonally_adjusted          region        city     state  \\\n",
       "0     21264                      f  Aspen Hill, MD  Aspen Hill  Maryland   \n",
       "\n",
       "  state_code              property_type  property_type_id  median_sale_price  \\\n",
       "0         MD  Single Family Residential                 6           543474.0   \n",
       "\n",
       "   median_sale_price_mom  median_sale_price_yoy  median_list_price  \\\n",
       "0              -0.062976                0.22129           440999.0   \n",
       "\n",
       "   median_list_price_mom  median_list_price_yoy  median_ppsf  median_ppsf_mom  \\\n",
       "0                0.00227               -0.03712   249.369218          0.09523   \n",
       "\n",
       "   median_ppsf_yoy  median_list_ppsf  median_list_ppsf_mom  \\\n",
       "0         0.149669        218.883415              0.023777   \n",
       "\n",
       "   median_list_ppsf_yoy  homes_sold  homes_sold_mom  homes_sold_yoy  \\\n",
       "0             -0.010786        27.0            0.08       -0.372093   \n",
       "\n",
       "   pending_sales  pending_sales_mom  pending_sales_yoy  new_listings  \\\n",
       "0           27.0          -0.035714          -0.307692          31.0   \n",
       "\n",
       "   new_listings_mom  new_listings_yoy  inventory  inventory_mom  \\\n",
       "0         -0.060606            -0.225       40.0       0.025641   \n",
       "\n",
       "   inventory_yoy  months_of_supply  months_of_supply_mom  \\\n",
       "0           0.25               1.5                  -0.1   \n",
       "\n",
       "   months_of_supply_yoy  median_dom  median_dom_mom  median_dom_yoy  \\\n",
       "0                   0.8         8.0            -7.0           -11.0   \n",
       "\n",
       "   avg_sale_to_list  avg_sale_to_list_mom  avg_sale_to_list_yoy  \\\n",
       "0          1.006563              0.001105              0.005695   \n",
       "\n",
       "   sold_above_list  sold_above_list_mom  sold_above_list_yoy  price_drops  \\\n",
       "0         0.481481             0.081481             0.062877        0.125   \n",
       "\n",
       "   price_drops_mom  price_drops_yoy  off_market_in_two_weeks  \\\n",
       "0        -0.105769         -0.15625                 0.444444   \n",
       "\n",
       "   off_market_in_two_weeks_mom  off_market_in_two_weeks_yoy  \\\n",
       "0                    -0.162698                     -0.17094   \n",
       "\n",
       "  parent_metro_region  parent_metro_region_metro_code         last_updated  \\\n",
       "0       Frederick, MD                           23224  2024-05-19 14:23:50   \n",
       "\n",
       "   year_begin  year_end  month_begin_num  month_end_num month_begin month_end  \n",
       "0        2020      2020                4              4         Apr       Apr  "
      ]
     },
     "execution_count": 110,
     "metadata": {},
     "output_type": "execute_result"
    }
   ],
   "source": [
    "df.head(1)"
   ]
  },
  {
   "cell_type": "code",
   "execution_count": 111,
   "metadata": {},
   "outputs": [
    {
     "data": {
      "text/html": [
       "<div>\n",
       "<style scoped>\n",
       "    .dataframe tbody tr th:only-of-type {\n",
       "        vertical-align: middle;\n",
       "    }\n",
       "\n",
       "    .dataframe tbody tr th {\n",
       "        vertical-align: top;\n",
       "    }\n",
       "\n",
       "    .dataframe thead th {\n",
       "        text-align: right;\n",
       "    }\n",
       "</style>\n",
       "<table border=\"1\" class=\"dataframe\">\n",
       "  <thead>\n",
       "    <tr style=\"text-align: right;\">\n",
       "      <th></th>\n",
       "      <th>year_begin</th>\n",
       "      <th>homes_sold</th>\n",
       "      <th>new_listings</th>\n",
       "    </tr>\n",
       "  </thead>\n",
       "  <tbody>\n",
       "    <tr>\n",
       "      <th>0</th>\n",
       "      <td>2012</td>\n",
       "      <td>4700907.0</td>\n",
       "      <td>5468377.0</td>\n",
       "    </tr>\n",
       "    <tr>\n",
       "      <th>1</th>\n",
       "      <td>2013</td>\n",
       "      <td>5383199.0</td>\n",
       "      <td>6370421.0</td>\n",
       "    </tr>\n",
       "    <tr>\n",
       "      <th>2</th>\n",
       "      <td>2014</td>\n",
       "      <td>5577318.0</td>\n",
       "      <td>6886741.0</td>\n",
       "    </tr>\n",
       "    <tr>\n",
       "      <th>3</th>\n",
       "      <td>2015</td>\n",
       "      <td>6445615.0</td>\n",
       "      <td>7824625.0</td>\n",
       "    </tr>\n",
       "    <tr>\n",
       "      <th>4</th>\n",
       "      <td>2016</td>\n",
       "      <td>6868536.0</td>\n",
       "      <td>8042694.0</td>\n",
       "    </tr>\n",
       "    <tr>\n",
       "      <th>5</th>\n",
       "      <td>2017</td>\n",
       "      <td>7069505.0</td>\n",
       "      <td>8118099.0</td>\n",
       "    </tr>\n",
       "    <tr>\n",
       "      <th>6</th>\n",
       "      <td>2018</td>\n",
       "      <td>6993690.0</td>\n",
       "      <td>8298828.0</td>\n",
       "    </tr>\n",
       "    <tr>\n",
       "      <th>7</th>\n",
       "      <td>2019</td>\n",
       "      <td>7176312.0</td>\n",
       "      <td>8329204.0</td>\n",
       "    </tr>\n",
       "    <tr>\n",
       "      <th>8</th>\n",
       "      <td>2020</td>\n",
       "      <td>7593217.0</td>\n",
       "      <td>8237317.0</td>\n",
       "    </tr>\n",
       "    <tr>\n",
       "      <th>9</th>\n",
       "      <td>2021</td>\n",
       "      <td>8443168.0</td>\n",
       "      <td>8757488.0</td>\n",
       "    </tr>\n",
       "    <tr>\n",
       "      <th>10</th>\n",
       "      <td>2022</td>\n",
       "      <td>6960624.0</td>\n",
       "      <td>7879287.0</td>\n",
       "    </tr>\n",
       "    <tr>\n",
       "      <th>11</th>\n",
       "      <td>2023</td>\n",
       "      <td>5699787.0</td>\n",
       "      <td>6630904.0</td>\n",
       "    </tr>\n",
       "    <tr>\n",
       "      <th>12</th>\n",
       "      <td>2024</td>\n",
       "      <td>1692278.0</td>\n",
       "      <td>2348146.0</td>\n",
       "    </tr>\n",
       "  </tbody>\n",
       "</table>\n",
       "</div>"
      ],
      "text/plain": [
       "    year_begin  homes_sold  new_listings\n",
       "0         2012   4700907.0     5468377.0\n",
       "1         2013   5383199.0     6370421.0\n",
       "2         2014   5577318.0     6886741.0\n",
       "3         2015   6445615.0     7824625.0\n",
       "4         2016   6868536.0     8042694.0\n",
       "5         2017   7069505.0     8118099.0\n",
       "6         2018   6993690.0     8298828.0\n",
       "7         2019   7176312.0     8329204.0\n",
       "8         2020   7593217.0     8237317.0\n",
       "9         2021   8443168.0     8757488.0\n",
       "10        2022   6960624.0     7879287.0\n",
       "11        2023   5699787.0     6630904.0\n",
       "12        2024   1692278.0     2348146.0"
      ]
     },
     "execution_count": 111,
     "metadata": {},
     "output_type": "execute_result"
    }
   ],
   "source": [
    "grouped_bar_chart = df[[\"year_begin\", \"homes_sold\", \"new_listings\"]].copy()\n",
    "\n",
    "grouped_bar_chart_agg = grouped_bar_chart.groupby(\"year_begin\").agg({\n",
    "    \"homes_sold\": \"sum\",\n",
    "    \"new_listings\": \"sum\"\n",
    "}).reset_index()\n",
    "\n",
    "grouped_bar_chart_agg"
   ]
  },
  {
   "cell_type": "code",
   "execution_count": 112,
   "metadata": {},
   "outputs": [],
   "source": [
    "grouped_bar_chart_agg = grouped_bar_chart_agg.melt(id_vars=\"year_begin\", value_vars=[\"homes_sold\", \"new_listings\"])"
   ]
  },
  {
   "cell_type": "code",
   "execution_count": 113,
   "metadata": {},
   "outputs": [
    {
     "data": {
      "application/vnd.plotly.v1+json": {
       "config": {
        "plotlyServerURL": "https://plot.ly"
       },
       "data": [
        {
         "alignmentgroup": "True",
         "hovertemplate": "variable=homes_sold<br>year_begin=%{x}<br>value=%{y}<extra></extra>",
         "legendgroup": "homes_sold",
         "marker": {
          "color": "#636efa",
          "pattern": {
           "shape": ""
          }
         },
         "name": "homes_sold",
         "offsetgroup": "homes_sold",
         "orientation": "v",
         "showlegend": true,
         "textposition": "auto",
         "type": "bar",
         "x": [
          2018,
          2019,
          2020,
          2021,
          2022
         ],
         "xaxis": "x",
         "y": [
          6993690,
          7176312,
          7593217,
          8443168,
          6960624
         ],
         "yaxis": "y"
        },
        {
         "alignmentgroup": "True",
         "hovertemplate": "variable=new_listings<br>year_begin=%{x}<br>value=%{y}<extra></extra>",
         "legendgroup": "new_listings",
         "marker": {
          "color": "#EF553B",
          "pattern": {
           "shape": ""
          }
         },
         "name": "new_listings",
         "offsetgroup": "new_listings",
         "orientation": "v",
         "showlegend": true,
         "textposition": "auto",
         "type": "bar",
         "x": [
          2018,
          2019,
          2020,
          2021,
          2022
         ],
         "xaxis": "x",
         "y": [
          8298828,
          8329204,
          8237317,
          8757488,
          7879287
         ],
         "yaxis": "y"
        }
       ],
       "layout": {
        "barmode": "group",
        "legend": {
         "title": {
          "text": "variable"
         },
         "tracegroupgap": 0
        },
        "template": {
         "data": {
          "bar": [
           {
            "error_x": {
             "color": "#2a3f5f"
            },
            "error_y": {
             "color": "#2a3f5f"
            },
            "marker": {
             "line": {
              "color": "#E5ECF6",
              "width": 0.5
             },
             "pattern": {
              "fillmode": "overlay",
              "size": 10,
              "solidity": 0.2
             }
            },
            "type": "bar"
           }
          ],
          "barpolar": [
           {
            "marker": {
             "line": {
              "color": "#E5ECF6",
              "width": 0.5
             },
             "pattern": {
              "fillmode": "overlay",
              "size": 10,
              "solidity": 0.2
             }
            },
            "type": "barpolar"
           }
          ],
          "carpet": [
           {
            "aaxis": {
             "endlinecolor": "#2a3f5f",
             "gridcolor": "white",
             "linecolor": "white",
             "minorgridcolor": "white",
             "startlinecolor": "#2a3f5f"
            },
            "baxis": {
             "endlinecolor": "#2a3f5f",
             "gridcolor": "white",
             "linecolor": "white",
             "minorgridcolor": "white",
             "startlinecolor": "#2a3f5f"
            },
            "type": "carpet"
           }
          ],
          "choropleth": [
           {
            "colorbar": {
             "outlinewidth": 0,
             "ticks": ""
            },
            "type": "choropleth"
           }
          ],
          "contour": [
           {
            "colorbar": {
             "outlinewidth": 0,
             "ticks": ""
            },
            "colorscale": [
             [
              0,
              "#0d0887"
             ],
             [
              0.1111111111111111,
              "#46039f"
             ],
             [
              0.2222222222222222,
              "#7201a8"
             ],
             [
              0.3333333333333333,
              "#9c179e"
             ],
             [
              0.4444444444444444,
              "#bd3786"
             ],
             [
              0.5555555555555556,
              "#d8576b"
             ],
             [
              0.6666666666666666,
              "#ed7953"
             ],
             [
              0.7777777777777778,
              "#fb9f3a"
             ],
             [
              0.8888888888888888,
              "#fdca26"
             ],
             [
              1,
              "#f0f921"
             ]
            ],
            "type": "contour"
           }
          ],
          "contourcarpet": [
           {
            "colorbar": {
             "outlinewidth": 0,
             "ticks": ""
            },
            "type": "contourcarpet"
           }
          ],
          "heatmap": [
           {
            "colorbar": {
             "outlinewidth": 0,
             "ticks": ""
            },
            "colorscale": [
             [
              0,
              "#0d0887"
             ],
             [
              0.1111111111111111,
              "#46039f"
             ],
             [
              0.2222222222222222,
              "#7201a8"
             ],
             [
              0.3333333333333333,
              "#9c179e"
             ],
             [
              0.4444444444444444,
              "#bd3786"
             ],
             [
              0.5555555555555556,
              "#d8576b"
             ],
             [
              0.6666666666666666,
              "#ed7953"
             ],
             [
              0.7777777777777778,
              "#fb9f3a"
             ],
             [
              0.8888888888888888,
              "#fdca26"
             ],
             [
              1,
              "#f0f921"
             ]
            ],
            "type": "heatmap"
           }
          ],
          "heatmapgl": [
           {
            "colorbar": {
             "outlinewidth": 0,
             "ticks": ""
            },
            "colorscale": [
             [
              0,
              "#0d0887"
             ],
             [
              0.1111111111111111,
              "#46039f"
             ],
             [
              0.2222222222222222,
              "#7201a8"
             ],
             [
              0.3333333333333333,
              "#9c179e"
             ],
             [
              0.4444444444444444,
              "#bd3786"
             ],
             [
              0.5555555555555556,
              "#d8576b"
             ],
             [
              0.6666666666666666,
              "#ed7953"
             ],
             [
              0.7777777777777778,
              "#fb9f3a"
             ],
             [
              0.8888888888888888,
              "#fdca26"
             ],
             [
              1,
              "#f0f921"
             ]
            ],
            "type": "heatmapgl"
           }
          ],
          "histogram": [
           {
            "marker": {
             "pattern": {
              "fillmode": "overlay",
              "size": 10,
              "solidity": 0.2
             }
            },
            "type": "histogram"
           }
          ],
          "histogram2d": [
           {
            "colorbar": {
             "outlinewidth": 0,
             "ticks": ""
            },
            "colorscale": [
             [
              0,
              "#0d0887"
             ],
             [
              0.1111111111111111,
              "#46039f"
             ],
             [
              0.2222222222222222,
              "#7201a8"
             ],
             [
              0.3333333333333333,
              "#9c179e"
             ],
             [
              0.4444444444444444,
              "#bd3786"
             ],
             [
              0.5555555555555556,
              "#d8576b"
             ],
             [
              0.6666666666666666,
              "#ed7953"
             ],
             [
              0.7777777777777778,
              "#fb9f3a"
             ],
             [
              0.8888888888888888,
              "#fdca26"
             ],
             [
              1,
              "#f0f921"
             ]
            ],
            "type": "histogram2d"
           }
          ],
          "histogram2dcontour": [
           {
            "colorbar": {
             "outlinewidth": 0,
             "ticks": ""
            },
            "colorscale": [
             [
              0,
              "#0d0887"
             ],
             [
              0.1111111111111111,
              "#46039f"
             ],
             [
              0.2222222222222222,
              "#7201a8"
             ],
             [
              0.3333333333333333,
              "#9c179e"
             ],
             [
              0.4444444444444444,
              "#bd3786"
             ],
             [
              0.5555555555555556,
              "#d8576b"
             ],
             [
              0.6666666666666666,
              "#ed7953"
             ],
             [
              0.7777777777777778,
              "#fb9f3a"
             ],
             [
              0.8888888888888888,
              "#fdca26"
             ],
             [
              1,
              "#f0f921"
             ]
            ],
            "type": "histogram2dcontour"
           }
          ],
          "mesh3d": [
           {
            "colorbar": {
             "outlinewidth": 0,
             "ticks": ""
            },
            "type": "mesh3d"
           }
          ],
          "parcoords": [
           {
            "line": {
             "colorbar": {
              "outlinewidth": 0,
              "ticks": ""
             }
            },
            "type": "parcoords"
           }
          ],
          "pie": [
           {
            "automargin": true,
            "type": "pie"
           }
          ],
          "scatter": [
           {
            "fillpattern": {
             "fillmode": "overlay",
             "size": 10,
             "solidity": 0.2
            },
            "type": "scatter"
           }
          ],
          "scatter3d": [
           {
            "line": {
             "colorbar": {
              "outlinewidth": 0,
              "ticks": ""
             }
            },
            "marker": {
             "colorbar": {
              "outlinewidth": 0,
              "ticks": ""
             }
            },
            "type": "scatter3d"
           }
          ],
          "scattercarpet": [
           {
            "marker": {
             "colorbar": {
              "outlinewidth": 0,
              "ticks": ""
             }
            },
            "type": "scattercarpet"
           }
          ],
          "scattergeo": [
           {
            "marker": {
             "colorbar": {
              "outlinewidth": 0,
              "ticks": ""
             }
            },
            "type": "scattergeo"
           }
          ],
          "scattergl": [
           {
            "marker": {
             "colorbar": {
              "outlinewidth": 0,
              "ticks": ""
             }
            },
            "type": "scattergl"
           }
          ],
          "scattermapbox": [
           {
            "marker": {
             "colorbar": {
              "outlinewidth": 0,
              "ticks": ""
             }
            },
            "type": "scattermapbox"
           }
          ],
          "scatterpolar": [
           {
            "marker": {
             "colorbar": {
              "outlinewidth": 0,
              "ticks": ""
             }
            },
            "type": "scatterpolar"
           }
          ],
          "scatterpolargl": [
           {
            "marker": {
             "colorbar": {
              "outlinewidth": 0,
              "ticks": ""
             }
            },
            "type": "scatterpolargl"
           }
          ],
          "scatterternary": [
           {
            "marker": {
             "colorbar": {
              "outlinewidth": 0,
              "ticks": ""
             }
            },
            "type": "scatterternary"
           }
          ],
          "surface": [
           {
            "colorbar": {
             "outlinewidth": 0,
             "ticks": ""
            },
            "colorscale": [
             [
              0,
              "#0d0887"
             ],
             [
              0.1111111111111111,
              "#46039f"
             ],
             [
              0.2222222222222222,
              "#7201a8"
             ],
             [
              0.3333333333333333,
              "#9c179e"
             ],
             [
              0.4444444444444444,
              "#bd3786"
             ],
             [
              0.5555555555555556,
              "#d8576b"
             ],
             [
              0.6666666666666666,
              "#ed7953"
             ],
             [
              0.7777777777777778,
              "#fb9f3a"
             ],
             [
              0.8888888888888888,
              "#fdca26"
             ],
             [
              1,
              "#f0f921"
             ]
            ],
            "type": "surface"
           }
          ],
          "table": [
           {
            "cells": {
             "fill": {
              "color": "#EBF0F8"
             },
             "line": {
              "color": "white"
             }
            },
            "header": {
             "fill": {
              "color": "#C8D4E3"
             },
             "line": {
              "color": "white"
             }
            },
            "type": "table"
           }
          ]
         },
         "layout": {
          "annotationdefaults": {
           "arrowcolor": "#2a3f5f",
           "arrowhead": 0,
           "arrowwidth": 1
          },
          "autotypenumbers": "strict",
          "coloraxis": {
           "colorbar": {
            "outlinewidth": 0,
            "ticks": ""
           }
          },
          "colorscale": {
           "diverging": [
            [
             0,
             "#8e0152"
            ],
            [
             0.1,
             "#c51b7d"
            ],
            [
             0.2,
             "#de77ae"
            ],
            [
             0.3,
             "#f1b6da"
            ],
            [
             0.4,
             "#fde0ef"
            ],
            [
             0.5,
             "#f7f7f7"
            ],
            [
             0.6,
             "#e6f5d0"
            ],
            [
             0.7,
             "#b8e186"
            ],
            [
             0.8,
             "#7fbc41"
            ],
            [
             0.9,
             "#4d9221"
            ],
            [
             1,
             "#276419"
            ]
           ],
           "sequential": [
            [
             0,
             "#0d0887"
            ],
            [
             0.1111111111111111,
             "#46039f"
            ],
            [
             0.2222222222222222,
             "#7201a8"
            ],
            [
             0.3333333333333333,
             "#9c179e"
            ],
            [
             0.4444444444444444,
             "#bd3786"
            ],
            [
             0.5555555555555556,
             "#d8576b"
            ],
            [
             0.6666666666666666,
             "#ed7953"
            ],
            [
             0.7777777777777778,
             "#fb9f3a"
            ],
            [
             0.8888888888888888,
             "#fdca26"
            ],
            [
             1,
             "#f0f921"
            ]
           ],
           "sequentialminus": [
            [
             0,
             "#0d0887"
            ],
            [
             0.1111111111111111,
             "#46039f"
            ],
            [
             0.2222222222222222,
             "#7201a8"
            ],
            [
             0.3333333333333333,
             "#9c179e"
            ],
            [
             0.4444444444444444,
             "#bd3786"
            ],
            [
             0.5555555555555556,
             "#d8576b"
            ],
            [
             0.6666666666666666,
             "#ed7953"
            ],
            [
             0.7777777777777778,
             "#fb9f3a"
            ],
            [
             0.8888888888888888,
             "#fdca26"
            ],
            [
             1,
             "#f0f921"
            ]
           ]
          },
          "colorway": [
           "#636efa",
           "#EF553B",
           "#00cc96",
           "#ab63fa",
           "#FFA15A",
           "#19d3f3",
           "#FF6692",
           "#B6E880",
           "#FF97FF",
           "#FECB52"
          ],
          "font": {
           "color": "#2a3f5f"
          },
          "geo": {
           "bgcolor": "white",
           "lakecolor": "white",
           "landcolor": "#E5ECF6",
           "showlakes": true,
           "showland": true,
           "subunitcolor": "white"
          },
          "hoverlabel": {
           "align": "left"
          },
          "hovermode": "closest",
          "mapbox": {
           "style": "light"
          },
          "paper_bgcolor": "white",
          "plot_bgcolor": "#E5ECF6",
          "polar": {
           "angularaxis": {
            "gridcolor": "white",
            "linecolor": "white",
            "ticks": ""
           },
           "bgcolor": "#E5ECF6",
           "radialaxis": {
            "gridcolor": "white",
            "linecolor": "white",
            "ticks": ""
           }
          },
          "scene": {
           "xaxis": {
            "backgroundcolor": "#E5ECF6",
            "gridcolor": "white",
            "gridwidth": 2,
            "linecolor": "white",
            "showbackground": true,
            "ticks": "",
            "zerolinecolor": "white"
           },
           "yaxis": {
            "backgroundcolor": "#E5ECF6",
            "gridcolor": "white",
            "gridwidth": 2,
            "linecolor": "white",
            "showbackground": true,
            "ticks": "",
            "zerolinecolor": "white"
           },
           "zaxis": {
            "backgroundcolor": "#E5ECF6",
            "gridcolor": "white",
            "gridwidth": 2,
            "linecolor": "white",
            "showbackground": true,
            "ticks": "",
            "zerolinecolor": "white"
           }
          },
          "shapedefaults": {
           "line": {
            "color": "#2a3f5f"
           }
          },
          "ternary": {
           "aaxis": {
            "gridcolor": "white",
            "linecolor": "white",
            "ticks": ""
           },
           "baxis": {
            "gridcolor": "white",
            "linecolor": "white",
            "ticks": ""
           },
           "bgcolor": "#E5ECF6",
           "caxis": {
            "gridcolor": "white",
            "linecolor": "white",
            "ticks": ""
           }
          },
          "title": {
           "x": 0.05
          },
          "xaxis": {
           "automargin": true,
           "gridcolor": "white",
           "linecolor": "white",
           "ticks": "",
           "title": {
            "standoff": 15
           },
           "zerolinecolor": "white",
           "zerolinewidth": 2
          },
          "yaxis": {
           "automargin": true,
           "gridcolor": "white",
           "linecolor": "white",
           "ticks": "",
           "title": {
            "standoff": 15
           },
           "zerolinecolor": "white",
           "zerolinewidth": 2
          }
         }
        },
        "title": {
         "text": "Supply vs Demand",
         "x": 0.5
        },
        "xaxis": {
         "anchor": "y",
         "domain": [
          0,
          1
         ],
         "title": {
          "text": "Year"
         }
        },
        "yaxis": {
         "anchor": "x",
         "domain": [
          0,
          1
         ],
         "title": {
          "text": "Houses (in millions)"
         }
        }
       }
      }
     },
     "metadata": {},
     "output_type": "display_data"
    }
   ],
   "source": [
    "fig1 = px.bar(grouped_bar_chart_agg[grouped_bar_chart_agg[\"year_begin\"].isin(range(2018, 2023))], \n",
    "              x=\"year_begin\", y=\"value\", color=\"variable\", barmode=\"group\",\n",
    "              labels={\"Value\": \"Value (in millions)\", \"Year\": \"year_begin\"},\n",
    "              title=\"Supply vs Demand\")\n",
    "fig1.update_layout(title_x=0.5)\n",
    "fig1.update_xaxes(title_text=\"Year\")\n",
    "fig1.update_yaxes(title_text=\"Houses (in millions)\")\n",
    "fig1.show()"
   ]
  },
  {
   "cell_type": "code",
   "execution_count": 114,
   "metadata": {},
   "outputs": [],
   "source": [
    "inv_homesSold_df = df[[\"period_begin\", \"state\", \"homes_sold\", \"inventory\"]].copy()\n",
    "\n",
    "inv_homesSold_df = inv_homesSold_df.melt(id_vars=[\"period_begin\", \"state\"], \n",
    "                                        value_vars=[\"homes_sold\", \"inventory\"], \n",
    "                                        var_name=\"Group\", \n",
    "                                        value_name=\"Value\")\n",
    "\n",
    "inv_homesSold_agg = inv_homesSold_df.groupby([\"period_begin\", \"Group\"]).agg(\"sum\").reset_index()\n"
   ]
  },
  {
   "cell_type": "code",
   "execution_count": 115,
   "metadata": {},
   "outputs": [
    {
     "data": {
      "text/html": [
       "<div>\n",
       "<style scoped>\n",
       "    .dataframe tbody tr th:only-of-type {\n",
       "        vertical-align: middle;\n",
       "    }\n",
       "\n",
       "    .dataframe tbody tr th {\n",
       "        vertical-align: top;\n",
       "    }\n",
       "\n",
       "    .dataframe thead th {\n",
       "        text-align: right;\n",
       "    }\n",
       "</style>\n",
       "<table border=\"1\" class=\"dataframe\">\n",
       "  <thead>\n",
       "    <tr style=\"text-align: right;\">\n",
       "      <th></th>\n",
       "      <th>period_begin</th>\n",
       "      <th>state</th>\n",
       "      <th>Group</th>\n",
       "      <th>Value</th>\n",
       "    </tr>\n",
       "  </thead>\n",
       "  <tbody>\n",
       "    <tr>\n",
       "      <th>0</th>\n",
       "      <td>2020-04-01</td>\n",
       "      <td>Maryland</td>\n",
       "      <td>homes_sold</td>\n",
       "      <td>27.0</td>\n",
       "    </tr>\n",
       "    <tr>\n",
       "      <th>1</th>\n",
       "      <td>2018-09-01</td>\n",
       "      <td>Iowa</td>\n",
       "      <td>homes_sold</td>\n",
       "      <td>2.0</td>\n",
       "    </tr>\n",
       "    <tr>\n",
       "      <th>2</th>\n",
       "      <td>2018-04-01</td>\n",
       "      <td>Illinois</td>\n",
       "      <td>homes_sold</td>\n",
       "      <td>6.0</td>\n",
       "    </tr>\n",
       "    <tr>\n",
       "      <th>3</th>\n",
       "      <td>2018-09-01</td>\n",
       "      <td>Pennsylvania</td>\n",
       "      <td>homes_sold</td>\n",
       "      <td>7.0</td>\n",
       "    </tr>\n",
       "    <tr>\n",
       "      <th>4</th>\n",
       "      <td>2023-04-01</td>\n",
       "      <td>California</td>\n",
       "      <td>homes_sold</td>\n",
       "      <td>1.0</td>\n",
       "    </tr>\n",
       "    <tr>\n",
       "      <th>...</th>\n",
       "      <td>...</td>\n",
       "      <td>...</td>\n",
       "      <td>...</td>\n",
       "      <td>...</td>\n",
       "    </tr>\n",
       "    <tr>\n",
       "      <th>10709369</th>\n",
       "      <td>2021-05-01</td>\n",
       "      <td>Maryland</td>\n",
       "      <td>inventory</td>\n",
       "      <td>2.0</td>\n",
       "    </tr>\n",
       "    <tr>\n",
       "      <th>10709370</th>\n",
       "      <td>2017-10-01</td>\n",
       "      <td>Pennsylvania</td>\n",
       "      <td>inventory</td>\n",
       "      <td>1.0</td>\n",
       "    </tr>\n",
       "    <tr>\n",
       "      <th>10709371</th>\n",
       "      <td>2019-05-01</td>\n",
       "      <td>Maryland</td>\n",
       "      <td>inventory</td>\n",
       "      <td>26.0</td>\n",
       "    </tr>\n",
       "    <tr>\n",
       "      <th>10709372</th>\n",
       "      <td>2024-04-01</td>\n",
       "      <td>Connecticut</td>\n",
       "      <td>inventory</td>\n",
       "      <td>NaN</td>\n",
       "    </tr>\n",
       "    <tr>\n",
       "      <th>10709373</th>\n",
       "      <td>2012-10-01</td>\n",
       "      <td>New York</td>\n",
       "      <td>inventory</td>\n",
       "      <td>57.0</td>\n",
       "    </tr>\n",
       "  </tbody>\n",
       "</table>\n",
       "<p>10709374 rows × 4 columns</p>\n",
       "</div>"
      ],
      "text/plain": [
       "         period_begin         state       Group  Value\n",
       "0          2020-04-01      Maryland  homes_sold   27.0\n",
       "1          2018-09-01          Iowa  homes_sold    2.0\n",
       "2          2018-04-01      Illinois  homes_sold    6.0\n",
       "3          2018-09-01  Pennsylvania  homes_sold    7.0\n",
       "4          2023-04-01    California  homes_sold    1.0\n",
       "...               ...           ...         ...    ...\n",
       "10709369   2021-05-01      Maryland   inventory    2.0\n",
       "10709370   2017-10-01  Pennsylvania   inventory    1.0\n",
       "10709371   2019-05-01      Maryland   inventory   26.0\n",
       "10709372   2024-04-01   Connecticut   inventory    NaN\n",
       "10709373   2012-10-01      New York   inventory   57.0\n",
       "\n",
       "[10709374 rows x 4 columns]"
      ]
     },
     "execution_count": 115,
     "metadata": {},
     "output_type": "execute_result"
    }
   ],
   "source": [
    "inv_homesSold_df"
   ]
  },
  {
   "cell_type": "code",
   "execution_count": 116,
   "metadata": {},
   "outputs": [
    {
     "data": {
      "application/vnd.plotly.v1+json": {
       "config": {
        "plotlyServerURL": "https://plot.ly"
       },
       "data": [
        {
         "hovertemplate": "Group=Homes Sold<br>Year=%{x}<br>Value (in millions)=%{y}<extra></extra>",
         "legendgroup": "Homes Sold",
         "marker": {
          "color": "#636efa",
          "symbol": "circle"
         },
         "mode": "markers",
         "name": "Homes Sold",
         "orientation": "v",
         "showlegend": true,
         "type": "scatter",
         "x": [
          "2012-01-01T00:00:00",
          "2012-02-01T00:00:00",
          "2012-03-01T00:00:00",
          "2012-04-01T00:00:00",
          "2012-05-01T00:00:00",
          "2012-06-01T00:00:00",
          "2012-07-01T00:00:00",
          "2012-08-01T00:00:00",
          "2012-09-01T00:00:00",
          "2012-10-01T00:00:00",
          "2012-11-01T00:00:00",
          "2012-12-01T00:00:00",
          "2013-01-01T00:00:00",
          "2013-02-01T00:00:00",
          "2013-03-01T00:00:00",
          "2013-04-01T00:00:00",
          "2013-05-01T00:00:00",
          "2013-06-01T00:00:00",
          "2013-07-01T00:00:00",
          "2013-08-01T00:00:00",
          "2013-09-01T00:00:00",
          "2013-10-01T00:00:00",
          "2013-11-01T00:00:00",
          "2013-12-01T00:00:00",
          "2014-01-01T00:00:00",
          "2014-02-01T00:00:00",
          "2014-03-01T00:00:00",
          "2014-04-01T00:00:00",
          "2014-05-01T00:00:00",
          "2014-06-01T00:00:00",
          "2014-07-01T00:00:00",
          "2014-08-01T00:00:00",
          "2014-09-01T00:00:00",
          "2014-10-01T00:00:00",
          "2014-11-01T00:00:00",
          "2014-12-01T00:00:00",
          "2015-01-01T00:00:00",
          "2015-02-01T00:00:00",
          "2015-03-01T00:00:00",
          "2015-04-01T00:00:00",
          "2015-05-01T00:00:00",
          "2015-06-01T00:00:00",
          "2015-07-01T00:00:00",
          "2015-08-01T00:00:00",
          "2015-09-01T00:00:00",
          "2015-10-01T00:00:00",
          "2015-11-01T00:00:00",
          "2015-12-01T00:00:00",
          "2016-01-01T00:00:00",
          "2016-02-01T00:00:00",
          "2016-03-01T00:00:00",
          "2016-04-01T00:00:00",
          "2016-05-01T00:00:00",
          "2016-06-01T00:00:00",
          "2016-07-01T00:00:00",
          "2016-08-01T00:00:00",
          "2016-09-01T00:00:00",
          "2016-10-01T00:00:00",
          "2016-11-01T00:00:00",
          "2016-12-01T00:00:00",
          "2017-01-01T00:00:00",
          "2017-02-01T00:00:00",
          "2017-03-01T00:00:00",
          "2017-04-01T00:00:00",
          "2017-05-01T00:00:00",
          "2017-06-01T00:00:00",
          "2017-07-01T00:00:00",
          "2017-08-01T00:00:00",
          "2017-09-01T00:00:00",
          "2017-10-01T00:00:00",
          "2017-11-01T00:00:00",
          "2017-12-01T00:00:00",
          "2018-01-01T00:00:00",
          "2018-02-01T00:00:00",
          "2018-03-01T00:00:00",
          "2018-04-01T00:00:00",
          "2018-05-01T00:00:00",
          "2018-06-01T00:00:00",
          "2018-07-01T00:00:00",
          "2018-08-01T00:00:00",
          "2018-09-01T00:00:00",
          "2018-10-01T00:00:00",
          "2018-11-01T00:00:00",
          "2018-12-01T00:00:00",
          "2019-01-01T00:00:00",
          "2019-02-01T00:00:00",
          "2019-03-01T00:00:00",
          "2019-04-01T00:00:00",
          "2019-05-01T00:00:00",
          "2019-06-01T00:00:00",
          "2019-07-01T00:00:00",
          "2019-08-01T00:00:00",
          "2019-09-01T00:00:00",
          "2019-10-01T00:00:00",
          "2019-11-01T00:00:00",
          "2019-12-01T00:00:00",
          "2020-01-01T00:00:00",
          "2020-02-01T00:00:00",
          "2020-03-01T00:00:00",
          "2020-04-01T00:00:00",
          "2020-05-01T00:00:00",
          "2020-06-01T00:00:00",
          "2020-07-01T00:00:00",
          "2020-08-01T00:00:00",
          "2020-09-01T00:00:00",
          "2020-10-01T00:00:00",
          "2020-11-01T00:00:00",
          "2020-12-01T00:00:00",
          "2021-01-01T00:00:00",
          "2021-02-01T00:00:00",
          "2021-03-01T00:00:00",
          "2021-04-01T00:00:00",
          "2021-05-01T00:00:00",
          "2021-06-01T00:00:00",
          "2021-07-01T00:00:00",
          "2021-08-01T00:00:00",
          "2021-09-01T00:00:00",
          "2021-10-01T00:00:00",
          "2021-11-01T00:00:00",
          "2021-12-01T00:00:00",
          "2022-01-01T00:00:00",
          "2022-02-01T00:00:00",
          "2022-03-01T00:00:00",
          "2022-04-01T00:00:00",
          "2022-05-01T00:00:00",
          "2022-06-01T00:00:00",
          "2022-07-01T00:00:00",
          "2022-08-01T00:00:00",
          "2022-09-01T00:00:00",
          "2022-10-01T00:00:00",
          "2022-11-01T00:00:00",
          "2022-12-01T00:00:00",
          "2023-01-01T00:00:00",
          "2023-02-01T00:00:00",
          "2023-03-01T00:00:00",
          "2023-04-01T00:00:00",
          "2023-05-01T00:00:00",
          "2023-06-01T00:00:00",
          "2023-07-01T00:00:00",
          "2023-08-01T00:00:00",
          "2023-09-01T00:00:00",
          "2023-10-01T00:00:00",
          "2023-11-01T00:00:00",
          "2023-12-01T00:00:00",
          "2024-01-01T00:00:00",
          "2024-02-01T00:00:00",
          "2024-03-01T00:00:00",
          "2024-04-01T00:00:00"
         ],
         "xaxis": "x",
         "y": [
          260570,
          300350,
          385700,
          393857,
          449294,
          466307,
          432709,
          465921,
          376277,
          407883,
          384302,
          377737,
          302421,
          328074,
          423957,
          465374,
          538581,
          522762,
          546598,
          540828,
          453833,
          455223,
          390751,
          414797,
          314253,
          325441,
          410074,
          466206,
          533284,
          565728,
          559048,
          535215,
          492157,
          504111,
          402036,
          469765,
          332350,
          361061,
          492878,
          535155,
          603031,
          697519,
          690774,
          621083,
          585005,
          551977,
          436556,
          538226,
          382930,
          406968,
          542160,
          584874,
          653368,
          727542,
          642665,
          679305,
          613244,
          557265,
          528343,
          549872,
          408774,
          411660,
          593059,
          573472,
          697005,
          764336,
          652789,
          695706,
          592443,
          585837,
          547801,
          546623,
          411489,
          421649,
          577404,
          604620,
          696872,
          735466,
          682871,
          702442,
          549426,
          587291,
          532075,
          492085,
          384384,
          421813,
          551149,
          619895,
          727530,
          700705,
          719391,
          709744,
          603751,
          620014,
          542944,
          574992,
          438469,
          462990,
          576026,
          498262,
          486463,
          670805,
          797038,
          754608,
          753441,
          767699,
          664405,
          723011,
          505032,
          512035,
          691410,
          729473,
          735180,
          851809,
          798420,
          783961,
          742146,
          712759,
          684217,
          696726,
          496298,
          497259,
          654598,
          652512,
          692191,
          720767,
          622325,
          646998,
          585571,
          509538,
          444206,
          438361,
          326653,
          375550,
          512800,
          475163,
          567108,
          601361,
          516055,
          557868,
          484673,
          462866,
          414522,
          405168,
          334344,
          386123,
          465866,
          505945
         ],
         "yaxis": "y"
        },
        {
         "hovertemplate": "<b>Rolling mean trendline</b><br><br>Group=Homes Sold<br>Year=%{x}<br>Value (in millions)=%{y} <b>(trend)</b><extra></extra>",
         "legendgroup": "Homes Sold",
         "marker": {
          "color": "#636efa",
          "symbol": "circle"
         },
         "mode": "lines",
         "name": "Homes Sold",
         "showlegend": false,
         "type": "scatter",
         "x": [
          "2012-01-01T00:00:00",
          "2012-02-01T00:00:00",
          "2012-03-01T00:00:00",
          "2012-04-01T00:00:00",
          "2012-05-01T00:00:00",
          "2012-06-01T00:00:00",
          "2012-07-01T00:00:00",
          "2012-08-01T00:00:00",
          "2012-09-01T00:00:00",
          "2012-10-01T00:00:00",
          "2012-11-01T00:00:00",
          "2012-12-01T00:00:00",
          "2013-01-01T00:00:00",
          "2013-02-01T00:00:00",
          "2013-03-01T00:00:00",
          "2013-04-01T00:00:00",
          "2013-05-01T00:00:00",
          "2013-06-01T00:00:00",
          "2013-07-01T00:00:00",
          "2013-08-01T00:00:00",
          "2013-09-01T00:00:00",
          "2013-10-01T00:00:00",
          "2013-11-01T00:00:00",
          "2013-12-01T00:00:00",
          "2014-01-01T00:00:00",
          "2014-02-01T00:00:00",
          "2014-03-01T00:00:00",
          "2014-04-01T00:00:00",
          "2014-05-01T00:00:00",
          "2014-06-01T00:00:00",
          "2014-07-01T00:00:00",
          "2014-08-01T00:00:00",
          "2014-09-01T00:00:00",
          "2014-10-01T00:00:00",
          "2014-11-01T00:00:00",
          "2014-12-01T00:00:00",
          "2015-01-01T00:00:00",
          "2015-02-01T00:00:00",
          "2015-03-01T00:00:00",
          "2015-04-01T00:00:00",
          "2015-05-01T00:00:00",
          "2015-06-01T00:00:00",
          "2015-07-01T00:00:00",
          "2015-08-01T00:00:00",
          "2015-09-01T00:00:00",
          "2015-10-01T00:00:00",
          "2015-11-01T00:00:00",
          "2015-12-01T00:00:00",
          "2016-01-01T00:00:00",
          "2016-02-01T00:00:00",
          "2016-03-01T00:00:00",
          "2016-04-01T00:00:00",
          "2016-05-01T00:00:00",
          "2016-06-01T00:00:00",
          "2016-07-01T00:00:00",
          "2016-08-01T00:00:00",
          "2016-09-01T00:00:00",
          "2016-10-01T00:00:00",
          "2016-11-01T00:00:00",
          "2016-12-01T00:00:00",
          "2017-01-01T00:00:00",
          "2017-02-01T00:00:00",
          "2017-03-01T00:00:00",
          "2017-04-01T00:00:00",
          "2017-05-01T00:00:00",
          "2017-06-01T00:00:00",
          "2017-07-01T00:00:00",
          "2017-08-01T00:00:00",
          "2017-09-01T00:00:00",
          "2017-10-01T00:00:00",
          "2017-11-01T00:00:00",
          "2017-12-01T00:00:00",
          "2018-01-01T00:00:00",
          "2018-02-01T00:00:00",
          "2018-03-01T00:00:00",
          "2018-04-01T00:00:00",
          "2018-05-01T00:00:00",
          "2018-06-01T00:00:00",
          "2018-07-01T00:00:00",
          "2018-08-01T00:00:00",
          "2018-09-01T00:00:00",
          "2018-10-01T00:00:00",
          "2018-11-01T00:00:00",
          "2018-12-01T00:00:00",
          "2019-01-01T00:00:00",
          "2019-02-01T00:00:00",
          "2019-03-01T00:00:00",
          "2019-04-01T00:00:00",
          "2019-05-01T00:00:00",
          "2019-06-01T00:00:00",
          "2019-07-01T00:00:00",
          "2019-08-01T00:00:00",
          "2019-09-01T00:00:00",
          "2019-10-01T00:00:00",
          "2019-11-01T00:00:00",
          "2019-12-01T00:00:00",
          "2020-01-01T00:00:00",
          "2020-02-01T00:00:00",
          "2020-03-01T00:00:00",
          "2020-04-01T00:00:00",
          "2020-05-01T00:00:00",
          "2020-06-01T00:00:00",
          "2020-07-01T00:00:00",
          "2020-08-01T00:00:00",
          "2020-09-01T00:00:00",
          "2020-10-01T00:00:00",
          "2020-11-01T00:00:00",
          "2020-12-01T00:00:00",
          "2021-01-01T00:00:00",
          "2021-02-01T00:00:00",
          "2021-03-01T00:00:00",
          "2021-04-01T00:00:00",
          "2021-05-01T00:00:00",
          "2021-06-01T00:00:00",
          "2021-07-01T00:00:00",
          "2021-08-01T00:00:00",
          "2021-09-01T00:00:00",
          "2021-10-01T00:00:00",
          "2021-11-01T00:00:00",
          "2021-12-01T00:00:00",
          "2022-01-01T00:00:00",
          "2022-02-01T00:00:00",
          "2022-03-01T00:00:00",
          "2022-04-01T00:00:00",
          "2022-05-01T00:00:00",
          "2022-06-01T00:00:00",
          "2022-07-01T00:00:00",
          "2022-08-01T00:00:00",
          "2022-09-01T00:00:00",
          "2022-10-01T00:00:00",
          "2022-11-01T00:00:00",
          "2022-12-01T00:00:00",
          "2023-01-01T00:00:00",
          "2023-02-01T00:00:00",
          "2023-03-01T00:00:00",
          "2023-04-01T00:00:00",
          "2023-05-01T00:00:00",
          "2023-06-01T00:00:00",
          "2023-07-01T00:00:00",
          "2023-08-01T00:00:00",
          "2023-09-01T00:00:00",
          "2023-10-01T00:00:00",
          "2023-11-01T00:00:00",
          "2023-12-01T00:00:00",
          "2024-01-01T00:00:00",
          "2024-02-01T00:00:00",
          "2024-03-01T00:00:00",
          "2024-04-01T00:00:00"
         ],
         "xaxis": "x",
         "y": [
          null,
          null,
          null,
          null,
          null,
          null,
          null,
          null,
          null,
          null,
          null,
          391742.25,
          395229.8333333333,
          397540.1666666667,
          400728.25,
          406688,
          414128.5833333333,
          418833.1666666667,
          428323.9166666667,
          434566.1666666667,
          441029.1666666667,
          444974.1666666667,
          445511.5833333333,
          448599.9166666667,
          449585.9166666667,
          449366.5,
          448209.5833333333,
          448278.9166666667,
          447837.5,
          451418,
          452455.5,
          451987.75,
          455181.4166666667,
          459255.4166666667,
          460195.8333333333,
          464776.5,
          466284.5833333333,
          469252.9166666667,
          476153.25,
          481899,
          487711.25,
          498693.8333333333,
          509671,
          516826.6666666667,
          524564,
          528552.8333333334,
          531429.5,
          537134.5833333334,
          541349.5833333334,
          545175.1666666666,
          549282,
          553425.25,
          557620,
          560121.9166666666,
          556112.8333333334,
          560964.6666666666,
          563317.9166666666,
          563758.5833333334,
          571407.5,
          572378,
          574531.6666666666,
          574922.6666666666,
          579164.25,
          578214.0833333334,
          581850.5,
          584916.6666666666,
          585760.3333333334,
          587127.0833333334,
          585393.6666666666,
          587774.6666666666,
          589396.1666666666,
          589125.4166666666,
          589351.6666666666,
          590184.0833333334,
          588879.5,
          591475.1666666666,
          591464.0833333334,
          589058.25,
          591565.0833333334,
          592126.4166666666,
          588541.6666666666,
          588662.8333333334,
          587352.3333333334,
          582807.5,
          580548.75,
          580562.4166666666,
          578374.5,
          579647.4166666666,
          582202.25,
          579305.5,
          582348.8333333334,
          582957.3333333334,
          587484.4166666666,
          590211.3333333334,
          591117.0833333334,
          598026,
          602533.0833333334,
          605964.5,
          608037.5833333334,
          597901.5,
          577812.5833333334,
          575320.9166666666,
          581791.5,
          585530.1666666666,
          598004.3333333334,
          610311.4166666666,
          620433.1666666666,
          632768.0833333334,
          638315,
          642402.0833333334,
          652017.4166666666,
          671285,
          692011.4166666666,
          707095.0833333334,
          707210.25,
          709656.3333333334,
          708715.0833333334,
          704136.75,
          705787.75,
          703597.3333333334,
          702869.5,
          701638.1666666666,
          698570.5,
          692157.0833333334,
          688574.6666666666,
          677654.5,
          662979.9166666666,
          651566.3333333334,
          638518.4166666666,
          621583.3333333334,
          601582.4166666666,
          580052,
          565914.9166666666,
          555772.5,
          543956,
          529176.9166666666,
          518753.3333333333,
          508802.8333333333,
          499947,
          492519.5,
          484111.3333333333,
          480222,
          477748.3333333333,
          474982.25,
          475623.1666666667,
          476504.25,
          472593.0833333333,
          475158.25
         ],
         "yaxis": "y"
        },
        {
         "hovertemplate": "Group=Inventory<br>Year=%{x}<br>Value (in millions)=%{y}<extra></extra>",
         "legendgroup": "Inventory",
         "marker": {
          "color": "#EF553B",
          "symbol": "circle"
         },
         "mode": "markers",
         "name": "Inventory",
         "orientation": "v",
         "showlegend": true,
         "type": "scatter",
         "x": [
          "2012-01-01T00:00:00",
          "2012-02-01T00:00:00",
          "2012-03-01T00:00:00",
          "2012-04-01T00:00:00",
          "2012-05-01T00:00:00",
          "2012-06-01T00:00:00",
          "2012-07-01T00:00:00",
          "2012-08-01T00:00:00",
          "2012-09-01T00:00:00",
          "2012-10-01T00:00:00",
          "2012-11-01T00:00:00",
          "2012-12-01T00:00:00",
          "2013-01-01T00:00:00",
          "2013-02-01T00:00:00",
          "2013-03-01T00:00:00",
          "2013-04-01T00:00:00",
          "2013-05-01T00:00:00",
          "2013-06-01T00:00:00",
          "2013-07-01T00:00:00",
          "2013-08-01T00:00:00",
          "2013-09-01T00:00:00",
          "2013-10-01T00:00:00",
          "2013-11-01T00:00:00",
          "2013-12-01T00:00:00",
          "2014-01-01T00:00:00",
          "2014-02-01T00:00:00",
          "2014-03-01T00:00:00",
          "2014-04-01T00:00:00",
          "2014-05-01T00:00:00",
          "2014-06-01T00:00:00",
          "2014-07-01T00:00:00",
          "2014-08-01T00:00:00",
          "2014-09-01T00:00:00",
          "2014-10-01T00:00:00",
          "2014-11-01T00:00:00",
          "2014-12-01T00:00:00",
          "2015-01-01T00:00:00",
          "2015-02-01T00:00:00",
          "2015-03-01T00:00:00",
          "2015-04-01T00:00:00",
          "2015-05-01T00:00:00",
          "2015-06-01T00:00:00",
          "2015-07-01T00:00:00",
          "2015-08-01T00:00:00",
          "2015-09-01T00:00:00",
          "2015-10-01T00:00:00",
          "2015-11-01T00:00:00",
          "2015-12-01T00:00:00",
          "2016-01-01T00:00:00",
          "2016-02-01T00:00:00",
          "2016-03-01T00:00:00",
          "2016-04-01T00:00:00",
          "2016-05-01T00:00:00",
          "2016-06-01T00:00:00",
          "2016-07-01T00:00:00",
          "2016-08-01T00:00:00",
          "2016-09-01T00:00:00",
          "2016-10-01T00:00:00",
          "2016-11-01T00:00:00",
          "2016-12-01T00:00:00",
          "2017-01-01T00:00:00",
          "2017-02-01T00:00:00",
          "2017-03-01T00:00:00",
          "2017-04-01T00:00:00",
          "2017-05-01T00:00:00",
          "2017-06-01T00:00:00",
          "2017-07-01T00:00:00",
          "2017-08-01T00:00:00",
          "2017-09-01T00:00:00",
          "2017-10-01T00:00:00",
          "2017-11-01T00:00:00",
          "2017-12-01T00:00:00",
          "2018-01-01T00:00:00",
          "2018-02-01T00:00:00",
          "2018-03-01T00:00:00",
          "2018-04-01T00:00:00",
          "2018-05-01T00:00:00",
          "2018-06-01T00:00:00",
          "2018-07-01T00:00:00",
          "2018-08-01T00:00:00",
          "2018-09-01T00:00:00",
          "2018-10-01T00:00:00",
          "2018-11-01T00:00:00",
          "2018-12-01T00:00:00",
          "2019-01-01T00:00:00",
          "2019-02-01T00:00:00",
          "2019-03-01T00:00:00",
          "2019-04-01T00:00:00",
          "2019-05-01T00:00:00",
          "2019-06-01T00:00:00",
          "2019-07-01T00:00:00",
          "2019-08-01T00:00:00",
          "2019-09-01T00:00:00",
          "2019-10-01T00:00:00",
          "2019-11-01T00:00:00",
          "2019-12-01T00:00:00",
          "2020-01-01T00:00:00",
          "2020-02-01T00:00:00",
          "2020-03-01T00:00:00",
          "2020-04-01T00:00:00",
          "2020-05-01T00:00:00",
          "2020-06-01T00:00:00",
          "2020-07-01T00:00:00",
          "2020-08-01T00:00:00",
          "2020-09-01T00:00:00",
          "2020-10-01T00:00:00",
          "2020-11-01T00:00:00",
          "2020-12-01T00:00:00",
          "2021-01-01T00:00:00",
          "2021-02-01T00:00:00",
          "2021-03-01T00:00:00",
          "2021-04-01T00:00:00",
          "2021-05-01T00:00:00",
          "2021-06-01T00:00:00",
          "2021-07-01T00:00:00",
          "2021-08-01T00:00:00",
          "2021-09-01T00:00:00",
          "2021-10-01T00:00:00",
          "2021-11-01T00:00:00",
          "2021-12-01T00:00:00",
          "2022-01-01T00:00:00",
          "2022-02-01T00:00:00",
          "2022-03-01T00:00:00",
          "2022-04-01T00:00:00",
          "2022-05-01T00:00:00",
          "2022-06-01T00:00:00",
          "2022-07-01T00:00:00",
          "2022-08-01T00:00:00",
          "2022-09-01T00:00:00",
          "2022-10-01T00:00:00",
          "2022-11-01T00:00:00",
          "2022-12-01T00:00:00",
          "2023-01-01T00:00:00",
          "2023-02-01T00:00:00",
          "2023-03-01T00:00:00",
          "2023-04-01T00:00:00",
          "2023-05-01T00:00:00",
          "2023-06-01T00:00:00",
          "2023-07-01T00:00:00",
          "2023-08-01T00:00:00",
          "2023-09-01T00:00:00",
          "2023-10-01T00:00:00",
          "2023-11-01T00:00:00",
          "2023-12-01T00:00:00",
          "2024-01-01T00:00:00",
          "2024-02-01T00:00:00",
          "2024-03-01T00:00:00",
          "2024-04-01T00:00:00"
         ],
         "xaxis": "x",
         "y": [
          1706129,
          1775790,
          1822328,
          1852791,
          1862776,
          1847396,
          1814817,
          1769469,
          1724127,
          1670853,
          1572742,
          1439394,
          1446323,
          1579730,
          1635207,
          1716636,
          1803149,
          1841624,
          1869748,
          1885529,
          1885933,
          1861335,
          1776190,
          1633596,
          1649915,
          1704462,
          1797068,
          1881420,
          1963388,
          2079941,
          2148633,
          2130121,
          2111292,
          2057195,
          1979985,
          1806274,
          1810506,
          1859206,
          1943938,
          2054938,
          2263884,
          2318576,
          2320450,
          2279222,
          2247174,
          2184086,
          2056362,
          1862224,
          1881712,
          1941280,
          2048199,
          2130798,
          2172643,
          2203819,
          2201472,
          2158269,
          2124527,
          2037835,
          1900216,
          1697507,
          1692437,
          1737189,
          1835008,
          1898626,
          1963404,
          2007186,
          2005092,
          1974238,
          1939840,
          1873578,
          1747848,
          1550911,
          1557573,
          1612772,
          1696192,
          1786726,
          1892893,
          1946110,
          1954676,
          1968975,
          1976965,
          1958866,
          1853825,
          1663081,
          1694999,
          1735016,
          1814420,
          1905411,
          2001177,
          2029431,
          2005491,
          1969277,
          1955705,
          1907540,
          1760495,
          1539246,
          1548423,
          1583844,
          1649724,
          1610079,
          1624925,
          1598559,
          1576773,
          1536394,
          1512558,
          1471740,
          1333855,
          1131508,
          1057388,
          1022212,
          1030139,
          1099065,
          1130854,
          1193374,
          1278314,
          1263045,
          1251352,
          1184995,
          1040429,
          848089,
          812865,
          826401,
          891296,
          994274,
          1114607,
          1306983,
          1409193,
          1387228,
          1396710,
          1371224,
          1284282,
          1121504,
          1079167,
          1046482,
          1067262,
          1074981,
          1110242,
          1151915,
          1169859,
          1204626,
          1254927,
          1276326,
          1241714,
          1112822,
          1120975,
          1169332,
          1210042,
          1246373
         ],
         "yaxis": "y"
        },
        {
         "hovertemplate": "<b>Rolling mean trendline</b><br><br>Group=Inventory<br>Year=%{x}<br>Value (in millions)=%{y} <b>(trend)</b><extra></extra>",
         "legendgroup": "Inventory",
         "marker": {
          "color": "#EF553B",
          "symbol": "circle"
         },
         "mode": "lines",
         "name": "Inventory",
         "showlegend": false,
         "type": "scatter",
         "x": [
          "2012-01-01T00:00:00",
          "2012-02-01T00:00:00",
          "2012-03-01T00:00:00",
          "2012-04-01T00:00:00",
          "2012-05-01T00:00:00",
          "2012-06-01T00:00:00",
          "2012-07-01T00:00:00",
          "2012-08-01T00:00:00",
          "2012-09-01T00:00:00",
          "2012-10-01T00:00:00",
          "2012-11-01T00:00:00",
          "2012-12-01T00:00:00",
          "2013-01-01T00:00:00",
          "2013-02-01T00:00:00",
          "2013-03-01T00:00:00",
          "2013-04-01T00:00:00",
          "2013-05-01T00:00:00",
          "2013-06-01T00:00:00",
          "2013-07-01T00:00:00",
          "2013-08-01T00:00:00",
          "2013-09-01T00:00:00",
          "2013-10-01T00:00:00",
          "2013-11-01T00:00:00",
          "2013-12-01T00:00:00",
          "2014-01-01T00:00:00",
          "2014-02-01T00:00:00",
          "2014-03-01T00:00:00",
          "2014-04-01T00:00:00",
          "2014-05-01T00:00:00",
          "2014-06-01T00:00:00",
          "2014-07-01T00:00:00",
          "2014-08-01T00:00:00",
          "2014-09-01T00:00:00",
          "2014-10-01T00:00:00",
          "2014-11-01T00:00:00",
          "2014-12-01T00:00:00",
          "2015-01-01T00:00:00",
          "2015-02-01T00:00:00",
          "2015-03-01T00:00:00",
          "2015-04-01T00:00:00",
          "2015-05-01T00:00:00",
          "2015-06-01T00:00:00",
          "2015-07-01T00:00:00",
          "2015-08-01T00:00:00",
          "2015-09-01T00:00:00",
          "2015-10-01T00:00:00",
          "2015-11-01T00:00:00",
          "2015-12-01T00:00:00",
          "2016-01-01T00:00:00",
          "2016-02-01T00:00:00",
          "2016-03-01T00:00:00",
          "2016-04-01T00:00:00",
          "2016-05-01T00:00:00",
          "2016-06-01T00:00:00",
          "2016-07-01T00:00:00",
          "2016-08-01T00:00:00",
          "2016-09-01T00:00:00",
          "2016-10-01T00:00:00",
          "2016-11-01T00:00:00",
          "2016-12-01T00:00:00",
          "2017-01-01T00:00:00",
          "2017-02-01T00:00:00",
          "2017-03-01T00:00:00",
          "2017-04-01T00:00:00",
          "2017-05-01T00:00:00",
          "2017-06-01T00:00:00",
          "2017-07-01T00:00:00",
          "2017-08-01T00:00:00",
          "2017-09-01T00:00:00",
          "2017-10-01T00:00:00",
          "2017-11-01T00:00:00",
          "2017-12-01T00:00:00",
          "2018-01-01T00:00:00",
          "2018-02-01T00:00:00",
          "2018-03-01T00:00:00",
          "2018-04-01T00:00:00",
          "2018-05-01T00:00:00",
          "2018-06-01T00:00:00",
          "2018-07-01T00:00:00",
          "2018-08-01T00:00:00",
          "2018-09-01T00:00:00",
          "2018-10-01T00:00:00",
          "2018-11-01T00:00:00",
          "2018-12-01T00:00:00",
          "2019-01-01T00:00:00",
          "2019-02-01T00:00:00",
          "2019-03-01T00:00:00",
          "2019-04-01T00:00:00",
          "2019-05-01T00:00:00",
          "2019-06-01T00:00:00",
          "2019-07-01T00:00:00",
          "2019-08-01T00:00:00",
          "2019-09-01T00:00:00",
          "2019-10-01T00:00:00",
          "2019-11-01T00:00:00",
          "2019-12-01T00:00:00",
          "2020-01-01T00:00:00",
          "2020-02-01T00:00:00",
          "2020-03-01T00:00:00",
          "2020-04-01T00:00:00",
          "2020-05-01T00:00:00",
          "2020-06-01T00:00:00",
          "2020-07-01T00:00:00",
          "2020-08-01T00:00:00",
          "2020-09-01T00:00:00",
          "2020-10-01T00:00:00",
          "2020-11-01T00:00:00",
          "2020-12-01T00:00:00",
          "2021-01-01T00:00:00",
          "2021-02-01T00:00:00",
          "2021-03-01T00:00:00",
          "2021-04-01T00:00:00",
          "2021-05-01T00:00:00",
          "2021-06-01T00:00:00",
          "2021-07-01T00:00:00",
          "2021-08-01T00:00:00",
          "2021-09-01T00:00:00",
          "2021-10-01T00:00:00",
          "2021-11-01T00:00:00",
          "2021-12-01T00:00:00",
          "2022-01-01T00:00:00",
          "2022-02-01T00:00:00",
          "2022-03-01T00:00:00",
          "2022-04-01T00:00:00",
          "2022-05-01T00:00:00",
          "2022-06-01T00:00:00",
          "2022-07-01T00:00:00",
          "2022-08-01T00:00:00",
          "2022-09-01T00:00:00",
          "2022-10-01T00:00:00",
          "2022-11-01T00:00:00",
          "2022-12-01T00:00:00",
          "2023-01-01T00:00:00",
          "2023-02-01T00:00:00",
          "2023-03-01T00:00:00",
          "2023-04-01T00:00:00",
          "2023-05-01T00:00:00",
          "2023-06-01T00:00:00",
          "2023-07-01T00:00:00",
          "2023-08-01T00:00:00",
          "2023-09-01T00:00:00",
          "2023-10-01T00:00:00",
          "2023-11-01T00:00:00",
          "2023-12-01T00:00:00",
          "2024-01-01T00:00:00",
          "2024-02-01T00:00:00",
          "2024-03-01T00:00:00",
          "2024-04-01T00:00:00"
         ],
         "xaxis": "x",
         "y": [
          null,
          null,
          null,
          null,
          null,
          null,
          null,
          null,
          null,
          null,
          null,
          1738217.6666666667,
          1716567.1666666667,
          1700228.8333333333,
          1684635.4166666667,
          1673289.1666666667,
          1668320.25,
          1667839.25,
          1672416.8333333333,
          1682088.5,
          1695572.3333333333,
          1711445.8333333333,
          1728399.8333333333,
          1744583.3333333333,
          1761549.3333333333,
          1771943.6666666667,
          1785432.0833333333,
          1799164.0833333333,
          1812517.3333333333,
          1832377.0833333333,
          1855617.5,
          1876000.1666666667,
          1894780.0833333333,
          1911101.75,
          1928084.6666666667,
          1942474.5,
          1955857.0833333333,
          1968752.4166666667,
          1980991.5833333333,
          1995451.4166666667,
          2020492.75,
          2040379,
          2054697.0833333333,
          2067122.1666666667,
          2078445.6666666667,
          2089019.9166666667,
          2095384.6666666667,
          2100047.1666666665,
          2105981,
          2112820.5,
          2121508.9166666665,
          2127830.5833333335,
          2120227.1666666665,
          2110664.0833333335,
          2100749.25,
          2090669.8333333333,
          2080449.25,
          2068261.6666666667,
          2055249.5,
          2041523.0833333333,
          2025750.1666666667,
          2008742.5833333333,
          1990976.6666666667,
          1971629,
          1954192.4166666667,
          1937806.3333333333,
          1921441.3333333333,
          1906105.4166666667,
          1890714.8333333333,
          1877026.75,
          1864329.4166666667,
          1852113.0833333333,
          1840874.4166666667,
          1830506.3333333333,
          1818938.3333333333,
          1809613.3333333333,
          1803737.4166666667,
          1798647.75,
          1794446.4166666667,
          1794007.8333333333,
          1797101.5833333333,
          1804208.9166666667,
          1813040.3333333333,
          1822387.8333333333,
          1833840,
          1844027,
          1853879.3333333333,
          1863769.75,
          1872793.4166666667,
          1879736.8333333333,
          1883971.4166666667,
          1883996.5833333333,
          1882224.9166666667,
          1877947.75,
          1870170.25,
          1859850.6666666667,
          1847636,
          1835038.3333333333,
          1821313.6666666667,
          1796702.6666666667,
          1765348.3333333333,
          1729442.3333333333,
          1693715.8333333333,
          1657642.25,
          1620713.3333333333,
          1584396.6666666667,
          1548843.3333333333,
          1514865.1666666667,
          1473945.5833333333,
          1427142.9166666667,
          1375510.8333333333,
          1332926.3333333333,
          1291753.75,
          1257988.3333333333,
          1233116.75,
          1210337.6666666667,
          1188570.5,
          1164675.0833333333,
          1140222.9166666667,
          1116604.6666666667,
          1096227.75,
          1079910.1666666667,
          1068339.9166666667,
          1059607.3333333333,
          1058253.4166666667,
          1067720.8333333333,
          1078627.4166666667,
          1088976,
          1101089.1666666667,
          1116608.25,
          1136929.3333333333,
          1159713.9166666667,
          1181905.75,
          1200245.8333333333,
          1214909.6666666667,
          1221635.25,
          1221271.5,
          1208349.1666666667,
          1188404.6666666667,
          1173187.8333333333,
          1161372.5833333333,
          1153464.4166666667,
          1149917.0833333333,
          1149193.5833333333,
          1152677.5833333333,
          1162915.0833333333,
          1174813.4166666667,
          1189096.0833333333
         ],
         "yaxis": "y"
        }
       ],
       "layout": {
        "legend": {
         "title": {
          "text": "Group"
         },
         "tracegroupgap": 0
        },
        "template": {
         "data": {
          "bar": [
           {
            "error_x": {
             "color": "#2a3f5f"
            },
            "error_y": {
             "color": "#2a3f5f"
            },
            "marker": {
             "line": {
              "color": "#E5ECF6",
              "width": 0.5
             },
             "pattern": {
              "fillmode": "overlay",
              "size": 10,
              "solidity": 0.2
             }
            },
            "type": "bar"
           }
          ],
          "barpolar": [
           {
            "marker": {
             "line": {
              "color": "#E5ECF6",
              "width": 0.5
             },
             "pattern": {
              "fillmode": "overlay",
              "size": 10,
              "solidity": 0.2
             }
            },
            "type": "barpolar"
           }
          ],
          "carpet": [
           {
            "aaxis": {
             "endlinecolor": "#2a3f5f",
             "gridcolor": "white",
             "linecolor": "white",
             "minorgridcolor": "white",
             "startlinecolor": "#2a3f5f"
            },
            "baxis": {
             "endlinecolor": "#2a3f5f",
             "gridcolor": "white",
             "linecolor": "white",
             "minorgridcolor": "white",
             "startlinecolor": "#2a3f5f"
            },
            "type": "carpet"
           }
          ],
          "choropleth": [
           {
            "colorbar": {
             "outlinewidth": 0,
             "ticks": ""
            },
            "type": "choropleth"
           }
          ],
          "contour": [
           {
            "colorbar": {
             "outlinewidth": 0,
             "ticks": ""
            },
            "colorscale": [
             [
              0,
              "#0d0887"
             ],
             [
              0.1111111111111111,
              "#46039f"
             ],
             [
              0.2222222222222222,
              "#7201a8"
             ],
             [
              0.3333333333333333,
              "#9c179e"
             ],
             [
              0.4444444444444444,
              "#bd3786"
             ],
             [
              0.5555555555555556,
              "#d8576b"
             ],
             [
              0.6666666666666666,
              "#ed7953"
             ],
             [
              0.7777777777777778,
              "#fb9f3a"
             ],
             [
              0.8888888888888888,
              "#fdca26"
             ],
             [
              1,
              "#f0f921"
             ]
            ],
            "type": "contour"
           }
          ],
          "contourcarpet": [
           {
            "colorbar": {
             "outlinewidth": 0,
             "ticks": ""
            },
            "type": "contourcarpet"
           }
          ],
          "heatmap": [
           {
            "colorbar": {
             "outlinewidth": 0,
             "ticks": ""
            },
            "colorscale": [
             [
              0,
              "#0d0887"
             ],
             [
              0.1111111111111111,
              "#46039f"
             ],
             [
              0.2222222222222222,
              "#7201a8"
             ],
             [
              0.3333333333333333,
              "#9c179e"
             ],
             [
              0.4444444444444444,
              "#bd3786"
             ],
             [
              0.5555555555555556,
              "#d8576b"
             ],
             [
              0.6666666666666666,
              "#ed7953"
             ],
             [
              0.7777777777777778,
              "#fb9f3a"
             ],
             [
              0.8888888888888888,
              "#fdca26"
             ],
             [
              1,
              "#f0f921"
             ]
            ],
            "type": "heatmap"
           }
          ],
          "heatmapgl": [
           {
            "colorbar": {
             "outlinewidth": 0,
             "ticks": ""
            },
            "colorscale": [
             [
              0,
              "#0d0887"
             ],
             [
              0.1111111111111111,
              "#46039f"
             ],
             [
              0.2222222222222222,
              "#7201a8"
             ],
             [
              0.3333333333333333,
              "#9c179e"
             ],
             [
              0.4444444444444444,
              "#bd3786"
             ],
             [
              0.5555555555555556,
              "#d8576b"
             ],
             [
              0.6666666666666666,
              "#ed7953"
             ],
             [
              0.7777777777777778,
              "#fb9f3a"
             ],
             [
              0.8888888888888888,
              "#fdca26"
             ],
             [
              1,
              "#f0f921"
             ]
            ],
            "type": "heatmapgl"
           }
          ],
          "histogram": [
           {
            "marker": {
             "pattern": {
              "fillmode": "overlay",
              "size": 10,
              "solidity": 0.2
             }
            },
            "type": "histogram"
           }
          ],
          "histogram2d": [
           {
            "colorbar": {
             "outlinewidth": 0,
             "ticks": ""
            },
            "colorscale": [
             [
              0,
              "#0d0887"
             ],
             [
              0.1111111111111111,
              "#46039f"
             ],
             [
              0.2222222222222222,
              "#7201a8"
             ],
             [
              0.3333333333333333,
              "#9c179e"
             ],
             [
              0.4444444444444444,
              "#bd3786"
             ],
             [
              0.5555555555555556,
              "#d8576b"
             ],
             [
              0.6666666666666666,
              "#ed7953"
             ],
             [
              0.7777777777777778,
              "#fb9f3a"
             ],
             [
              0.8888888888888888,
              "#fdca26"
             ],
             [
              1,
              "#f0f921"
             ]
            ],
            "type": "histogram2d"
           }
          ],
          "histogram2dcontour": [
           {
            "colorbar": {
             "outlinewidth": 0,
             "ticks": ""
            },
            "colorscale": [
             [
              0,
              "#0d0887"
             ],
             [
              0.1111111111111111,
              "#46039f"
             ],
             [
              0.2222222222222222,
              "#7201a8"
             ],
             [
              0.3333333333333333,
              "#9c179e"
             ],
             [
              0.4444444444444444,
              "#bd3786"
             ],
             [
              0.5555555555555556,
              "#d8576b"
             ],
             [
              0.6666666666666666,
              "#ed7953"
             ],
             [
              0.7777777777777778,
              "#fb9f3a"
             ],
             [
              0.8888888888888888,
              "#fdca26"
             ],
             [
              1,
              "#f0f921"
             ]
            ],
            "type": "histogram2dcontour"
           }
          ],
          "mesh3d": [
           {
            "colorbar": {
             "outlinewidth": 0,
             "ticks": ""
            },
            "type": "mesh3d"
           }
          ],
          "parcoords": [
           {
            "line": {
             "colorbar": {
              "outlinewidth": 0,
              "ticks": ""
             }
            },
            "type": "parcoords"
           }
          ],
          "pie": [
           {
            "automargin": true,
            "type": "pie"
           }
          ],
          "scatter": [
           {
            "fillpattern": {
             "fillmode": "overlay",
             "size": 10,
             "solidity": 0.2
            },
            "type": "scatter"
           }
          ],
          "scatter3d": [
           {
            "line": {
             "colorbar": {
              "outlinewidth": 0,
              "ticks": ""
             }
            },
            "marker": {
             "colorbar": {
              "outlinewidth": 0,
              "ticks": ""
             }
            },
            "type": "scatter3d"
           }
          ],
          "scattercarpet": [
           {
            "marker": {
             "colorbar": {
              "outlinewidth": 0,
              "ticks": ""
             }
            },
            "type": "scattercarpet"
           }
          ],
          "scattergeo": [
           {
            "marker": {
             "colorbar": {
              "outlinewidth": 0,
              "ticks": ""
             }
            },
            "type": "scattergeo"
           }
          ],
          "scattergl": [
           {
            "marker": {
             "colorbar": {
              "outlinewidth": 0,
              "ticks": ""
             }
            },
            "type": "scattergl"
           }
          ],
          "scattermapbox": [
           {
            "marker": {
             "colorbar": {
              "outlinewidth": 0,
              "ticks": ""
             }
            },
            "type": "scattermapbox"
           }
          ],
          "scatterpolar": [
           {
            "marker": {
             "colorbar": {
              "outlinewidth": 0,
              "ticks": ""
             }
            },
            "type": "scatterpolar"
           }
          ],
          "scatterpolargl": [
           {
            "marker": {
             "colorbar": {
              "outlinewidth": 0,
              "ticks": ""
             }
            },
            "type": "scatterpolargl"
           }
          ],
          "scatterternary": [
           {
            "marker": {
             "colorbar": {
              "outlinewidth": 0,
              "ticks": ""
             }
            },
            "type": "scatterternary"
           }
          ],
          "surface": [
           {
            "colorbar": {
             "outlinewidth": 0,
             "ticks": ""
            },
            "colorscale": [
             [
              0,
              "#0d0887"
             ],
             [
              0.1111111111111111,
              "#46039f"
             ],
             [
              0.2222222222222222,
              "#7201a8"
             ],
             [
              0.3333333333333333,
              "#9c179e"
             ],
             [
              0.4444444444444444,
              "#bd3786"
             ],
             [
              0.5555555555555556,
              "#d8576b"
             ],
             [
              0.6666666666666666,
              "#ed7953"
             ],
             [
              0.7777777777777778,
              "#fb9f3a"
             ],
             [
              0.8888888888888888,
              "#fdca26"
             ],
             [
              1,
              "#f0f921"
             ]
            ],
            "type": "surface"
           }
          ],
          "table": [
           {
            "cells": {
             "fill": {
              "color": "#EBF0F8"
             },
             "line": {
              "color": "white"
             }
            },
            "header": {
             "fill": {
              "color": "#C8D4E3"
             },
             "line": {
              "color": "white"
             }
            },
            "type": "table"
           }
          ]
         },
         "layout": {
          "annotationdefaults": {
           "arrowcolor": "#2a3f5f",
           "arrowhead": 0,
           "arrowwidth": 1
          },
          "autotypenumbers": "strict",
          "coloraxis": {
           "colorbar": {
            "outlinewidth": 0,
            "ticks": ""
           }
          },
          "colorscale": {
           "diverging": [
            [
             0,
             "#8e0152"
            ],
            [
             0.1,
             "#c51b7d"
            ],
            [
             0.2,
             "#de77ae"
            ],
            [
             0.3,
             "#f1b6da"
            ],
            [
             0.4,
             "#fde0ef"
            ],
            [
             0.5,
             "#f7f7f7"
            ],
            [
             0.6,
             "#e6f5d0"
            ],
            [
             0.7,
             "#b8e186"
            ],
            [
             0.8,
             "#7fbc41"
            ],
            [
             0.9,
             "#4d9221"
            ],
            [
             1,
             "#276419"
            ]
           ],
           "sequential": [
            [
             0,
             "#0d0887"
            ],
            [
             0.1111111111111111,
             "#46039f"
            ],
            [
             0.2222222222222222,
             "#7201a8"
            ],
            [
             0.3333333333333333,
             "#9c179e"
            ],
            [
             0.4444444444444444,
             "#bd3786"
            ],
            [
             0.5555555555555556,
             "#d8576b"
            ],
            [
             0.6666666666666666,
             "#ed7953"
            ],
            [
             0.7777777777777778,
             "#fb9f3a"
            ],
            [
             0.8888888888888888,
             "#fdca26"
            ],
            [
             1,
             "#f0f921"
            ]
           ],
           "sequentialminus": [
            [
             0,
             "#0d0887"
            ],
            [
             0.1111111111111111,
             "#46039f"
            ],
            [
             0.2222222222222222,
             "#7201a8"
            ],
            [
             0.3333333333333333,
             "#9c179e"
            ],
            [
             0.4444444444444444,
             "#bd3786"
            ],
            [
             0.5555555555555556,
             "#d8576b"
            ],
            [
             0.6666666666666666,
             "#ed7953"
            ],
            [
             0.7777777777777778,
             "#fb9f3a"
            ],
            [
             0.8888888888888888,
             "#fdca26"
            ],
            [
             1,
             "#f0f921"
            ]
           ]
          },
          "colorway": [
           "#636efa",
           "#EF553B",
           "#00cc96",
           "#ab63fa",
           "#FFA15A",
           "#19d3f3",
           "#FF6692",
           "#B6E880",
           "#FF97FF",
           "#FECB52"
          ],
          "font": {
           "color": "#2a3f5f"
          },
          "geo": {
           "bgcolor": "white",
           "lakecolor": "white",
           "landcolor": "#E5ECF6",
           "showlakes": true,
           "showland": true,
           "subunitcolor": "white"
          },
          "hoverlabel": {
           "align": "left"
          },
          "hovermode": "closest",
          "mapbox": {
           "style": "light"
          },
          "paper_bgcolor": "white",
          "plot_bgcolor": "#E5ECF6",
          "polar": {
           "angularaxis": {
            "gridcolor": "white",
            "linecolor": "white",
            "ticks": ""
           },
           "bgcolor": "#E5ECF6",
           "radialaxis": {
            "gridcolor": "white",
            "linecolor": "white",
            "ticks": ""
           }
          },
          "scene": {
           "xaxis": {
            "backgroundcolor": "#E5ECF6",
            "gridcolor": "white",
            "gridwidth": 2,
            "linecolor": "white",
            "showbackground": true,
            "ticks": "",
            "zerolinecolor": "white"
           },
           "yaxis": {
            "backgroundcolor": "#E5ECF6",
            "gridcolor": "white",
            "gridwidth": 2,
            "linecolor": "white",
            "showbackground": true,
            "ticks": "",
            "zerolinecolor": "white"
           },
           "zaxis": {
            "backgroundcolor": "#E5ECF6",
            "gridcolor": "white",
            "gridwidth": 2,
            "linecolor": "white",
            "showbackground": true,
            "ticks": "",
            "zerolinecolor": "white"
           }
          },
          "shapedefaults": {
           "line": {
            "color": "#2a3f5f"
           }
          },
          "ternary": {
           "aaxis": {
            "gridcolor": "white",
            "linecolor": "white",
            "ticks": ""
           },
           "baxis": {
            "gridcolor": "white",
            "linecolor": "white",
            "ticks": ""
           },
           "bgcolor": "#E5ECF6",
           "caxis": {
            "gridcolor": "white",
            "linecolor": "white",
            "ticks": ""
           }
          },
          "title": {
           "x": 0.05
          },
          "xaxis": {
           "automargin": true,
           "gridcolor": "white",
           "linecolor": "white",
           "ticks": "",
           "title": {
            "standoff": 15
           },
           "zerolinecolor": "white",
           "zerolinewidth": 2
          },
          "yaxis": {
           "automargin": true,
           "gridcolor": "white",
           "linecolor": "white",
           "ticks": "",
           "title": {
            "standoff": 15
           },
           "zerolinecolor": "white",
           "zerolinewidth": 2
          }
         }
        },
        "title": {
         "text": "Inventory vs Demand",
         "x": 0.5
        },
        "xaxis": {
         "anchor": "y",
         "domain": [
          0,
          1
         ],
         "title": {
          "text": "Year"
         }
        },
        "yaxis": {
         "anchor": "x",
         "domain": [
          0,
          1
         ],
         "title": {
          "text": "Houses (in millions)"
         }
        }
       }
      }
     },
     "metadata": {},
     "output_type": "display_data"
    }
   ],
   "source": [
    "inv_homesSold_agg[\"Group\"] = inv_homesSold_agg[\"Group\"].replace({\"homes_sold\": \"Homes Sold\",\"inventory\": \"Inventory\"})\n",
    "\n",
    "fig2 = px.scatter(inv_homesSold_agg, x=\"period_begin\", y=\"Value\", color=\"Group\", \n",
    "               labels={\"Value\": \"Value (in millions)\", \"period_begin\": \"Year\"},\n",
    "               title=\"Inventory vs Demand\",\n",
    "               trendline=\"rolling\", trendline_options=dict(window=12))\n",
    "fig2.update_layout(title_x=0.5)\n",
    "fig2.update_xaxes(title_text=\"Year\")\n",
    "fig2.update_yaxes(title_text=\"Houses (in millions)\")\n",
    "fig2.show()"
   ]
  },
  {
   "cell_type": "code",
   "execution_count": 117,
   "metadata": {},
   "outputs": [
    {
     "data": {
      "application/vnd.plotly.v1+json": {
       "config": {
        "plotlyServerURL": "https://plot.ly"
       },
       "data": [
        {
         "coloraxis": "coloraxis",
         "geo": "geo",
         "hovertemplate": "state_code=%{location}<br>Homes Sold=%{z}<extra></extra>",
         "locationmode": "USA-states",
         "locations": [
          "AK",
          "AL",
          "AR",
          "AZ",
          "CA",
          "CO",
          "CT",
          "DC",
          "DE",
          "FL",
          "GA",
          "HI",
          "IA",
          "ID",
          "IL",
          "IN",
          "KS",
          "KY",
          "LA",
          "MA",
          "MD",
          "ME",
          "MI",
          "MN",
          "MO",
          "MS",
          "MT",
          "NC",
          "ND",
          "NE",
          "NH",
          "NJ",
          "NM",
          "NV",
          "NY",
          "OH",
          "OK",
          "OR",
          "PA",
          "RI",
          "SC",
          "SD",
          "TN",
          "TX",
          "UT",
          "VA",
          "VT",
          "WA",
          "WI",
          "WV",
          "WY"
         ],
         "name": "",
         "type": "choropleth",
         "z": [
          183982,
          1029254,
          612498,
          2797925,
          8906895,
          2070030,
          672620,
          217137,
          152982,
          8407564,
          2166483,
          381010,
          632339,
          551670,
          3539481,
          1538131,
          717195,
          1019260,
          624500,
          2225101,
          1931359,
          170647,
          1968048,
          1657910,
          1477902,
          289338,
          190466,
          2600336,
          53764,
          402379,
          246445,
          1813027,
          164750,
          1329279,
          3534158,
          2973039,
          990391,
          1335742,
          2223567,
          370726,
          1133105,
          148452,
          1682091,
          6325797,
          1038537,
          2171209,
          74182,
          2526004,
          1199990,
          42971,
          92488
         ]
        }
       ],
       "layout": {
        "coloraxis": {
         "colorbar": {
          "title": {
           "text": "Homes Sold"
          }
         },
         "colorscale": [
          [
           0,
           "#0d0887"
          ],
          [
           0.1111111111111111,
           "#46039f"
          ],
          [
           0.2222222222222222,
           "#7201a8"
          ],
          [
           0.3333333333333333,
           "#9c179e"
          ],
          [
           0.4444444444444444,
           "#bd3786"
          ],
          [
           0.5555555555555556,
           "#d8576b"
          ],
          [
           0.6666666666666666,
           "#ed7953"
          ],
          [
           0.7777777777777778,
           "#fb9f3a"
          ],
          [
           0.8888888888888888,
           "#fdca26"
          ],
          [
           1,
           "#f0f921"
          ]
         ]
        },
        "geo": {
         "center": {},
         "domain": {
          "x": [
           0,
           1
          ],
          "y": [
           0,
           1
          ]
         },
         "scope": "usa"
        },
        "legend": {
         "tracegroupgap": 0
        },
        "template": {
         "data": {
          "bar": [
           {
            "error_x": {
             "color": "#2a3f5f"
            },
            "error_y": {
             "color": "#2a3f5f"
            },
            "marker": {
             "line": {
              "color": "#E5ECF6",
              "width": 0.5
             },
             "pattern": {
              "fillmode": "overlay",
              "size": 10,
              "solidity": 0.2
             }
            },
            "type": "bar"
           }
          ],
          "barpolar": [
           {
            "marker": {
             "line": {
              "color": "#E5ECF6",
              "width": 0.5
             },
             "pattern": {
              "fillmode": "overlay",
              "size": 10,
              "solidity": 0.2
             }
            },
            "type": "barpolar"
           }
          ],
          "carpet": [
           {
            "aaxis": {
             "endlinecolor": "#2a3f5f",
             "gridcolor": "white",
             "linecolor": "white",
             "minorgridcolor": "white",
             "startlinecolor": "#2a3f5f"
            },
            "baxis": {
             "endlinecolor": "#2a3f5f",
             "gridcolor": "white",
             "linecolor": "white",
             "minorgridcolor": "white",
             "startlinecolor": "#2a3f5f"
            },
            "type": "carpet"
           }
          ],
          "choropleth": [
           {
            "colorbar": {
             "outlinewidth": 0,
             "ticks": ""
            },
            "type": "choropleth"
           }
          ],
          "contour": [
           {
            "colorbar": {
             "outlinewidth": 0,
             "ticks": ""
            },
            "colorscale": [
             [
              0,
              "#0d0887"
             ],
             [
              0.1111111111111111,
              "#46039f"
             ],
             [
              0.2222222222222222,
              "#7201a8"
             ],
             [
              0.3333333333333333,
              "#9c179e"
             ],
             [
              0.4444444444444444,
              "#bd3786"
             ],
             [
              0.5555555555555556,
              "#d8576b"
             ],
             [
              0.6666666666666666,
              "#ed7953"
             ],
             [
              0.7777777777777778,
              "#fb9f3a"
             ],
             [
              0.8888888888888888,
              "#fdca26"
             ],
             [
              1,
              "#f0f921"
             ]
            ],
            "type": "contour"
           }
          ],
          "contourcarpet": [
           {
            "colorbar": {
             "outlinewidth": 0,
             "ticks": ""
            },
            "type": "contourcarpet"
           }
          ],
          "heatmap": [
           {
            "colorbar": {
             "outlinewidth": 0,
             "ticks": ""
            },
            "colorscale": [
             [
              0,
              "#0d0887"
             ],
             [
              0.1111111111111111,
              "#46039f"
             ],
             [
              0.2222222222222222,
              "#7201a8"
             ],
             [
              0.3333333333333333,
              "#9c179e"
             ],
             [
              0.4444444444444444,
              "#bd3786"
             ],
             [
              0.5555555555555556,
              "#d8576b"
             ],
             [
              0.6666666666666666,
              "#ed7953"
             ],
             [
              0.7777777777777778,
              "#fb9f3a"
             ],
             [
              0.8888888888888888,
              "#fdca26"
             ],
             [
              1,
              "#f0f921"
             ]
            ],
            "type": "heatmap"
           }
          ],
          "heatmapgl": [
           {
            "colorbar": {
             "outlinewidth": 0,
             "ticks": ""
            },
            "colorscale": [
             [
              0,
              "#0d0887"
             ],
             [
              0.1111111111111111,
              "#46039f"
             ],
             [
              0.2222222222222222,
              "#7201a8"
             ],
             [
              0.3333333333333333,
              "#9c179e"
             ],
             [
              0.4444444444444444,
              "#bd3786"
             ],
             [
              0.5555555555555556,
              "#d8576b"
             ],
             [
              0.6666666666666666,
              "#ed7953"
             ],
             [
              0.7777777777777778,
              "#fb9f3a"
             ],
             [
              0.8888888888888888,
              "#fdca26"
             ],
             [
              1,
              "#f0f921"
             ]
            ],
            "type": "heatmapgl"
           }
          ],
          "histogram": [
           {
            "marker": {
             "pattern": {
              "fillmode": "overlay",
              "size": 10,
              "solidity": 0.2
             }
            },
            "type": "histogram"
           }
          ],
          "histogram2d": [
           {
            "colorbar": {
             "outlinewidth": 0,
             "ticks": ""
            },
            "colorscale": [
             [
              0,
              "#0d0887"
             ],
             [
              0.1111111111111111,
              "#46039f"
             ],
             [
              0.2222222222222222,
              "#7201a8"
             ],
             [
              0.3333333333333333,
              "#9c179e"
             ],
             [
              0.4444444444444444,
              "#bd3786"
             ],
             [
              0.5555555555555556,
              "#d8576b"
             ],
             [
              0.6666666666666666,
              "#ed7953"
             ],
             [
              0.7777777777777778,
              "#fb9f3a"
             ],
             [
              0.8888888888888888,
              "#fdca26"
             ],
             [
              1,
              "#f0f921"
             ]
            ],
            "type": "histogram2d"
           }
          ],
          "histogram2dcontour": [
           {
            "colorbar": {
             "outlinewidth": 0,
             "ticks": ""
            },
            "colorscale": [
             [
              0,
              "#0d0887"
             ],
             [
              0.1111111111111111,
              "#46039f"
             ],
             [
              0.2222222222222222,
              "#7201a8"
             ],
             [
              0.3333333333333333,
              "#9c179e"
             ],
             [
              0.4444444444444444,
              "#bd3786"
             ],
             [
              0.5555555555555556,
              "#d8576b"
             ],
             [
              0.6666666666666666,
              "#ed7953"
             ],
             [
              0.7777777777777778,
              "#fb9f3a"
             ],
             [
              0.8888888888888888,
              "#fdca26"
             ],
             [
              1,
              "#f0f921"
             ]
            ],
            "type": "histogram2dcontour"
           }
          ],
          "mesh3d": [
           {
            "colorbar": {
             "outlinewidth": 0,
             "ticks": ""
            },
            "type": "mesh3d"
           }
          ],
          "parcoords": [
           {
            "line": {
             "colorbar": {
              "outlinewidth": 0,
              "ticks": ""
             }
            },
            "type": "parcoords"
           }
          ],
          "pie": [
           {
            "automargin": true,
            "type": "pie"
           }
          ],
          "scatter": [
           {
            "fillpattern": {
             "fillmode": "overlay",
             "size": 10,
             "solidity": 0.2
            },
            "type": "scatter"
           }
          ],
          "scatter3d": [
           {
            "line": {
             "colorbar": {
              "outlinewidth": 0,
              "ticks": ""
             }
            },
            "marker": {
             "colorbar": {
              "outlinewidth": 0,
              "ticks": ""
             }
            },
            "type": "scatter3d"
           }
          ],
          "scattercarpet": [
           {
            "marker": {
             "colorbar": {
              "outlinewidth": 0,
              "ticks": ""
             }
            },
            "type": "scattercarpet"
           }
          ],
          "scattergeo": [
           {
            "marker": {
             "colorbar": {
              "outlinewidth": 0,
              "ticks": ""
             }
            },
            "type": "scattergeo"
           }
          ],
          "scattergl": [
           {
            "marker": {
             "colorbar": {
              "outlinewidth": 0,
              "ticks": ""
             }
            },
            "type": "scattergl"
           }
          ],
          "scattermapbox": [
           {
            "marker": {
             "colorbar": {
              "outlinewidth": 0,
              "ticks": ""
             }
            },
            "type": "scattermapbox"
           }
          ],
          "scatterpolar": [
           {
            "marker": {
             "colorbar": {
              "outlinewidth": 0,
              "ticks": ""
             }
            },
            "type": "scatterpolar"
           }
          ],
          "scatterpolargl": [
           {
            "marker": {
             "colorbar": {
              "outlinewidth": 0,
              "ticks": ""
             }
            },
            "type": "scatterpolargl"
           }
          ],
          "scatterternary": [
           {
            "marker": {
             "colorbar": {
              "outlinewidth": 0,
              "ticks": ""
             }
            },
            "type": "scatterternary"
           }
          ],
          "surface": [
           {
            "colorbar": {
             "outlinewidth": 0,
             "ticks": ""
            },
            "colorscale": [
             [
              0,
              "#0d0887"
             ],
             [
              0.1111111111111111,
              "#46039f"
             ],
             [
              0.2222222222222222,
              "#7201a8"
             ],
             [
              0.3333333333333333,
              "#9c179e"
             ],
             [
              0.4444444444444444,
              "#bd3786"
             ],
             [
              0.5555555555555556,
              "#d8576b"
             ],
             [
              0.6666666666666666,
              "#ed7953"
             ],
             [
              0.7777777777777778,
              "#fb9f3a"
             ],
             [
              0.8888888888888888,
              "#fdca26"
             ],
             [
              1,
              "#f0f921"
             ]
            ],
            "type": "surface"
           }
          ],
          "table": [
           {
            "cells": {
             "fill": {
              "color": "#EBF0F8"
             },
             "line": {
              "color": "white"
             }
            },
            "header": {
             "fill": {
              "color": "#C8D4E3"
             },
             "line": {
              "color": "white"
             }
            },
            "type": "table"
           }
          ]
         },
         "layout": {
          "annotationdefaults": {
           "arrowcolor": "#2a3f5f",
           "arrowhead": 0,
           "arrowwidth": 1
          },
          "autotypenumbers": "strict",
          "coloraxis": {
           "colorbar": {
            "outlinewidth": 0,
            "ticks": ""
           }
          },
          "colorscale": {
           "diverging": [
            [
             0,
             "#8e0152"
            ],
            [
             0.1,
             "#c51b7d"
            ],
            [
             0.2,
             "#de77ae"
            ],
            [
             0.3,
             "#f1b6da"
            ],
            [
             0.4,
             "#fde0ef"
            ],
            [
             0.5,
             "#f7f7f7"
            ],
            [
             0.6,
             "#e6f5d0"
            ],
            [
             0.7,
             "#b8e186"
            ],
            [
             0.8,
             "#7fbc41"
            ],
            [
             0.9,
             "#4d9221"
            ],
            [
             1,
             "#276419"
            ]
           ],
           "sequential": [
            [
             0,
             "#0d0887"
            ],
            [
             0.1111111111111111,
             "#46039f"
            ],
            [
             0.2222222222222222,
             "#7201a8"
            ],
            [
             0.3333333333333333,
             "#9c179e"
            ],
            [
             0.4444444444444444,
             "#bd3786"
            ],
            [
             0.5555555555555556,
             "#d8576b"
            ],
            [
             0.6666666666666666,
             "#ed7953"
            ],
            [
             0.7777777777777778,
             "#fb9f3a"
            ],
            [
             0.8888888888888888,
             "#fdca26"
            ],
            [
             1,
             "#f0f921"
            ]
           ],
           "sequentialminus": [
            [
             0,
             "#0d0887"
            ],
            [
             0.1111111111111111,
             "#46039f"
            ],
            [
             0.2222222222222222,
             "#7201a8"
            ],
            [
             0.3333333333333333,
             "#9c179e"
            ],
            [
             0.4444444444444444,
             "#bd3786"
            ],
            [
             0.5555555555555556,
             "#d8576b"
            ],
            [
             0.6666666666666666,
             "#ed7953"
            ],
            [
             0.7777777777777778,
             "#fb9f3a"
            ],
            [
             0.8888888888888888,
             "#fdca26"
            ],
            [
             1,
             "#f0f921"
            ]
           ]
          },
          "colorway": [
           "#636efa",
           "#EF553B",
           "#00cc96",
           "#ab63fa",
           "#FFA15A",
           "#19d3f3",
           "#FF6692",
           "#B6E880",
           "#FF97FF",
           "#FECB52"
          ],
          "font": {
           "color": "#2a3f5f"
          },
          "geo": {
           "bgcolor": "white",
           "lakecolor": "white",
           "landcolor": "#E5ECF6",
           "showlakes": true,
           "showland": true,
           "subunitcolor": "white"
          },
          "hoverlabel": {
           "align": "left"
          },
          "hovermode": "closest",
          "mapbox": {
           "style": "light"
          },
          "paper_bgcolor": "white",
          "plot_bgcolor": "#E5ECF6",
          "polar": {
           "angularaxis": {
            "gridcolor": "white",
            "linecolor": "white",
            "ticks": ""
           },
           "bgcolor": "#E5ECF6",
           "radialaxis": {
            "gridcolor": "white",
            "linecolor": "white",
            "ticks": ""
           }
          },
          "scene": {
           "xaxis": {
            "backgroundcolor": "#E5ECF6",
            "gridcolor": "white",
            "gridwidth": 2,
            "linecolor": "white",
            "showbackground": true,
            "ticks": "",
            "zerolinecolor": "white"
           },
           "yaxis": {
            "backgroundcolor": "#E5ECF6",
            "gridcolor": "white",
            "gridwidth": 2,
            "linecolor": "white",
            "showbackground": true,
            "ticks": "",
            "zerolinecolor": "white"
           },
           "zaxis": {
            "backgroundcolor": "#E5ECF6",
            "gridcolor": "white",
            "gridwidth": 2,
            "linecolor": "white",
            "showbackground": true,
            "ticks": "",
            "zerolinecolor": "white"
           }
          },
          "shapedefaults": {
           "line": {
            "color": "#2a3f5f"
           }
          },
          "ternary": {
           "aaxis": {
            "gridcolor": "white",
            "linecolor": "white",
            "ticks": ""
           },
           "baxis": {
            "gridcolor": "white",
            "linecolor": "white",
            "ticks": ""
           },
           "bgcolor": "#E5ECF6",
           "caxis": {
            "gridcolor": "white",
            "linecolor": "white",
            "ticks": ""
           }
          },
          "title": {
           "x": 0.05
          },
          "xaxis": {
           "automargin": true,
           "gridcolor": "white",
           "linecolor": "white",
           "ticks": "",
           "title": {
            "standoff": 15
           },
           "zerolinecolor": "white",
           "zerolinewidth": 2
          },
          "yaxis": {
           "automargin": true,
           "gridcolor": "white",
           "linecolor": "white",
           "ticks": "",
           "title": {
            "standoff": 15
           },
           "zerolinecolor": "white",
           "zerolinewidth": 2
          }
         }
        },
        "title": {
         "text": "Total Homes Sold by State"
        }
       }
      }
     },
     "metadata": {},
     "output_type": "display_data"
    }
   ],
   "source": [
    "state_agg = df.groupby(\"state_code\").agg({\n",
    "    \"homes_sold\": \"sum\",\n",
    "    \"new_listings\": \"sum\",\n",
    "    \"price_drops\": \"mean\"\n",
    "}).reset_index()\n",
    "\n",
    "fig = px.choropleth(state_agg, \n",
    "                    locations=\"state_code\", locationmode=\"USA-states\", color=\"homes_sold\", \n",
    "                    scope=\"usa\", labels={\"homes_sold\": \"Homes Sold\"},\n",
    "                    title=\"Total Homes Sold by State\")\n",
    "fig.show()"
   ]
  }
 ],
 "metadata": {
  "kernelspec": {
   "display_name": "py3.8",
   "language": "python",
   "name": "python3"
  },
  "language_info": {
   "codemirror_mode": {
    "name": "ipython",
    "version": 3
   },
   "file_extension": ".py",
   "mimetype": "text/x-python",
   "name": "python",
   "nbconvert_exporter": "python",
   "pygments_lexer": "ipython3",
   "version": "3.8.10"
  }
 },
 "nbformat": 4,
 "nbformat_minor": 2
}
